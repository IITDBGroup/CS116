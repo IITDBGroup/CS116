{
 "cells": [
  {
   "cell_type": "markdown",
   "metadata": {},
   "source": [
    "# Interfaces\n",
    "\n",
    "Interfaces in Java allow common functionality (methods) to be declared. Several classes may implement an interface and a class may implement more than one interface. Contrast this with subclassing where in Java a class can only extend a single superclass. Interfaces would not be useful if not for the fact that it is possible to declare reference variables of a an Interface type. Similar to classes, interfaces belong to packages and are defined in a file named `<interface_name>.java`. The structure of an interface file is as follows:\n",
    "\n",
    "```java\n",
    "<package_declaration>\n",
    "<imports>\n",
    "\n",
    "<modifier> interface <interface_name> extends {\n",
    "\n",
    "...\n",
    "\n",
    "}\n",
    "```\n",
    "\n",
    "In contrast to classes, interfaces only declare methods, but typically do not provide an implementation (definition) for methods. Syntactically, a method declaration is the same as the definition except that the method body is ommitted. Since Java version 8 interfaces are allowed to implement instance (non-static) methods. Such methods are prefixed with the `default` keyword.\n",
    "\n",
    "A class can implement zero or more interfaces. These are listed as part of the class declaration like this:\n",
    "\n",
    "```java\n",
    "public class MyClass implements interface1, interface2, ... {\n",
    "    ...\n",
    "}\n",
    "```"
   ]
  },
  {
   "cell_type": "markdown",
   "metadata": {},
   "source": [
    "Say we have some classes whose instances allow us to access their fields through a method `Object getFieldValue(String fieldName)`. Any class may implement this functionality indepenent of what superclass it is derived from. Thus, it may make sense to define this method in an interface."
   ]
  },
  {
   "cell_type": "code",
   "execution_count": 2,
   "metadata": {},
   "outputs": [
    {
     "data": {
      "text/plain": [
       "lecture.GenericFieldAccessor"
      ]
     },
     "execution_count": 2,
     "metadata": {},
     "output_type": "execute_result"
    }
   ],
   "source": [
    "package lecture;\n",
    "\n",
    "public interface GenericFieldAccessor {\n",
    "    \n",
    "    // declare a method that every class implementing the interface must define\n",
    "    public Object getFieldValue(String fieldName);\n",
    "}"
   ]
  },
  {
   "cell_type": "markdown",
   "metadata": {},
   "source": [
    "Now let's define some classes that implement that interface."
   ]
  },
  {
   "cell_type": "code",
   "execution_count": 14,
   "metadata": {},
   "outputs": [
    {
     "data": {
      "text/plain": [
       "lecture.Person"
      ]
     },
     "execution_count": 14,
     "metadata": {},
     "output_type": "execute_result"
    }
   ],
   "source": [
    "package lecture;\n",
    "\n",
    "public class Person implements GenericFieldAccessor {\n",
    "    \n",
    "    private String name;\n",
    "    private int age;\n",
    "  \n",
    "    public Person (String name, int age) {\n",
    "        this.name = name;\n",
    "        this.age = age;\n",
    "    }\n",
    "    \n",
    "    public Object getFieldValue(String fieldName) {\n",
    "        if (fieldName.equals(\"name\")) {\n",
    "            return name;\n",
    "        }\n",
    "        else if (fieldName.equals(\"age\")) {\n",
    "            return new Integer(age);\n",
    "        }\n",
    "        // here we would throw an exception to indicate to the caller that the field name does not exist\n",
    "        return null;\n",
    "    }\n",
    "    \n",
    "}"
   ]
  },
  {
   "cell_type": "code",
   "execution_count": 7,
   "metadata": {},
   "outputs": [
    {
     "data": {
      "text/plain": [
       "lecture.Car"
      ]
     },
     "execution_count": 7,
     "metadata": {},
     "output_type": "execute_result"
    }
   ],
   "source": [
    "package lecture;\n",
    "\n",
    "public class Car implements GenericFieldAccessor {\n",
    "    \n",
    "    private String brand;\n",
    "    private String model;\n",
    "    private int year;\n",
    "    \n",
    "    public Car (String brand, String model, int year) {\n",
    "        this.brand = brand;\n",
    "        this.model = model;\n",
    "        this.year = year;\n",
    "    }\n",
    "    \n",
    "    public Object getFieldValue(String fieldName) {\n",
    "        if (fieldName.equals(\"brand\")) {\n",
    "            return brand;\n",
    "        }\n",
    "        if (fieldName.equals(\"model\")) {\n",
    "            return model;\n",
    "        }\n",
    "        if (fieldName.equals(\"year\")) {\n",
    "            return year;\n",
    "        }\n",
    "        return null;\n",
    "    }\n",
    "}"
   ]
  },
  {
   "cell_type": "markdown",
   "metadata": {},
   "source": [
    "Now we can call the `getFieldValue` method from any object of a class that implements the `GenericFieldAccessor` interface:"
   ]
  },
  {
   "cell_type": "code",
   "execution_count": 25,
   "metadata": {},
   "outputs": [
    {
     "name": "stdout",
     "output_type": "stream",
     "text": [
      "Person x has name Peter and age 59\n",
      "Car y has brand Porsche and model 311\n"
     ]
    },
    {
     "data": {
      "text/plain": [
       "null"
      ]
     },
     "execution_count": 25,
     "metadata": {},
     "output_type": "execute_result"
    }
   ],
   "source": [
    "import lecture.Person;\n",
    "import lecture.Car;\n",
    "import lecture.GenericFieldAccessor;\n",
    "\n",
    "GenericFieldAccessor x = new Person(\"Peter\", 59);\n",
    "GenericFieldAccessor y = new Car(\"Porsche\", \"311\", 1979);\n",
    "\n",
    "System.out.println(String.format(\"Person x has name %s and age %d\", x.getFieldValue(\"name\"), x.getFieldValue(\"age\")));\n",
    "System.out.println(String.format(\"Car y has brand %s and model %s\", y.getFieldValue(\"brand\"), y.getFieldValue(\"model\")));"
   ]
  },
  {
   "cell_type": "markdown",
   "metadata": {},
   "source": [
    "## Inheritance\n",
    "\n",
    "In Java, an interface can be inherited from another interface. "
   ]
  },
  {
   "cell_type": "markdown",
   "metadata": {},
   "source": [
    "So far, `GenericFieldAccessor` is not that useful. First of a client still has to know exactly which fields a class provides. Futhermore, we still have to add this annoying boilerplate code to every class that implements the interface. We will solve the first problem now and come back to the second problem when we talk about **reflection**.\n"
   ]
  },
  {
   "cell_type": "code",
   "execution_count": 20,
   "metadata": {},
   "outputs": [
    {
     "data": {
      "text/plain": [
       "lecture.GenericFieldAccessorPlus"
      ]
     },
     "execution_count": 20,
     "metadata": {},
     "output_type": "execute_result"
    }
   ],
   "source": [
    "package lecture;\n",
    "\n",
    "public interface GenericFieldAccessorPlus extends GenericFieldAccessor {\n",
    "    \n",
    "    public String[] getFieldNames();\n",
    "}\n"
   ]
  },
  {
   "cell_type": "code",
   "execution_count": 21,
   "metadata": {},
   "outputs": [
    {
     "data": {
      "text/plain": [
       "lecture.PersonPlus"
      ]
     },
     "execution_count": 21,
     "metadata": {},
     "output_type": "execute_result"
    }
   ],
   "source": [
    "package lecture;\n",
    "\n",
    "public class PersonPlus implements GenericFieldAccessorPlus {\n",
    "    \n",
    "    private String name;\n",
    "    private int age;\n",
    "\n",
    "    public PersonPlus (String name, int age) {\n",
    "        this.name = name;\n",
    "        this.age = age;\n",
    "    }\n",
    "    \n",
    "    public Object getFieldValue(String fieldName) {\n",
    "        if (fieldName.equals(\"name\")) {\n",
    "            return name;\n",
    "        }\n",
    "        else if (fieldName.equals(\"age\")) {\n",
    "            return new Integer(age);\n",
    "        }\n",
    "        // here we would throw an exception to indicate to the caller that the field name does not exist\n",
    "        return null;\n",
    "    }\n",
    " \n",
    "    public String[] getFieldNames() {\n",
    "        return new String[]{ \"name\" , \"age\"};\n",
    "    }\n",
    "    \n",
    "}"
   ]
  },
  {
   "cell_type": "code",
   "execution_count": 24,
   "metadata": {},
   "outputs": [
    {
     "name": "stdout",
     "output_type": "stream",
     "text": [
      "field <name> has value <Peter>\n",
      "field <age> has value <59>\n"
     ]
    },
    {
     "data": {
      "text/plain": [
       "null"
      ]
     },
     "execution_count": 24,
     "metadata": {},
     "output_type": "execute_result"
    }
   ],
   "source": [
    "import lecture.PersonPlus;\n",
    "import lecture.GenericFieldAccessorPlus;\n",
    "\n",
    "GenericFieldAccessorPlus x = new PersonPlus(\"Peter\", 59);\n",
    "\n",
    "for(String fieldName: x.getFieldNames()) {\n",
    "    System.out.println(String.format(\"field <%s> has value <%s>\", fieldName, x.getFieldValue(fieldName).toString()));\n",
    "}\n"
   ]
  },
  {
   "cell_type": "code",
   "execution_count": null,
   "metadata": {},
   "outputs": [],
   "source": []
  }
 ],
 "metadata": {
  "kernelspec": {
   "display_name": "Java",
   "language": "java",
   "name": "java"
  },
  "language_info": {
   "codemirror_mode": "text/x-java",
   "file_extension": ".java",
   "mimetype": "",
   "name": "Java",
   "nbconverter_exporter": "",
   "version": "1.8.0_152-release"
  },
  "toc": {
   "base_numbering": 1,
   "nav_menu": {},
   "number_sections": false,
   "sideBar": false,
   "skip_h1_title": false,
   "title_cell": "Table of Contents",
   "title_sidebar": "Contents",
   "toc_cell": false,
   "toc_position": {},
   "toc_section_display": false,
   "toc_window_display": false
  }
 },
 "nbformat": 4,
 "nbformat_minor": 2
}

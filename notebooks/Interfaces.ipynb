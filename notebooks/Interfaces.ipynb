{
 "cells": [
  {
   "cell_type": "markdown",
   "metadata": {},
   "source": [
    "# Interfaces\n",
    "\n",
    "Interfaces in Java allow common functionality (methods) to be declared. Several classes may implement an interface and a class may implement more than one interface. Contrast this with subclassing where in Java a class can only extend a single superclass. Interfaces would not be useful if not for the fact that it is possible to declare reference variables of a an Interface type. Similar to classes, interfaces belong to packages and are defined in a file named `<interface_name>.java`. The structure of an interface file is as follows:\n",
    "\n",
    "```java\n",
    "<package_declaration>\n",
    "<imports>\n",
    "\n",
    "<modifier> interface <interface_name> extends {\n",
    "\n",
    "...\n",
    "\n",
    "}\n",
    "```\n",
    "\n",
    "In contrast to classes, interfaces only declare methods, but typically do not provide an implementation (definition) for methods. Syntactically, a method declaration is the same as the definition except that the method body is ommitted. Since Java version 8 interfaces are allowed to implement instance (non-static) methods. Such methods are prefixed with the `default` keyword.\n",
    "\n",
    "A class can implement zero or more interfaces. These are listed as part of the class declaration like this:\n",
    "\n",
    "```java\n",
    "public class MyClass implements interface1, interface2, ... {\n",
    "    ...\n",
    "}\n",
    "```"
   ]
  },
  {
   "cell_type": "markdown",
   "metadata": {},
   "source": [
    "Say we have some classes whose instances allow us to access their fields through a method `Object getFieldValue(String fieldName)`. Any class may implement this functionality indepenent of what superclass it is derived from. Thus, it may make sense to define this method in an interface."
   ]
  },
  {
   "cell_type": "code",
   "execution_count": 2,
   "metadata": {},
   "outputs": [
    {
     "data": {
      "text/plain": [
       "lecture.GenericFieldAccessor"
      ]
     },
     "execution_count": 2,
     "metadata": {},
     "output_type": "execute_result"
    }
   ],
   "source": [
    "package lecture;\n",
    "\n",
    "public interface GenericFieldAccessor {\n",
    "    \n",
    "    // declare a method that every class implementing the interface must define\n",
    "    public Object getFieldValue(String fieldName);\n",
    "}"
   ]
  },
  {
   "cell_type": "markdown",
   "metadata": {},
   "source": [
    "Now let's define some classes that implement that interface."
   ]
  },
  {
   "cell_type": "code",
   "execution_count": 14,
   "metadata": {},
   "outputs": [
    {
     "data": {
      "text/plain": [
       "lecture.Person"
      ]
     },
     "execution_count": 14,
     "metadata": {},
     "output_type": "execute_result"
    }
   ],
   "source": [
    "package lecture;\n",
    "\n",
    "public class Person implements GenericFieldAccessor {\n",
    "    \n",
    "    private String name;\n",
    "    private int age;\n",
    "  \n",
    "    public Person (String name, int age) {\n",
    "        this.name = name;\n",
    "        this.age = age;\n",
    "    }\n",
    "    \n",
    "    public Object getFieldValue(String fieldName) {\n",
    "        if (fieldName.equals(\"name\")) {\n",
    "            return name;\n",
    "        }\n",
    "        else if (fieldName.equals(\"age\")) {\n",
    "            return new Integer(age);\n",
    "        }\n",
    "        // here we would throw an exception to indicate to the caller that the field name does not exist\n",
    "        return null;\n",
    "    }\n",
    "    \n",
    "}"
   ]
  },
  {
   "cell_type": "code",
   "execution_count": 7,
   "metadata": {},
   "outputs": [
    {
     "data": {
      "text/plain": [
       "lecture.Car"
      ]
     },
     "execution_count": 7,
     "metadata": {},
     "output_type": "execute_result"
    }
   ],
   "source": [
    "package lecture;\n",
    "\n",
    "public class Car implements GenericFieldAccessor {\n",
    "    \n",
    "    private String brand;\n",
    "    private String model;\n",
    "    private int year;\n",
    "    \n",
    "    public Car (String brand, String model, int year) {\n",
    "        this.brand = brand;\n",
    "        this.model = model;\n",
    "        this.year = year;\n",
    "    }\n",
    "    \n",
    "    public Object getFieldValue(String fieldName) {\n",
    "        if (fieldName.equals(\"brand\")) {\n",
    "            return brand;\n",
    "        }\n",
    "        if (fieldName.equals(\"model\")) {\n",
    "            return model;\n",
    "        }\n",
    "        if (fieldName.equals(\"year\")) {\n",
    "            return year;\n",
    "        }\n",
    "        return null;\n",
    "    }\n",
    "}"
   ]
  },
  {
   "cell_type": "markdown",
   "metadata": {},
   "source": [
    "Now we can call the `getFieldValue` method from any object of a class that implements the `GenericFieldAccessor` interface:"
   ]
  },
  {
   "cell_type": "code",
   "execution_count": 25,
   "metadata": {},
   "outputs": [
    {
     "name": "stdout",
     "output_type": "stream",
     "text": [
      "Person x has name Peter and age 59\n",
      "Car y has brand Porsche and model 311\n"
     ]
    },
    {
     "data": {
      "text/plain": [
       "null"
      ]
     },
     "execution_count": 25,
     "metadata": {},
     "output_type": "execute_result"
    }
   ],
   "source": [
    "import lecture.Person;\n",
    "import lecture.Car;\n",
    "import lecture.GenericFieldAccessor;\n",
    "\n",
    "GenericFieldAccessor x = new Person(\"Peter\", 59);\n",
    "GenericFieldAccessor y = new Car(\"Porsche\", \"311\", 1979);\n",
    "\n",
    "System.out.println(String.format(\"Person x has name %s and age %d\", x.getFieldValue(\"name\"), x.getFieldValue(\"age\")));\n",
    "System.out.println(String.format(\"Car y has brand %s and model %s\", y.getFieldValue(\"brand\"), y.getFieldValue(\"model\")));"
   ]
  },
  {
   "cell_type": "markdown",
   "metadata": {},
   "source": [
    "## Inheritance\n",
    "\n",
    "In Java, an interface can be inherited from another interface. "
   ]
  },
  {
   "cell_type": "markdown",
   "metadata": {},
   "source": [
    "So far, `GenericFieldAccessor` is not that useful. First of a client still has to know exactly which fields a class provides. Futhermore, we still have to add this annoying boilerplate code to every class that implements the interface. We will solve the first problem now and come back to the second problem when we talk about **reflection**.\n"
   ]
  },
  {
   "cell_type": "code",
   "execution_count": 20,
   "metadata": {},
   "outputs": [
    {
     "data": {
      "text/plain": [
       "lecture.GenericFieldAccessorPlus"
      ]
     },
     "execution_count": 20,
     "metadata": {},
     "output_type": "execute_result"
    }
   ],
   "source": [
    "package lecture;\n",
    "\n",
    "public interface GenericFieldAccessorPlus extends GenericFieldAccessor {\n",
    "    \n",
    "    public String[] getFieldNames();\n",
    "}\n"
   ]
  },
  {
   "cell_type": "code",
   "execution_count": 21,
   "metadata": {},
   "outputs": [
    {
     "data": {
      "text/plain": [
       "lecture.PersonPlus"
      ]
     },
     "execution_count": 21,
     "metadata": {},
     "output_type": "execute_result"
    }
   ],
   "source": [
    "package lecture;\n",
    "\n",
    "public class PersonPlus implements GenericFieldAccessorPlus {\n",
    "    \n",
    "    private String name;\n",
    "    private int age;\n",
    "\n",
    "    public PersonPlus (String name, int age) {\n",
    "        this.name = name;\n",
    "        this.age = age;\n",
    "    }\n",
    "    \n",
    "    public Object getFieldValue(String fieldName) {\n",
    "        if (fieldName.equals(\"name\")) {\n",
    "            return name;\n",
    "        }\n",
    "        else if (fieldName.equals(\"age\")) {\n",
    "            return new Integer(age);\n",
    "        }\n",
    "        // here we would throw an exception to indicate to the caller that the field name does not exist\n",
    "        return null;\n",
    "    }\n",
    " \n",
    "    public String[] getFieldNames() {\n",
    "        return new String[]{ \"name\" , \"age\"};\n",
    "    }\n",
    "    \n",
    "}"
   ]
  },
  {
   "cell_type": "code",
   "execution_count": 24,
   "metadata": {},
   "outputs": [
    {
     "name": "stdout",
     "output_type": "stream",
     "text": [
      "field <name> has value <Peter>\n",
      "field <age> has value <59>\n"
     ]
    },
    {
     "data": {
      "text/plain": [
       "null"
      ]
     },
     "execution_count": 24,
     "metadata": {},
     "output_type": "execute_result"
    }
   ],
   "source": [
    "import lecture.PersonPlus;\n",
    "import lecture.GenericFieldAccessorPlus;\n",
    "\n",
    "GenericFieldAccessorPlus x = new PersonPlus(\"Peter\", 59);\n",
    "\n",
    "for(String fieldName: x.getFieldNames()) {\n",
    "    System.out.println(String.format(\"field <%s> has value <%s>\", fieldName, x.getFieldValue(fieldName).toString()));\n",
    "}\n"
   ]
  },
  {
   "cell_type": "markdown",
   "metadata": {},
   "source": [
    "## Default methods in interfaces\n",
    "\n",
    "As an example for `default` methods consider a scenario where we did created the  `GenericFieldAccessor` interface and have already created several classes that implement this interface. Now if we want to extend this interface to add the `getFieldNames` method. If we do this, then we have to extend all classes implementing this interface with an implementation of this method. For better backward compatibility we could provide a `default` implementation to avoid having to change all of these classes."
   ]
  },
  {
   "cell_type": "code",
   "execution_count": 14,
   "metadata": {},
   "outputs": [
    {
     "data": {
      "text/plain": [
       "lecture.GenericFieldAccessorDefault"
      ]
     },
     "execution_count": 14,
     "metadata": {},
     "output_type": "execute_result"
    }
   ],
   "source": [
    "package lecture;\n",
    "\n",
    "public interface GenericFieldAccessorDefault extends GenericFieldAccessor {\n",
    "    \n",
    "    // declare a method that every class implementing the interface must define\n",
    "    public default Object getFieldNames() throws UnsupportedOperationException {\n",
    "        throw new UnsupportedOperationException(\"not implemented by this class\");\n",
    "    }\n",
    "}"
   ]
  },
  {
   "cell_type": "code",
   "execution_count": 15,
   "metadata": {},
   "outputs": [
    {
     "data": {
      "text/plain": [
       "lecture.PersonDefault"
      ]
     },
     "execution_count": 15,
     "metadata": {},
     "output_type": "execute_result"
    }
   ],
   "source": [
    "package lecture;\n",
    "\n",
    "public class PersonDefault implements GenericFieldAccessorDefault {\n",
    "    \n",
    "    private String name;\n",
    "    private int age;\n",
    "  \n",
    "    public PersonDefault (String name, int age) {\n",
    "        this.name = name;\n",
    "        this.age = age;\n",
    "    }\n",
    "    \n",
    "    public Object getFieldValue(String fieldName) {\n",
    "        if (fieldName.equals(\"name\")) {\n",
    "            return name;\n",
    "        }\n",
    "        else if (fieldName.equals(\"age\")) {\n",
    "            return new Integer(age);\n",
    "        }\n",
    "        // here we would throw an exception to indicate to the caller that the field name does not exist\n",
    "        return null;\n",
    "    }\n",
    "    \n",
    "}"
   ]
  },
  {
   "cell_type": "code",
   "execution_count": 16,
   "metadata": {},
   "outputs": [
    {
     "ename": "ERROR",
     "evalue": " java.lang.UnsupportedOperationException",
     "output_type": "error",
     "traceback": [
      "\u001b[1;31mERROR: java.lang.UnsupportedOperationException: not implemented by this class\u001b[0;0m"
     ]
    }
   ],
   "source": [
    "import lecture.GenericFieldAccessorDefault;\n",
    "import lecture.PersonDefault;\n",
    "    \n",
    "GenericFieldAccessorDefault g = new PersonDefault(\"Peter\", 13);\n",
    "g.getFieldNames();"
   ]
  },
  {
   "cell_type": "markdown",
   "metadata": {},
   "source": [
    "# Abstract Classes\n",
    "\n",
    "Abstract classes are used to implement common functionality in a class hierarchy that does not result in a fully functional class. An abstract class can mix fully implemented methods and `abstract` methods that are declared (like in an interface) but not implemented. It is not possible to create instances of an abstract class. A non-abstract class extending an abstract class has to provide implementations for all of its abstract methods.\n",
    "\n",
    "Differences between abstract classes and interfaces:\n",
    "\n",
    "* Interfaces can only define static fields\n",
    "* Interfaces allow for multiple inheritence"
   ]
  },
  {
   "cell_type": "markdown",
   "metadata": {},
   "source": [
    "# Nested Classes\n",
    "\n",
    "A nested class is a class which is defined in the top-level block of another class. Nested (and only nested) classes can be static. A typical use case for nested classes are helper classes that are strongly associated with the class utilizing them. For instance, the `ListCell` of list class would be a good example. Nested classes are referenced using their enclosing class like this: `OuterClass.InnerClass`. Instances of a  non-static nested class can only be created using an instance of the enclosing class (called the **outer** class). The syntax for doing this outside of the enclosing classs is:\n",
    "\n",
    "```java\n",
    "OuterClass x = new OuterClass();\n",
    "OuterClass.InnerClass inner  = x.new InnerClass(); \n",
    "```\n",
    "Within the enclosing class it instances are just created using new, e.g., `new InnerClass()`.\n",
    "For static nested classes this is not required and the syntax to instantiate them is:\n",
    "\n",
    "```java\n",
    "OuterClass.StaticInnerClass inner = new OuterClass.StaticInnerClass();\n",
    "```"
   ]
  },
  {
   "cell_type": "code",
   "execution_count": 35,
   "metadata": {},
   "outputs": [
    {
     "data": {
      "text/plain": [
       "lecture.List"
      ]
     },
     "execution_count": 35,
     "metadata": {},
     "output_type": "execute_result"
    }
   ],
   "source": [
    "package lecture;\n",
    "\n",
    "// List with nested class for list cells\n",
    "public class List {\n",
    "    \n",
    "    public class ListCell {\n",
    "        public String val;\n",
    "        public ListCell next;\n",
    "        \n",
    "        public ListCell(String val) {\n",
    "            this.val = val;\n",
    "            this.next = null;\n",
    "        }\n",
    "    }\n",
    "    \n",
    "    private ListCell head;\n",
    "    private ListCell tail;\n",
    "    private int size;\n",
    "    \n",
    "    public List () {\n",
    "        size = 0;\n",
    "        head = null;\n",
    "        tail = null;\n",
    "    }\n",
    "    \n",
    "    public void append(String val) {\n",
    "        ListCell newTail = new ListCell(val);\n",
    "\n",
    "        if (head == null) {\n",
    "            head = newTail;\n",
    "            tail = newTail;    \n",
    "        }\n",
    "        else {\n",
    "            tail.next = newTail;\n",
    "            tail = newTail;\n",
    "        }\n",
    "        size++;\n",
    "    }\n",
    "    \n",
    "    public String get(int pos) {\n",
    "        ListCell cur = null;\n",
    "        if (pos < 0 || pos >= size)\n",
    "            throw new IndexOutOfBoundsException();\n",
    "        \n",
    "        for(int i = 0; i < pos; i++)\n",
    "            cur = cur.next;\n",
    "        \n",
    "        return cur.val;\n",
    "    }\n",
    "    \n",
    "    public String toString() {\n",
    "        StringBuilder b = new StringBuilder();\n",
    "        ListCell cur = head;\n",
    "        \n",
    "        b.append('[');\n",
    "        while(cur != null) {\n",
    "            b.append(cur.val);\n",
    "            if (cur.next != null)\n",
    "                b.append(\", \");\n",
    "            cur = cur.next;\n",
    "        }\n",
    "        b.append(']');\n",
    "        return b.toString();\n",
    "    }\n",
    "    \n",
    "}"
   ]
  },
  {
   "cell_type": "code",
   "execution_count": 36,
   "metadata": {},
   "outputs": [
    {
     "data": {
      "text/plain": [
       "[A, B, C]"
      ]
     },
     "execution_count": 36,
     "metadata": {},
     "output_type": "execute_result"
    }
   ],
   "source": [
    "import lecture.List;\n",
    "\n",
    "List a = new List();\n",
    "a.append(\"A\");\n",
    "a.append(\"B\");\n",
    "a.append(\"C\");\n",
    "\n",
    "// create a list cell outside of the list class (just for illustration)\n",
    "a.new ListCell(\"test\");\n",
    "\n",
    "return a.toString();"
   ]
  },
  {
   "cell_type": "markdown",
   "metadata": {},
   "source": [
    "# Anonymous classes\n",
    "\n",
    "Sometimes a class will only be instantiated once. For instance, when using a comparator to sort a collection, there may only be the need to instantiate this class once and use this single instance for sorting collections of this type. Creating a separate `.java` file for such a class may be overkill. Java supports this use case through anonymous classes which defined as part of a `new` statement."
   ]
  },
  {
   "cell_type": "code",
   "execution_count": 27,
   "metadata": {},
   "outputs": [
    {
     "data": {
      "text/plain": [
       "[agbA, asdasdB, asdasC, abcD]"
      ]
     },
     "execution_count": 27,
     "metadata": {},
     "output_type": "execute_result"
    }
   ],
   "source": [
    "import java.util.Comparator;\n",
    "import java.util.ArrayList;\n",
    "import java.util.Collections;\n",
    "\n",
    "ArrayList<String> a = new ArrayList<String> ();\n",
    "a.add(\"abcD\");\n",
    "a.add(\"agbA\");\n",
    "a.add(\"asdasC\");\n",
    "a.add(\"asdasdB\");\n",
    "\n",
    "Comparator<String> lastCharComp = new Comparator<String> () {\n",
    "    \n",
    "    public int compare(String o1, String o2) {\n",
    "        char last1 = o1.charAt(o1.length() - 1);\n",
    "        char last2 = o2.charAt(o2.length() - 1);\n",
    "        \n",
    "        if (last1 < last2)\n",
    "            return -1;\n",
    "        if (last1 > last2)\n",
    "            return 1;\n",
    "        return 0;\n",
    "    }\n",
    "    \n",
    "};\n",
    "\n",
    "Collections.sort(a, lastCharComp);\n",
    "return a;"
   ]
  }
 ],
 "metadata": {
  "kernelspec": {
   "display_name": "Java",
   "language": "java",
   "name": "java"
  },
  "language_info": {
   "codemirror_mode": "text/x-java",
   "file_extension": ".java",
   "mimetype": "",
   "name": "Java",
   "nbconverter_exporter": "",
   "version": "1.8.0_152-release"
  },
  "toc": {
   "base_numbering": 1,
   "nav_menu": {},
   "number_sections": false,
   "sideBar": false,
   "skip_h1_title": false,
   "title_cell": "Table of Contents",
   "title_sidebar": "Contents",
   "toc_cell": false,
   "toc_position": {},
   "toc_section_display": false,
   "toc_window_display": false
  }
 },
 "nbformat": 4,
 "nbformat_minor": 2
}

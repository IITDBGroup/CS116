{
 "cells": [
  {
   "cell_type": "markdown",
   "metadata": {},
   "source": [
    "# Arrays\n",
    "\n",
    "Arrays are sequences of elements of a given type. In Java arrays of primitive types and arrays of objects are allowed. \n",
    "\n",
    "## Declaring and creating array types\n",
    "\n",
    "An array of type `T` is declared as `T[]`, e.g., `int[]` would be an array of type `int`. Arrays are objects in Java. That is new arrays are created using `new`. When creating an array the size of the array is provided in square brackets. For instance, `new T[3]` creates an array of size 3 that holds elements of type `T`. The elements of an array of a primitive type are initialized to the default value of that type while the elements of an array of an Object type are initialized to `null`.\n",
    "\n",
    "## Accessing the elements of an array\n",
    "\n",
    "Given an array variable `x`, the element stored at position `i` is accessed using `x[i]`. **Note that positions are counted starting at 0**.\n",
    "\n",
    "## Array literals\n",
    "\n",
    "In Java an array literal is a list of elements separated by `,` that is enclosed in `{}`. For example, `{ 1, 3, 4 }` is a literal `int` array containing the elements `1`, `3`, and `4`.\n",
    "\n",
    "## Determining the length of an array\n",
    "\n",
    "The length of an array `x` is accessed by `x.length`."
   ]
  },
  {
   "cell_type": "code",
   "execution_count": 1,
   "metadata": {},
   "outputs": [
    {
     "name": "stdout",
     "output_type": "stream",
     "text": [
      "x = [0, 0, 0]\n",
      "x = [4, 0, 5]\n"
     ]
    },
    {
     "data": {
      "text/plain": [
       "3"
      ]
     },
     "execution_count": 1,
     "metadata": {},
     "output_type": "execute_result"
    }
   ],
   "source": [
    "// declare a reference variable for an object of type int[] and assign it a newly created int array of size 3 \n",
    "int[] x = new int[3];\n",
    "\n",
    "// since int is a primitive type the arrays elements are set to 0, the default value of int\n",
    "System.out.println(String.format(\"x = [%d, %d, %d]\", x[0], x[1], x[2]));\n",
    "\n",
    "// now let's set the first elment (position 0) to 4 and the 3rd element (position 2) to 5\n",
    "x[0] = 4;\n",
    "x[2] = 5;\n",
    "\n",
    "System.out.println(String.format(\"x = [%d, %d, %d]\", x[0], x[1], x[2]));\n",
    "\n",
    "// get length (3)\n",
    "return x.length;"
   ]
  },
  {
   "cell_type": "code",
   "execution_count": 2,
   "metadata": {},
   "outputs": [
    {
     "name": "stdout",
     "output_type": "stream",
     "text": [
      "x = [1, 2, 4]\n"
     ]
    },
    {
     "data": {
      "text/plain": [
       "[1, 4, 5]"
      ]
     },
     "execution_count": 2,
     "metadata": {},
     "output_type": "execute_result"
    }
   ],
   "source": [
    "// using array literals \n",
    "int[] x = {1,2,4};\n",
    "\n",
    "System.out.println(String.format(\"x = [%d, %d, %d]\", x[0], x[1], x[2]));\n",
    "\n",
    "// outside of intialization you new need to use the syntax new T[]{...}\n",
    "return new int[]{1,4,5};"
   ]
  },
  {
   "cell_type": "markdown",
   "metadata": {},
   "source": [
    "Since arrays are objects, equality comparison on arrays tests whetehr two arrays correspond to the same object, not whether they contain the same values"
   ]
  },
  {
   "cell_type": "code",
   "execution_count": 4,
   "metadata": {},
   "outputs": [
    {
     "data": {
      "text/plain": [
       "true"
      ]
     },
     "execution_count": 4,
     "metadata": {},
     "output_type": "execute_result"
    }
   ],
   "source": [
    "int[] x = {1,2};\n",
    "int[] y = {1,2};\n",
    "\n",
    "return x == y;"
   ]
  },
  {
   "cell_type": "markdown",
   "metadata": {},
   "source": [
    "Since arrays are objects they do not provide the methods such as `toString()` available for all other object types through `Object`. For instance, the `equals` method is defined for arrays (not overridden)."
   ]
  },
  {
   "cell_type": "code",
   "execution_count": 5,
   "metadata": {},
   "outputs": [
    {
     "data": {
      "text/plain": [
       "false"
      ]
     },
     "execution_count": 5,
     "metadata": {},
     "output_type": "execute_result"
    }
   ],
   "source": [
    "int[] x = {1,2};\n",
    "int[] y = {1,2};\n",
    "return x.equals(y);"
   ]
  },
  {
   "cell_type": "code",
   "execution_count": 6,
   "metadata": {},
   "outputs": [
    {
     "data": {
      "text/plain": [
       "false"
      ]
     },
     "execution_count": 6,
     "metadata": {},
     "output_type": "execute_result"
    }
   ],
   "source": [
    "String[] x = { \"Peter\", \"Bob\"};\n",
    "String[] y = { \"Peter\", \"Bob\"};\n",
    "return x.equals(y);"
   ]
  },
  {
   "cell_type": "markdown",
   "metadata": {},
   "source": [
    "## The Arrays class\n",
    "\n",
    "Typically, when comparing arrays for equality or serializing them as strings, we would like to do this element-wise using the corresponding method implemented for the element type. The `Arrays` class of  Java serves this need by providing static methods that implement this functionality. See the documentation of this class: [javadoc](https://docs.oracle.com/en/java/javase/11/docs/api/java.base/java/util/Arrays.html)"
   ]
  },
  {
   "cell_type": "code",
   "execution_count": 7,
   "metadata": {},
   "outputs": [
    {
     "data": {
      "text/plain": [
       "[I@4e8fc73a"
      ]
     },
     "execution_count": 7,
     "metadata": {},
     "output_type": "execute_result"
    }
   ],
   "source": [
    "int[] x = {1,2,3};\n",
    "return x.toString(); // this is not useful"
   ]
  },
  {
   "cell_type": "code",
   "execution_count": 8,
   "metadata": {},
   "outputs": [
    {
     "data": {
      "text/plain": [
       "[1, 2, 3]"
      ]
     },
     "execution_count": 8,
     "metadata": {},
     "output_type": "execute_result"
    }
   ],
   "source": [
    "import java.util.Arrays;\n",
    "int[] x = {1,2,3};\n",
    "return Arrays.toString(x);"
   ]
  },
  {
   "cell_type": "code",
   "execution_count": 9,
   "metadata": {},
   "outputs": [
    {
     "data": {
      "text/plain": [
       "false"
      ]
     },
     "execution_count": 9,
     "metadata": {},
     "output_type": "execute_result"
    }
   ],
   "source": [
    "String[] x = { \"Peter\", \"Bob\"};\n",
    "String[] y = { \"Peter\", \"Bob\"};\n",
    "return x.equals(y); // they are not the same objects, so they are not equals"
   ]
  },
  {
   "cell_type": "code",
   "execution_count": 10,
   "metadata": {},
   "outputs": [
    {
     "data": {
      "text/plain": [
       "true"
      ]
     },
     "execution_count": 10,
     "metadata": {},
     "output_type": "execute_result"
    }
   ],
   "source": [
    "import java.util.Arrays;\n",
    "String[] x = { \"Peter\", \"Bob\"};\n",
    "String[] y = { \"Peter\", \"Bob\"};\n",
    "return Arrays.equals(x,y); // all of their elements are equals (using String.equals) -> they are equal"
   ]
  },
  {
   "cell_type": "markdown",
   "metadata": {},
   "source": [
    "# Collections\n",
    "\n",
    "Java provides a rich set of collection types that are defined though a hierarchy of interfaces and classes implementing these interfaces. We will only cover some of the collections here. See [https://docs.oracle.com/en/java/javase/11/docs/api/java.base/java/util/package-summary.html](https://docs.oracle.com/en/java/javase/11/docs/api/java.base/java/util/package-summary.html) for the full list. The highest level interface defined for collection is `Collection`. This interface defines basic methods that are implemented by all Collections including:\n",
    "\n",
    "* `add(E e)` adds and element to the collection\n",
    "* `addAll(Collection c)` adds all element from collection `c` to the current collection\n",
    "* `contains(Object o)` checks wether object `o` is contained in the collection. Objects are compared using `equals`\n",
    "* `iterator()` returns an iterator for the collection (more about iterators below)\n",
    "* `toArray()` returns an array with the elements stored in the collection\n",
    "* `isEmpty()` return `true` if the collections is empty.\n",
    "* `size()` returns the number of elements stored in the collection\n",
    "* `remove(Object o)` removes Object `o` from the collection (if it exits). Objects are compared using `equals`\n",
    "\n",
    "Relevant subinterfaces are lists (`List`), sets (`Set`), maps (`Map`). We will cover some implementations of these interface in the following.\n",
    "\n",
    "Collections store elements of a certain type. This is implemented using **generics** that will be covered in a later notebook. For now, just note that when creating a collection you have to specify the class of the elements that you want to store in the collection when declaring a variable of this collection type and when creating an instance like so:\n",
    "\n",
    "```java\n",
    "List<String> mystringlist = new ArrayList<String> ();\n",
    "```\n",
    "\n",
    "Note that a collection of type `T` can be used to store any subclass of `T` too. "
   ]
  },
  {
   "cell_type": "markdown",
   "metadata": {},
   "source": [
    "### Vector\n",
    "\n",
    "A vector [https://docs.oracle.com/en/java/javase/11/docs/api/java.base/java/util/Vector.html](https://docs.oracle.com/en/java/javase/11/docs/api/java.base/java/util/Vector.html) is a an extensible array that allow elements to be accessed by position. Some important methods are:\n",
    "\n",
    "* `get(int position)` returns the element stored at `position`\n",
    "* `add(Object o)` append object `o` to the end of the vector\n",
    "* `set(int index, E element)` replaces the element at position `index` with `element`"
   ]
  },
  {
   "cell_type": "code",
   "execution_count": 1,
   "metadata": {},
   "outputs": [
    {
     "data": {
      "text/plain": [
       "[1, 2, 3]"
      ]
     },
     "execution_count": 1,
     "metadata": {},
     "output_type": "execute_result"
    }
   ],
   "source": [
    "import java.util.Vector;\n",
    "\n",
    "// create a Vector for storing Integers\n",
    "Vector<Integer> x = new Vector<Integer> ();\n",
    "x.add(1);\n",
    "x.add(2);\n",
    "x.add(3);\n",
    "\n",
    "return x;"
   ]
  },
  {
   "cell_type": "code",
   "execution_count": 2,
   "metadata": {},
   "outputs": [
    {
     "data": {
      "text/plain": [
       "[1, 5]"
      ]
     },
     "execution_count": 2,
     "metadata": {},
     "output_type": "execute_result"
    }
   ],
   "source": [
    "import java.util.Vector;\n",
    "\n",
    "// create a Vector for storing Integers\n",
    "Vector<Integer> x = new Vector<Integer> ();\n",
    "x.add(1);\n",
    "x.add(2);\n",
    "x.add(3);\n",
    "\n",
    "// remove 2\n",
    "x.remove(2); // remove 2 \n",
    "x.set(1, 5); // replace the second element (now 3) with 5\n",
    "return x;"
   ]
  },
  {
   "cell_type": "code",
   "execution_count": 3,
   "metadata": {},
   "outputs": [
    {
     "data": {
      "text/plain": [
       "3"
      ]
     },
     "execution_count": 3,
     "metadata": {},
     "output_type": "execute_result"
    }
   ],
   "source": [
    "import java.util.Vector;\n",
    "\n",
    "// create a Vector for storing Integers\n",
    "Vector<Integer> x = new Vector<Integer> ();\n",
    "x.add(1);\n",
    "x.add(2);\n",
    "x.add(3);\n",
    "\n",
    "return x.size();"
   ]
  },
  {
   "cell_type": "code",
   "execution_count": 4,
   "metadata": {},
   "outputs": [
    {
     "data": {
      "text/plain": [
       "[A, B, C]"
      ]
     },
     "execution_count": 4,
     "metadata": {},
     "output_type": "execute_result"
    }
   ],
   "source": [
    "import java.util.Vector;\n",
    "\n",
    "// create a Vector for storing Integers\n",
    "Vector<String> x = new Vector<String> ();\n",
    "x.add(\"A\");\n",
    "x.add(\"B\");\n",
    "x.add(\"C\");\n",
    "\n",
    "return x;"
   ]
  },
  {
   "cell_type": "code",
   "execution_count": 2,
   "metadata": {},
   "outputs": [
    {
     "data": {
      "text/plain": [
       "lecture.EqualIsNotEqual"
      ]
     },
     "execution_count": 2,
     "metadata": {},
     "output_type": "execute_result"
    }
   ],
   "source": [
    "package lecture;\n",
    "\n",
    "public class EqualIsNotEqual {\n",
    "    \n",
    "    int a;\n",
    "    int b;\n",
    "    \n",
    "    public EqualIsNotEqual (int a, int b) {\n",
    "        this.a = a;\n",
    "        this.b = b;\n",
    "    }\n",
    "    \n",
    "    public boolean equals(Object o) {\n",
    "        if (!(o instanceof EqualIsNotEqual))\n",
    "            return false;\n",
    "        EqualIsNotEqual ob = (EqualIsNotEqual) o;\n",
    "        return ob.a == this.a;\n",
    "    }\n",
    "}"
   ]
  },
  {
   "cell_type": "markdown",
   "metadata": {},
   "source": [
    "Two `EqualIsNotEqual` objects are considered equal if their a values are the same."
   ]
  },
  {
   "cell_type": "code",
   "execution_count": 3,
   "metadata": {},
   "outputs": [
    {
     "data": {
      "text/plain": [
       "true"
      ]
     },
     "execution_count": 3,
     "metadata": {},
     "output_type": "execute_result"
    }
   ],
   "source": [
    "import lecture.EqualIsNotEqual;\n",
    "\n",
    "EqualIsNotEqual x = new EqualIsNotEqual(1,1);\n",
    "EqualIsNotEqual y = new EqualIsNotEqual(1,2);\n",
    "return x.equals(y);"
   ]
  },
  {
   "cell_type": "markdown",
   "metadata": {},
   "source": [
    "Searching in a collection uses `equals`"
   ]
  },
  {
   "cell_type": "code",
   "execution_count": 4,
   "metadata": {},
   "outputs": [
    {
     "data": {
      "text/plain": [
       "true"
      ]
     },
     "execution_count": 4,
     "metadata": {},
     "output_type": "execute_result"
    }
   ],
   "source": [
    "import lecture.EqualIsNotEqual;\n",
    "import java.util.Vector;\n",
    "\n",
    "EqualIsNotEqual x = new EqualIsNotEqual(1,1);\n",
    "EqualIsNotEqual y = new EqualIsNotEqual(1,2);\n",
    "\n",
    "Vector<EqualIsNotEqual> v = new Vector<EqualIsNotEqual>();\n",
    "v.add(x);\n",
    "\n",
    "return v.contains(y);"
   ]
  },
  {
   "cell_type": "markdown",
   "metadata": {},
   "source": [
    "## Iterators\n",
    "\n",
    "Iterators all the iteration over all elements from a set. To get an interator for a collection its `iterator()` method. The two main methods of an iterator are `hasMore()` which  returns `true` if there are still more elements to iterate over and `next()` which returns the next element from the collection."
   ]
  },
  {
   "cell_type": "code",
   "execution_count": 5,
   "metadata": {},
   "outputs": [
    {
     "name": "stdout",
     "output_type": "stream",
     "text": [
      "1\n",
      "2\n",
      "3\n"
     ]
    },
    {
     "data": {
      "text/plain": [
       "null"
      ]
     },
     "execution_count": 5,
     "metadata": {},
     "output_type": "execute_result"
    }
   ],
   "source": [
    "import java.util.Vector;\n",
    "import java.util.Iterator;\n",
    "\n",
    "// create a Vector for storing Integers\n",
    "Vector<Integer> x = new Vector<Integer> ();\n",
    "x.add(1);\n",
    "x.add(2);\n",
    "x.add(3);\n",
    "\n",
    "Iterator<Integer> it = x.iterator();\n",
    "while(it.hasNext()) {\n",
    "    System.out.println(\"\" + it.next());\n",
    "}"
   ]
  },
  {
   "cell_type": "markdown",
   "metadata": {},
   "source": [
    "Java also allows the iteration over the elements of a collection or array using a `for` loop like this: `for( <type> <varname>: <collection)` which in each iteration binds one element from `<collection>` to variable `<varname>`. "
   ]
  },
  {
   "cell_type": "code",
   "execution_count": 21,
   "metadata": {},
   "outputs": [
    {
     "name": "stdout",
     "output_type": "stream",
     "text": [
      "1\n",
      "2\n",
      "3\n"
     ]
    },
    {
     "data": {
      "text/plain": [
       "null"
      ]
     },
     "execution_count": 21,
     "metadata": {},
     "output_type": "execute_result"
    }
   ],
   "source": [
    "import java.util.Vector;\n",
    "import java.util.Iterator;\n",
    "\n",
    "// create a Vector for storing Integers\n",
    "Vector<Integer> x = new Vector<Integer> ();\n",
    "x.add(1);\n",
    "x.add(2);\n",
    "x.add(3);\n",
    "\n",
    "for(Integer i: x) {\n",
    "    System.out.println(\"\" + i);\n",
    "}"
   ]
  },
  {
   "cell_type": "markdown",
   "metadata": {},
   "source": [
    "## Sets\n",
    "\n",
    "A set is an unordered collection. An element can either be in a set or not. Two example implementation of the `Set` interface are\n",
    "\n",
    "* `HashSet` is backed up by a HashMap (see below)."
   ]
  },
  {
   "cell_type": "code",
   "execution_count": 10,
   "metadata": {},
   "outputs": [
    {
     "data": {
      "text/plain": [
       "lecture.MySet"
      ]
     },
     "execution_count": 10,
     "metadata": {},
     "output_type": "execute_result"
    }
   ],
   "source": [
    "package lecture;\n",
    "\n",
    "import java.util.List;\n",
    "import java.util.ArrayList;\n",
    "\n",
    "\n",
    "\n",
    "public class MySet {\n",
    "    \n",
    "    private List<String> el;\n",
    "\n",
    "    public MySet() {\n",
    "        el = new ArrayList<String>();\n",
    "    }\n",
    "    \n",
    "    public int numEls () {\n",
    "        return el.size();\n",
    "    }\n",
    "    \n",
    "    public void add(String e) {\n",
    "        if (!el.contains(e))\n",
    "            el.add(e);\n",
    "    }\n",
    "    \n",
    "    public boolean contains(String e) {\n",
    "        return el.contains(e);\n",
    "    }\n",
    "    \n",
    "}"
   ]
  },
  {
   "cell_type": "code",
   "execution_count": 11,
   "metadata": {},
   "outputs": [
    {
     "data": {
      "text/plain": [
       "false"
      ]
     },
     "execution_count": 11,
     "metadata": {},
     "output_type": "execute_result"
    }
   ],
   "source": [
    "import lecture.MySet;\n",
    "\n",
    "MySet x = new MySet();\n",
    "x.add(\"Peter\");\n",
    "return x.contains(\"Alice\");"
   ]
  },
  {
   "cell_type": "code",
   "execution_count": null,
   "metadata": {},
   "outputs": [],
   "source": [
    "package lecture;\n",
    "\n",
    "public class "
   ]
  },
  {
   "cell_type": "code",
   "execution_count": 2,
   "metadata": {},
   "outputs": [
    {
     "data": {
      "text/plain": [
       "x has Peter: true, x has Alice: true"
      ]
     },
     "execution_count": 2,
     "metadata": {},
     "output_type": "execute_result"
    }
   ],
   "source": [
    "import java.util.Set;\n",
    "import java.util.HashSet;\n",
    "\n",
    "Set x = new HashSet<String> ();\n",
    "\n",
    "x.add(\"Peter\");\n",
    "x.add(\"Bob\");\n",
    "x.add(\"Alice\");\n",
    "\n",
    "// x contains \"Peter\" but not \"Alice\"\n",
    "return String.format(\"x has Peter: %b, x has Alice: %b\", x.contains(\"Peter\"), x.contains(\"Alice\"));"
   ]
  },
  {
   "cell_type": "markdown",
   "metadata": {},
   "source": [
    "### BitSets\n",
    "\n",
    "`BitSet` uses a single bit in a array of type byte to record whether the element at certain position is in the set."
   ]
  },
  {
   "cell_type": "code",
   "execution_count": 25,
   "metadata": {},
   "outputs": [
    {
     "data": {
      "text/plain": [
       "x has 1: true, x has 2: false"
      ]
     },
     "execution_count": 25,
     "metadata": {},
     "output_type": "execute_result"
    }
   ],
   "source": [
    "import java.util.BitSet;\n",
    "\n",
    "BitSet x = new BitSet ();\n",
    "\n",
    "x.set(1);\n",
    "x.set(3);\n",
    "\n",
    "// x contains 1 but not 2\n",
    "\n",
    "return String.format(\"x has 1: %b, x has 2: %b\", x.get(1), x.get(2));"
   ]
  },
  {
   "cell_type": "markdown",
   "metadata": {},
   "source": [
    "## Lists\n",
    "\n",
    "Similar to vectors, lists contain a sequence of elements. We will consider two implementation of the `List` interface:\n",
    "\n",
    "* `ArrayList` internally uses an array to store the elements of the list. This has the advantage that accessing the element at some position is fast (computational complexity is $O(1)$). However, inserting at a position within the list can be expesive since all following elements have to be moved (computational complexity is $O(n)$).\n",
    "* `LinkedList` uses points to connect list elements. That makes insertion at the beginning and end of the list fast ($O(1)$), while accessing an element at an arbitrary position is slow ($O(n)$)."
   ]
  },
  {
   "cell_type": "markdown",
   "metadata": {},
   "source": [
    "## Dynamic arrays\n",
    "\n",
    "Array lists and vectors are both implemented using the concept of a dynamic array. The idea is create an array of size `n` (some fixed constant). Once the list outgrows the array, a larger array is created, and the elements are copied from the original to the larger array. From the on the larger array is used. That is, if the current array is of size `n` and an operation cases the list to grow to `n+1` elements, then a new array is created. Of course we have the freedom of choosing the size of the new array as long as it is can hold at least `n+1` elements. As it turns out it is beneficial to always double the size of the array., e.g., from $n$ to $2n$ because otherwise insertion will be in `O(n)`. When doubling the array size, then insertion has **amortized** complexity of `O(1)`. Here amortized means that while a single insertion may cost more than `O(1)`, inserting `n` elements is in `O(n)`. That is, the high complexity of some insertions is balanced out by the low complexity of other operators."
   ]
  },
  {
   "cell_type": "code",
   "execution_count": 26,
   "metadata": {},
   "outputs": [
    {
     "data": {
      "text/plain": [
       "[Peter, Bob, Alice]"
      ]
     },
     "execution_count": 26,
     "metadata": {},
     "output_type": "execute_result"
    }
   ],
   "source": [
    "import java.util.ArrayList;\n",
    "\n",
    "ArrayList<String> x = new ArrayList<String>();\n",
    "x.add(\"Peter\");\n",
    "x.add(\"Bob\");\n",
    "x.add(\"Alice\");\n",
    "\n",
    "return x;"
   ]
  },
  {
   "cell_type": "markdown",
   "metadata": {},
   "source": [
    "### Linked list\n",
    "\n",
    "A linked list datastructure uses a class `ListElement` to store elements in the list which has a field to store a data element and a field `next` of type `ListElement` pointing to the next element of the list. The linked list then has a single field `ListElement` referencing the first element in the list (often called its `head`). To search an element `e` in a linked list, one starts at the `head` and follows the `next` references until either the end of the list is reached (the last list element has `next` set to `null`) or the element is found. For instance, a sketch of a possible implementation of a `String` list (without methods for searching, inserting, ...) is shown below:\n",
    "\n",
    "```java\n",
    "public class StringList {\n",
    "    StringListElement head;\n",
    "}\n",
    "\n",
    "public class StringListElement {\n",
    "    StringListElement next;\n",
    "    String data;\n",
    "}\n",
    "```\n",
    "\n",
    "The above implementation is what is called a singly linked list. In a doubly linked list (which Java's `LinkedList` class uses) each element has an additional field `previous`  pointing to the previous element in the list which allows for backwards navigation. Often list implementation use and additional field to store the list size (otherwise computing the size of a list would be $O(n)$) and also maintain a pointer to the `tail` (the last element in the last) for $O(1)$ insertation at the end of the list."
   ]
  },
  {
   "cell_type": "code",
   "execution_count": 58,
   "metadata": {},
   "outputs": [
    {
     "data": {
      "text/plain": [
       "[Peter, Bob, Alice]"
      ]
     },
     "execution_count": 58,
     "metadata": {},
     "output_type": "execute_result"
    }
   ],
   "source": [
    "import java.util.LinkedList;\n",
    "\n",
    "LinkedList<String> x = new LinkedList<String>();\n",
    "x.add(\"Peter\");\n",
    "x.add(\"Bob\");\n",
    "x.add(\"Alice\");\n",
    "\n",
    "return x;"
   ]
  },
  {
   "cell_type": "markdown",
   "metadata": {},
   "source": [
    "### Maps\n",
    "\n",
    "As the name suggest `Maps` associate **keys** to **values**. Thus, for maps you have to specify two type: the type of keys to be used and the type of values to be used. \n",
    "\n",
    "* `put(K key, V value)` - associates the object `value` with the key `key`\n",
    "* `get(Object key)` - returns the value associated with `key` (or `null` is the key is not in the map)\n",
    "\n",
    "There are many possible ways of how maps can be implemented. Here we will consider two such implementations: `HashMap` and `TreeMap`. A `TreeMap` also provides sorted access to the keys stored in the map while the hash map does not."
   ]
  },
  {
   "cell_type": "markdown",
   "metadata": {},
   "source": [
    "### Background on Hash Tables\n",
    "\n",
    "A `HashMap` uses a data structure called hash table. A hash table uses a function `h` (the **hash function**) that maps objects to integer values within a certain range, say `[0,n-1]` with the requirement that `h(o) = h(o')` if `o` and `o` are two objects that are equal. Internally, a hash table maintains an array `table` of size `n` storing linked lists. The linked list at `table[i]` called a **bucket** stores all key-value pairs for keys `k` where `h(k) = i`. To insert a new key value pair `(k,v)` we compute `h(k)`, then search through the linked list at `table[h(k)]`. If the key `k` already exists in the linked list then the value associated with this key replaced with `v`. If not then `(k,v)` is appended at the end of the list. To search for a key `k` we again compute `h(k)` and then loop through the list at `table[h(k)]` comparing each key in the list with `k`. If we find a key that is equal to `k` then we return the corresponding value.\n",
    "\n",
    "In Java's implementation of `HashMap` the `hashCode` method of objects is used as the hash function."
   ]
  },
  {
   "cell_type": "markdown",
   "metadata": {},
   "source": [
    "Example class defining its own equality and hashCode methods. Note that for `hashCode` to work properly, it has to be compatible with `equals`. That is, for any two objects `o1` and `o2` if `o1.equals(o2)` then `o1.hashCode() == o2.hashCode()`."
   ]
  },
  {
   "cell_type": "code",
   "execution_count": 3,
   "metadata": {},
   "outputs": [
    {
     "data": {
      "text/plain": [
       "lecture.Person"
      ]
     },
     "execution_count": 3,
     "metadata": {},
     "output_type": "execute_result"
    }
   ],
   "source": [
    "package lecture;\n",
    "\n",
    "public class Person {\n",
    "    \n",
    "    public String name;\n",
    "    public String ssn;\n",
    "    public String address;\n",
    "    public int salary;\n",
    "    \n",
    "    public Person(String name, String ssn, String address, int salary) {\n",
    "        this.ssn = ssn;\n",
    "        this.name = name;\n",
    "        this.address = address;\n",
    "        this.salary = salary;\n",
    "    }\n",
    "    \n",
    "    // two persons are considered equal if they have the same ssn and name\n",
    "    @Override\n",
    "    public boolean equals (Object o) {\n",
    "        if (!(o instanceof Person))\n",
    "            return false;\n",
    "        \n",
    "        Person op = (Person) o;\n",
    "        \n",
    "        return op.ssn.equals(ssn)\n",
    "                && op.name.equals(name);\n",
    "    }\n",
    "    \n",
    "    @Override\n",
    "    public int hashCode() {\n",
    "        // return the bitwise xor of the name and the ssns hashcode\n",
    "        return this.name.hashCode() ^ this.ssn.hashCode(); \n",
    "    }\n",
    "    \n",
    "    public String toString() {\n",
    "        return String.format(\"<Name: %s, SSN: %s, Address: %s, Salary: %d>\", name, ssn, address, salary);\n",
    "    }\n",
    "    \n",
    "}"
   ]
  },
  {
   "cell_type": "code",
   "execution_count": 4,
   "metadata": {},
   "outputs": [
    {
     "name": "stdout",
     "output_type": "stream",
     "text": [
      "true\n",
      "-1269805907\n",
      "-1269805907\n"
     ]
    },
    {
     "data": {
      "text/plain": [
       "null"
      ]
     },
     "execution_count": 4,
     "metadata": {},
     "output_type": "execute_result"
    }
   ],
   "source": [
    "import lecture.Person;\n",
    "\n",
    "// now let's test the equality and hashcode\n",
    "Person p1 = new Person(\"Pete\", \"123-456-7890\", \"Chicago, IL, 60616\", 3000);\n",
    "Person p2 = new Person(\"Pete\", \"123-456-7890\", \"Springfield, IL, 50324\", 50000);\n",
    "\n",
    "System.out.println(p1.equals(p2));\n",
    "System.out.println(\"\" + p1.hashCode());\n",
    "System.out.println(\"\" + p2.hashCode());"
   ]
  },
  {
   "cell_type": "code",
   "execution_count": 5,
   "metadata": {},
   "outputs": [
    {
     "data": {
      "application/vnd.jupyter.widget-view+json": {
       "model_id": "517e7c12-b91c-4710-be4e-8a90cf5f5f6d",
       "version_major": 2,
       "version_minor": 0
      },
      "method": "display_data"
     },
     "metadata": {},
     "output_type": "display_data"
    }
   ],
   "source": [
    "import lecture.Person;\n",
    "import java.util.HashMap;\n",
    "\n",
    "// now let's create a hashtable that maps ssns to persons \n",
    "Person pete = new Person(\"Pete\", \"123-456-7890\", \"Chicago, IL, 60616\", 0);\n",
    "Person alice = new Person(\"Alice\", \"111-111-1111\", \"Springfield, IL, 50324\", 100000);\n",
    "Person bob = new Person(\"Bob\", \"555-555-5555\", \"Chicago, IL, 60615\", 20000);\n",
    "\n",
    "HashMap<String,Person> map = new HashMap<String,Person> ();\n",
    "map.put(pete.ssn, pete);\n",
    "map.put(bob.ssn, bob);\n",
    "map.put(alice.ssn, alice);\n",
    "\n",
    "return map;"
   ]
  },
  {
   "cell_type": "markdown",
   "metadata": {},
   "source": [
    "# Creating Collections\n",
    "\n",
    "The Collections API provides convenient ways for creating collections from object. For lists and sets this is the `of` method. The `of` method is variadic, i.e., it takes an arbitrary number of parameters (the elements to store in the collections)."
   ]
  },
  {
   "cell_type": "markdown",
   "metadata": {},
   "source": [
    "## Sorting Lists and Comparable\n",
    "\n",
    "Java provides methods for sorting collections. This functionality and other convenience functions are provided through a class called `Collections`. Here we are interested in the `sort` methods:\n",
    "\n",
    "* `sort(List<T> list)` sorts the list `list` of element type `T`. The class `T` must implement the interface `Comparable<T2>` where `T2` has to be a superclass of `T`.\n",
    "* `sort(List<T> list, Comparator<? super T> c)` sorts the list `list` using the `Comparator` `c`.\n",
    "\n",
    "The `Comparator<T>` interface defines a single method `compare(T o1, T o2)` that compares two objects of type `T` according to some `total order` and returns `0` if the objects are the same, a negative integer is the first element is less than the second element, and a positive integer if the first elements is larger than the second element.\n"
   ]
  },
  {
   "cell_type": "code",
   "execution_count": 56,
   "metadata": {},
   "outputs": [
    {
     "data": {
      "text/plain": [
       "lecture.SalaryComparator"
      ]
     },
     "execution_count": 56,
     "metadata": {},
     "output_type": "execute_result"
    }
   ],
   "source": [
    "package lecture;\n",
    "\n",
    "import java.util.Comparator;\n",
    "import lecture.Person;\n",
    "\n",
    "public class SalaryComparator implements Comparator<Person> {\n",
    "    \n",
    "    public int compare(Person o1, Person o2) {\n",
    "        if (o1 == o2)\n",
    "            return 0;\n",
    "        if (o1.salary != o2.salary)\n",
    "            return (o1.salary < o2.salary) ? -1 : 1;\n",
    "        return 0;\n",
    "    }\n",
    "    \n",
    "}"
   ]
  },
  {
   "cell_type": "code",
   "execution_count": 57,
   "metadata": {},
   "outputs": [
    {
     "data": {
      "text/plain": [
       "[<Name: Bob, SSN: 555-555-5555, Address: Chicago, IL, 60615, Salary: 20000>, <Name: Pete, SSN: 123-456-7890, Address: Chicago, IL, 60616, Salary: 30000>, <Name: Alice, SSN: 111-111-1111, Address: Springfield, IL, 50324, Salary: 100000>]"
      ]
     },
     "execution_count": 57,
     "metadata": {},
     "output_type": "execute_result"
    }
   ],
   "source": [
    "import java.util.List;\n",
    "import java.util.ArrayList;\n",
    "import java.util.Collections;\n",
    "\n",
    "import lecture.Person;\n",
    "import lecture.SalaryComparator;\n",
    "\n",
    "// let's sort a list of persons according to their salary\n",
    "\n",
    "Person pete = new Person(\"Pete\", \"123-456-7890\", \"Chicago, IL, 60616\", 30000);\n",
    "Person alice = new Person(\"Alice\", \"111-111-1111\", \"Springfield, IL, 50324\", 100000);\n",
    "Person bob = new Person(\"Bob\", \"555-555-5555\", \"Chicago, IL, 60615\", 20000);\n",
    "\n",
    "List<Person> l = new ArrayList<Person> ();\n",
    "l.add(pete);\n",
    "l.add(alice);\n",
    "l.add(bob);\n",
    "\n",
    "Collections.sort(l, new SalaryComparator()); // sort based on salary\n",
    "\n",
    "return l;"
   ]
  }
 ],
 "metadata": {
  "kernelspec": {
   "display_name": "Java",
   "language": "java",
   "name": "java"
  },
  "language_info": {
   "codemirror_mode": "text/x-java",
   "file_extension": ".java",
   "mimetype": "",
   "name": "Java",
   "nbconverter_exporter": "",
   "version": "11.0.1"
  },
  "toc": {
   "base_numbering": 1,
   "nav_menu": {},
   "number_sections": false,
   "sideBar": false,
   "skip_h1_title": false,
   "title_cell": "Table of Contents",
   "title_sidebar": "Contents",
   "toc_cell": false,
   "toc_position": {},
   "toc_section_display": false,
   "toc_window_display": false
  }
 },
 "nbformat": 4,
 "nbformat_minor": 2
}

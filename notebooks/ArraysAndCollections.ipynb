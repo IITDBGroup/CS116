{
 "cells": [
  {
   "cell_type": "markdown",
   "metadata": {},
   "source": [
    "# Arrays\n",
    "\n",
    "Arrays are sequences of elements of a given type. In Java arrays of primitive types and arrays of objects are allowed. \n",
    "\n",
    "## Declaring and creating array types\n",
    "\n",
    "An array of type `T` is declared as `T[]`, e.g., `int[]` would be an array of type `int`. Arrays are objects in Java. That is new arrays are created using `new`. When creating an array the size of the array is provided in square brackets. For instance, `new T[3]` creates an array of size 3 that holds elements of type `T`. The elements of an array of a primitive type are initialized to the default value of that type while the elements of an array of an Object type are initialized to `null`.\n",
    "\n",
    "## Accessing the elements of an array\n",
    "\n",
    "Given an array variable `x`, the element stored at position `i` is accessed using `x[i]`. **Note that positions are counted starting at 0**.\n",
    "\n",
    "## Array literals\n",
    "\n",
    "In Java an array literal is a list of elements separated by `,` that is enclosed in `{}`. For example, `{ 1, 3, 4 }` is a literal `int` array containing the elements `1`, `3`, and `4`.\n",
    "\n",
    "## Determining the length of an array\n",
    "\n",
    "The length of an array `x` is accessed by `x.length`."
   ]
  },
  {
   "cell_type": "code",
   "execution_count": 8,
   "metadata": {},
   "outputs": [
    {
     "name": "stdout",
     "output_type": "stream",
     "text": [
      "x = [0, 0, 0]\n",
      "x = [4, 0, 5]\n"
     ]
    },
    {
     "data": {
      "text/plain": [
       "3"
      ]
     },
     "execution_count": 8,
     "metadata": {},
     "output_type": "execute_result"
    }
   ],
   "source": [
    "// declare a reference variable for an object of type int[] and assign it a newly created int array of size 3 \n",
    "int[] x = new int[3];\n",
    "\n",
    "// since int is a primitive type the arrays elements are set to 0, the default value of int\n",
    "System.out.println(String.format(\"x = [%d, %d, %d]\", x[0], x[1], x[2]));\n",
    "\n",
    "// now let's set the first elment (position 0) to 4 and the 3rd element (position 2) to 5\n",
    "x[0] = 4;\n",
    "x[2] = 5;\n",
    "\n",
    "System.out.println(String.format(\"x = [%d, %d, %d]\", x[0], x[1], x[2]));\n",
    "\n",
    "// get length (3)\n",
    "return x.length;"
   ]
  },
  {
   "cell_type": "code",
   "execution_count": 6,
   "metadata": {},
   "outputs": [
    {
     "name": "stdout",
     "output_type": "stream",
     "text": [
      "x = [1, 2, 4]\n"
     ]
    },
    {
     "data": {
      "text/plain": [
       "[1, 4, 5]"
      ]
     },
     "execution_count": 6,
     "metadata": {},
     "output_type": "execute_result"
    }
   ],
   "source": [
    "// using array literals \n",
    "int[] x = {1,2,4};\n",
    "\n",
    "System.out.println(String.format(\"x = [%d, %d, %d]\", x[0], x[1], x[2]));\n",
    "\n",
    "// outside of intialization you new need to use the syntax new T[]{...}\n",
    "return new int[]{1,4,5};"
   ]
  },
  {
   "cell_type": "markdown",
   "metadata": {},
   "source": [
    "Since arrays are objects, equality comparison on arrays tests whetehr two arrays correspond to the same object, not whether they contain the same values"
   ]
  },
  {
   "cell_type": "code",
   "execution_count": 7,
   "metadata": {},
   "outputs": [
    {
     "data": {
      "text/plain": [
       "false"
      ]
     },
     "execution_count": 7,
     "metadata": {},
     "output_type": "execute_result"
    }
   ],
   "source": [
    "int[] x = {1,2};\n",
    "int[] y = {1,2};\n",
    "\n",
    "return x == y;"
   ]
  },
  {
   "cell_type": "markdown",
   "metadata": {},
   "source": [
    "Since arrays are objects they do not provide the methods such as `toString()` available for all other object types through `Object`. For instance, the `equals` method is defined for arrays (not overridden)."
   ]
  },
  {
   "cell_type": "code",
   "execution_count": 12,
   "metadata": {},
   "outputs": [
    {
     "data": {
      "text/plain": [
       "false"
      ]
     },
     "execution_count": 12,
     "metadata": {},
     "output_type": "execute_result"
    }
   ],
   "source": [
    "int[] x = {1,2};\n",
    "int[] y = {1,2};\n",
    "return x.equals(y);"
   ]
  },
  {
   "cell_type": "code",
   "execution_count": 13,
   "metadata": {},
   "outputs": [
    {
     "data": {
      "text/plain": [
       "false"
      ]
     },
     "execution_count": 13,
     "metadata": {},
     "output_type": "execute_result"
    }
   ],
   "source": [
    "String[] x = { \"Peter\", \"Bob\"};\n",
    "String[] y = { \"Peter\", \"Bob\"};\n",
    "return x.equals(y);"
   ]
  },
  {
   "cell_type": "markdown",
   "metadata": {},
   "source": [
    "## The Arrays class\n",
    "\n",
    "Typically, when comparing arrays for equality or serializing them as strings, we would like to do this element-wise using the corresponding method implemented for the element type. The `Array` class of  Java serves this need by providing static methods that implement this functionality. See the documentation of this class: [javadoc](https://docs.oracle.com/en/java/javase/11/docs/api/java.base/java/util/Arrays.html)"
   ]
  },
  {
   "cell_type": "code",
   "execution_count": 14,
   "metadata": {},
   "outputs": [
    {
     "data": {
      "text/plain": [
       "[I@15ea9e66"
      ]
     },
     "execution_count": 14,
     "metadata": {},
     "output_type": "execute_result"
    }
   ],
   "source": [
    "int[] x = {1,2,3};\n",
    "return x.toString(); // this is not useful"
   ]
  },
  {
   "cell_type": "code",
   "execution_count": 16,
   "metadata": {},
   "outputs": [
    {
     "data": {
      "text/plain": [
       "[1, 2, 3]"
      ]
     },
     "execution_count": 16,
     "metadata": {},
     "output_type": "execute_result"
    }
   ],
   "source": [
    "import java.util.Arrays;\n",
    "int[] x = {1,2,3};\n",
    "return Arrays.toString(x);"
   ]
  },
  {
   "cell_type": "code",
   "execution_count": 19,
   "metadata": {},
   "outputs": [
    {
     "data": {
      "text/plain": [
       "false"
      ]
     },
     "execution_count": 19,
     "metadata": {},
     "output_type": "execute_result"
    }
   ],
   "source": [
    "String[] x = { \"Peter\", \"Bob\"};\n",
    "String[] y = { \"Peter\", \"Bob\"};\n",
    "return x.equals(y); // they are not the same objects, so they are not equals"
   ]
  },
  {
   "cell_type": "code",
   "execution_count": 20,
   "metadata": {},
   "outputs": [
    {
     "data": {
      "text/plain": [
       "true"
      ]
     },
     "execution_count": 20,
     "metadata": {},
     "output_type": "execute_result"
    }
   ],
   "source": [
    "import java.util.Arrays;\n",
    "String[] x = { \"Peter\", \"Bob\"};\n",
    "String[] y = { \"Peter\", \"Bob\"};\n",
    "return Arrays.equals(x,y); // all of their elements are equals (using String.equals) -> they are equal"
   ]
  },
  {
   "cell_type": "markdown",
   "metadata": {},
   "source": [
    "# Collections\n",
    "\n",
    "Java provides a rich set of collection types that are defined though a hierarchy of interfaces and classes implementing these interfaces."
   ]
  },
  {
   "cell_type": "markdown",
   "metadata": {},
   "source": [
    "## Sets"
   ]
  },
  {
   "cell_type": "code",
   "execution_count": null,
   "metadata": {},
   "outputs": [],
   "source": []
  },
  {
   "cell_type": "code",
   "execution_count": 25,
   "metadata": {},
   "outputs": [
    {
     "data": {
      "text/plain": [
       "x has Peter: true, x has Alice: false"
      ]
     },
     "execution_count": 25,
     "metadata": {},
     "output_type": "execute_result"
    }
   ],
   "source": [
    "import java.util.Set;\n",
    "import java.util.HashSet;\n",
    "\n",
    "Set x = new HashSet<String> ();\n",
    "\n",
    "x.add(\"Peter\");\n",
    "x.add(\"Bob\");\n",
    "\n",
    "// x contains \"Peter\" but not \"Alice\"\n",
    "return String.format(\"x has Peter: %b, x has Alice: %b\", x.contains(\"Peter\"), x.contains(\"Alice\"));"
   ]
  },
  {
   "cell_type": "markdown",
   "metadata": {},
   "source": [
    "## Ordered Collections"
   ]
  },
  {
   "cell_type": "code",
   "execution_count": null,
   "metadata": {},
   "outputs": [],
   "source": []
  }
 ],
 "metadata": {
  "kernelspec": {
   "display_name": "Java",
   "language": "java",
   "name": "java"
  },
  "language_info": {
   "codemirror_mode": "text/x-java",
   "file_extension": ".java",
   "mimetype": "",
   "name": "Java",
   "nbconverter_exporter": "",
   "version": "1.8.0_152-release"
  },
  "toc": {
   "base_numbering": 1,
   "nav_menu": {},
   "number_sections": false,
   "sideBar": false,
   "skip_h1_title": false,
   "title_cell": "Table of Contents",
   "title_sidebar": "Contents",
   "toc_cell": false,
   "toc_position": {},
   "toc_section_display": false,
   "toc_window_display": false
  }
 },
 "nbformat": 4,
 "nbformat_minor": 2
}

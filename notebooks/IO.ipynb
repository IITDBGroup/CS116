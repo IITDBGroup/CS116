{
 "cells": [
  {
   "cell_type": "markdown",
   "metadata": {},
   "source": [
    "# I/O\n",
    "\n",
    "In this part we will learn about input/output (**I/O**) in Java, focusing specifically on file I/O. We will also learn how to read and write from the console."
   ]
  },
  {
   "cell_type": "markdown",
   "metadata": {},
   "source": [
    "# Java IO vs NIO\n",
    "\n",
    "Java provides two major frameworks in packages `java.io` and `java.nio`. The main differences between these frameworks are:\n",
    "\n",
    "| **IO** | **NIO** |\n",
    "|--------|---------|\n",
    "| Stream-oriented | Buffer-oriented |\n",
    "| Blocking | Non-blocking|\n",
    "\n",
    "Here we will focus mainly on the IO framework."
   ]
  },
  {
   "cell_type": "markdown",
   "metadata": {},
   "source": [
    "# Java IO\n",
    "\n",
    "`java.io` provides several types of abstractions for \n",
    "\n",
    "## Input and Output Streams\n",
    "\n",
    "A basic mechnism for I/O in the `java.io` framework are the `InputStream` [https://docs.oracle.com/en/java/javase/11/docs/api/java.base/java/io/InputStream.html](https://docs.oracle.com/en/java/javase/11/docs/api/java.base/java/io/InputStream.html) and `OutputStream` abstract classes [https://docs.oracle.com/en/java/javase/11/docs/api/java.base/java/io/OutputStream.html](https://docs.oracle.com/en/java/javase/11/docs/api/java.base/java/io/OutputStream.html).\n",
    "\n",
    "These allow reading (`InputStream`) and writing (`OutputStream`) **binary data** in a **blocking** fashion. That is once you call a method to read or write from a stream, the execution of your program is paused while waiting for a result (unless an Exception is thrown to be thrown). We already discussed some I/O related concepts when talking about exception handling. Let us discuss some methods of `InputStream` and `OutputStream`:\n",
    "\n",
    "* **InputStream**\n",
    "    * `close()` - closes the stream and releases all system resources associated with it. Always close streams when you are done with them!\n",
    "    * `int available()` - returns an estimate of the number of bytes that are available for reading\n",
    "    * `int read()` - reads a single byte from the stream. This method blocks until a byte is available.\n",
    "    * `int read (byte[] b)` - reads a number of bytes into buffer `b` and returns the number of bytes that have been read\n",
    "* **OutputStream**\n",
    "    * `close()` - closes the stream and releases all system resources associated with it. Always close streams when you are done with them!\n",
    "    * `write (int b)` - write a single byte to the output stream\n",
    "    * `write(byte[] b)` - write the content of byte array `b` to the output stream\n",
    "    * `flush()` - flushes this output stream which causes any buffered content (if the outputstream does buffering) to be written out\n",
    "    \n",
    "Some noteworthy subclasses are:\n",
    "* `FileInputStream` - which reads data from a file\n",
    "* `FileOutputStream` - writes data to a file\n",
    "* `BufferedInputStream` - wraps another input stream and adds buffers reads\n",
    "* `BufferedOutputStream` - wraps an output stream and adds buffering of writes\n",
    "* `ObjectInputStream` - read primitive java values and objects from an input stream in a machine-architecture independent way (data is expected to have been written by `ObjectOutputStream`. Only classes that implement the interface `java.io.Serializable` or `java.io.Externalizable` can be read or written using this meachnism.\n",
    "* `ObjectOutputStream` - write primitive java values and objects as explained above for `ObjectInputStream`\n",
    "\n",
    "\n",
    "## Reader and Writer\n",
    "\n",
    "The abstract `Reader` and `Writer` classes are superclasses for all classes that read or write **character streams**. The main difference input and output streams is that data is interpreted as characters instead of raw bytes. Relevant methods are:\n",
    "\n",
    "* **Reader**\n",
    "    * `close()` - close the stream and release resources\n",
    "    * `boolean ready()` - is the stream ready for reading?\n",
    "    * `int read()` - reads a single character\n",
    "    * `int read(char[] cbuf)` - reads characters into buffer `cbuf`, returns the number of characters that were read\n",
    "    * `skip(long n)` - skips `n` characters\n",
    "* **Writer**\n",
    "    * `close()` and `flush()` behave like for streams\n",
    "    * `write(String str)` - write the content of string to the writer\n",
    "    \n",
    "Some subclasses of interest:\n",
    "\n",
    "* `StringReader` - reads from a String.\n",
    "* `StringWriter` - writes to a StringBuffer\n",
    "* `BufferedReader/Writer` - buffers a reader or writer\n",
    "* `InputStreamReader` - wraps an input stream to read characters from it\n",
    "* `FileReader/Writer` - reads/writes from/to a file"
   ]
  },
  {
   "cell_type": "code",
   "execution_count": 2,
   "metadata": {},
   "outputs": [
    {
     "name": "stdout",
     "output_type": "stream",
     "text": [
      "a\n",
      "a\n",
      "b\n",
      "b\n",
      "a\n",
      "a\n"
     ]
    },
    {
     "data": {
      "text/plain": [
       "null"
      ]
     },
     "execution_count": 2,
     "metadata": {},
     "output_type": "execute_result"
    }
   ],
   "source": [
    "import java.io.StringReader;\n",
    "\n",
    "// Reading from String\n",
    "StringReader r = new StringReader(\"aabbaa\");\n",
    "int read;\n",
    "\n",
    "while((read = r.read()) != -1)\n",
    "    System.out.println((char) read);"
   ]
  },
  {
   "cell_type": "code",
   "execution_count": 6,
   "metadata": {},
   "outputs": [
    {
     "name": "stdout",
     "output_type": "stream",
     "text": [
      "try to open test.txt\n",
      "File exists, try to read\n",
      "\n",
      "read 256 bytes: This is a file with a long text the is split over multiple lines. We want to\n",
      "show how our buffer is exausted and how we read this long text 256 bytes at a\n",
      "time. That is why I have to ramble on and on and on and on and on and on and on\n",
      "and on and on and on \n",
      "\n",
      "read 256 bytes: and on and on and on and on and on and on and on and on and\n",
      "on and on and on and on and on and on and on and on and on and on and on and on\n",
      "and on and on and on and on and on and on and on and on and on and on and on and\n",
      "on and on and on and on and on and \n",
      "\n",
      "read 256 bytes: on and on and on and on and on and on and on\n",
      "and on and on and on and on and on and on and on and on and on and on and on and\n",
      "on and on and on and on and on and on and on and on and on and on and on and on\n",
      "and on and on and on and on and on and on and on a\n",
      "\n",
      "read 256 bytes: nd on and on and on and on and\n",
      "on and on and on and on and on and on and on and on and on and on and on and on\n",
      "and on and on and on and on and on and on and on and on and on and on and on and\n",
      "on and on and on and on and on and on and on and on and on and o\n",
      "\n",
      "read 256 bytes: n and on and on\n",
      "and on and on and on and on and on and on and on and on and on and on and on and\n",
      "on and on and on and on and on and on and on and on and on and on and on and on\n",
      "and on and on and on and on and on and on and on and on and on and on and on an\n",
      "\n",
      "read 167 bytes: d\n",
      "on and on and on and on and on and on and on and on and on and on and on and on\n",
      "and on and on and on and on and on and on and on and on and on and on and on and\n",
      "on.\n",
      "\n",
      "closed file!\n"
     ]
    },
    {
     "data": {
      "text/plain": [
       "null"
      ]
     },
     "execution_count": 6,
     "metadata": {},
     "output_type": "execute_result"
    }
   ],
   "source": [
    "import java.io.FileInputStream;\n",
    "import java.io.File;\n",
    "import java.io.IOException;\n",
    "\n",
    "FileInputStream in = null;\n",
    "File f;\n",
    "byte[] b = new byte[256]; // 256 byte buffer\n",
    "        \n",
    "System.out.println(\"try to open test.txt\");\n",
    "f = new File(\"test.txt\");\n",
    "try {\n",
    "    if (f.exists()) {\n",
    "        System.out.println(\"File exists, try to read\");\n",
    "        in = new FileInputStream(f);\n",
    "        for(int available = in.available(); available > 0; available = in.available()) { // read data using buffer b\n",
    "            int numread = in.read(b);\n",
    "            System.out.printf(\"\\nread %d bytes: \", numread);\n",
    "            for(int i = 0; i < numread; i++) // print all bytes read and the a newline\n",
    "                System.out.print((char) b[i]);\n",
    "            System.out.println();\n",
    "        }\n",
    "    }\n",
    "    else {\n",
    "        System.out.println(\"File does not exist!\");\n",
    "    }\n",
    "}\n",
    "catch (IOException e) {\n",
    "    System.out.println(\"error reading text.txt: \" + e.toString());\n",
    "}\n",
    "finally {\n",
    "    if (in != null) {\n",
    "        try { \n",
    "            in.close();\n",
    "            System.out.println(\"closed file!\"); // look out for this in the output. This statement is excuted even though no exception has been thrown.\n",
    "        }\n",
    "        catch (IOException e) {\n",
    "            System.out.println(\"failed closing file input stream:\\n\" + e.toString());\n",
    "        }\n",
    "    }\n",
    "}"
   ]
  },
  {
   "cell_type": "markdown",
   "metadata": {},
   "source": [
    "# Serializable Interface\n",
    "\n",
    "Java allows objects to be written and read from streams using `ObjectOuputStream` and `ObjectInputStream` which wrap an `OutputStream` and `InputStream`, e.g., a `FileInputStream` to read from a file. This interface does not define any methods. Per default, all non-static fields are serialized and deserialized. A class implementing `Serializable` should be define a default constructor (no arguments). More details of serialization and deserialization in Java can be found in the [documentation](https://docs.oracle.com/en/java/javase/11/docs/specs/serialization/index.html)."
   ]
  },
  {
   "cell_type": "code",
   "execution_count": 2,
   "metadata": {},
   "outputs": [
    {
     "data": {
      "text/plain": [
       "lecture.SerPerson"
      ]
     },
     "execution_count": 2,
     "metadata": {},
     "output_type": "execute_result"
    }
   ],
   "source": [
    "package lecture;\n",
    "\n",
    "import java.io.Serializable;\n",
    "\n",
    "public class SerPerson implements Serializable {\n",
    "    private String name;\n",
    "    \n",
    "    public SerPerson() {\n",
    "        this.name = null;\n",
    "    }\n",
    "    \n",
    "    public SerPerson(String name) {\n",
    "        this.name = name;\n",
    "    }\n",
    "    \n",
    "    public String getName() {\n",
    "        return name;\n",
    "    }\n",
    "    \n",
    "    public void setName(String name) {\n",
    "        this.name = name;\n",
    "    }\n",
    "    \n",
    "}"
   ]
  },
  {
   "cell_type": "code",
   "execution_count": 3,
   "metadata": {},
   "outputs": [
    {
     "data": {
      "text/plain": [
       "Peter"
      ]
     },
     "execution_count": 3,
     "metadata": {},
     "output_type": "execute_result"
    }
   ],
   "source": [
    "import lecture.SerPerson;\n",
    "import java.io.File;\n",
    "import java.io.FileOutputStream;\n",
    "import java.io.ObjectOutputStream;\n",
    "import java.io.FileInputStream;\n",
    "import java.io.ObjectInputStream;\n",
    "\n",
    "File f = new File(\"person_test.txt\");\n",
    "SerPerson p = new SerPerson(\"Peter\");\n",
    "\n",
    "// write p to a file\n",
    "ObjectOutputStream out = new ObjectOutputStream(new FileOutputStream(f));\n",
    "out.writeObject(p);\n",
    "out.close();\n",
    "\n",
    "// read p from the file\n",
    "ObjectInputStream in = new ObjectInputStream(new FileInputStream(f));\n",
    "p = (SerPerson) in.readObject();\n",
    "in.close();\n",
    "\n",
    "if(f.exists())\n",
    "    f.delete();\n",
    "\n",
    "return p.getName();"
   ]
  }
 ],
 "metadata": {
  "kernelspec": {
   "display_name": "Java",
   "language": "java",
   "name": "java"
  },
  "language_info": {
   "codemirror_mode": "text/x-java",
   "file_extension": ".java",
   "mimetype": "",
   "name": "Java",
   "nbconverter_exporter": "",
   "version": "11.0.1"
  },
  "toc": {
   "base_numbering": 1,
   "nav_menu": {},
   "number_sections": false,
   "sideBar": false,
   "skip_h1_title": false,
   "title_cell": "Table of Contents",
   "title_sidebar": "Contents",
   "toc_cell": false,
   "toc_position": {},
   "toc_section_display": false,
   "toc_window_display": false
  }
 },
 "nbformat": 4,
 "nbformat_minor": 2
}

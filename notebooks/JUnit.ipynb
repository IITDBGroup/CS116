{
 "cells": [
  {
   "cell_type": "markdown",
   "metadata": {},
   "source": [
    "# JUnit\n",
    "\n",
    "JUnit is a testing framework for Java that allows test cases to be organized into hierarchical suites. The framework uses annotations to declare test cases, to identify methods that setup the environment for tests, and to organize tests cases into suites.\n",
    "\n",
    "# @Test\n",
    "\n",
    "Any method annotated with `@Test` is considered to be test case. When running junit you specify a class which contains test cases or a test suite to be run. \n",
    "\n",
    "# Assertions\n",
    "\n",
    "Inside test methods you can use assertion to check whether a test result matches an expected result. For example, `assertEquals(a,b)` fails the test case unless `a.equals(b)` return true.\n",
    "\n",
    "```java\n",
    "@Test\n",
    "public void test() {\n",
    "   assertEquals(1,1); // test succesful so far\n",
    "   assertEquals(2,3); // this fails the test\n",
    "}\n",
    "```\n",
    "\n",
    "# Suites\n",
    "\n",
    "Classes with test cases and packages containing classes with test cases can be grouped into suites. A suite is created by creating an empty class (no fields and methods) and specify the test classes/packages to incorporate into the suite.\n",
    "\n",
    "```java\n",
    "@RunWith(JUnitPlatform.class) // run this suite with JUnit\n",
    "@SelectClasses( { MyFirstTestClass.class, MySecondTestClass }) // array of Class objects for test classes to make part of the suite\n",
    "@SelectPackages( { \"edu.iit.mytests\" } ) // array of names of package that contain test classes that should be part of the suite\n",
    "public class MySuite\n",
    "{\n",
    "}\n",
    "```"
   ]
  },
  {
   "cell_type": "code",
   "execution_count": 1,
   "metadata": {},
   "outputs": [
    {
     "data": {
      "application/vnd.jupyter.widget-view+json": {
       "model_id": "2aea0c23-e817-4a02-8b82-7755da150140",
       "version_major": 2,
       "version_minor": 0
      },
      "method": "display_data"
     },
     "metadata": {},
     "output_type": "display_data"
    },
    {
     "data": {
      "application/vnd.jupyter.widget-view+json": {
       "model_id": "b65e7bde-0f06-49fc-a7a7-61c02d8923ee",
       "version_major": 2,
       "version_minor": 0
      },
      "method": "display_data"
     },
     "metadata": {},
     "output_type": "display_data"
    },
    {
     "data": {
      "application/vnd.jupyter.widget-view+json": {
       "model_id": "58d800bd-5b10-4748-acdd-b7e92186c467",
       "version_major": 2,
       "version_minor": 0
      },
      "method": "display_data"
     },
     "metadata": {},
     "output_type": "display_data"
    },
    {
     "data": {
      "application/vnd.jupyter.widget-view+json": {
       "model_id": "cfd55941-2ee3-4362-bdf4-f26a441e8abb",
       "version_major": 2,
       "version_minor": 0
      },
      "method": "display_data"
     },
     "metadata": {},
     "output_type": "display_data"
    },
    {
     "data": {
      "application/vnd.jupyter.widget-view+json": {
       "model_id": "afc13841-c99f-491d-b4bb-0804c71b1ad8",
       "version_major": 2,
       "version_minor": 0
      },
      "method": "display_data"
     },
     "metadata": {},
     "output_type": "display_data"
    },
    {
     "data": {
      "application/vnd.jupyter.widget-view+json": {
       "model_id": "555001f8-29af-4e6e-83ee-f9047440e41e",
       "version_major": 2,
       "version_minor": 0
      },
      "method": "display_data"
     },
     "metadata": {},
     "output_type": "display_data"
    },
    {
     "data": {
      "application/vnd.jupyter.widget-view+json": {
       "model_id": "84e7eca1-1b02-4a0a-ac70-5b3774fa6131",
       "version_major": 2,
       "version_minor": 0
      },
      "method": "display_data"
     },
     "metadata": {},
     "output_type": "display_data"
    },
    {
     "data": {
      "application/vnd.jupyter.widget-view+json": {
       "model_id": "7c498fb1-0fb2-43e0-9a62-cee008c4ff9c",
       "version_major": 2,
       "version_minor": 0
      },
      "method": "display_data"
     },
     "metadata": {},
     "output_type": "display_data"
    },
    {
     "data": {
      "application/vnd.jupyter.widget-view+json": {
       "model_id": "00a6291a-17b7-4e46-a208-7ad2a6e7e8ba",
       "version_major": 2,
       "version_minor": 0
      },
      "method": "display_data"
     },
     "metadata": {},
     "output_type": "display_data"
    },
    {
     "data": {
      "application/vnd.jupyter.widget-view+json": {
       "model_id": "d8123c96-d48d-47df-8ae6-8a86bd290743",
       "version_major": 2,
       "version_minor": 0
      },
      "method": "display_data"
     },
     "metadata": {},
     "output_type": "display_data"
    }
   ],
   "source": [
    "%classpath add jar ../java/lib/org.junit.jupiter.api_5.3.1.v20181005-1442.jar\n",
    "%classpath add jar ../java/lib/org.junit.jupiter.engine_5.3.1.v20181005-1442.jar\n",
    "%classpath add jar ../java/lib/org.junit.jupiter.migrationsupport_5.3.1.v20181005-1442.jar\n",
    "%classpath add jar ../java/lib/org.junit.jupiter.params_5.3.1.v20181005-1442.jar\n",
    "%classpath add jar ../java/lib/org.junit.platform.commons_1.3.1.v20181005-1442.jar\n",
    "%classpath add jar ../java/lib/org.junit.platform.engine_1.3.1.v20181005-1442.jar\n",
    "%classpath add jar ../java/lib/org.junit.platform.launcher_1.3.1.v20181005-1442.jar\n",
    "%classpath add jar ../java/lib/org.junit.platform.runner_1.3.1.v20181005-1442.jar\n",
    "%classpath add jar ../java/lib/org.junit.platform.suite.api_1.3.1.v20181005-1442.jar\n",
    "%classpath add jar ../java/lib/org.junit.vintage.engine_5.3.1.v20181005-1442.jar\n",
    "\n"
   ]
  },
  {
   "cell_type": "code",
   "execution_count": null,
   "metadata": {},
   "outputs": [],
   "source": [
    "import "
   ]
  }
 ],
 "metadata": {
  "kernelspec": {
   "display_name": "Java",
   "language": "java",
   "name": "java"
  },
  "language_info": {
   "codemirror_mode": "text/x-java",
   "file_extension": ".java",
   "mimetype": "",
   "name": "Java",
   "nbconverter_exporter": "",
   "version": "11.0.1"
  },
  "toc": {
   "base_numbering": 1,
   "nav_menu": {},
   "number_sections": false,
   "sideBar": false,
   "skip_h1_title": false,
   "title_cell": "Table of Contents",
   "title_sidebar": "Contents",
   "toc_cell": false,
   "toc_position": {},
   "toc_section_display": false,
   "toc_window_display": false
  }
 },
 "nbformat": 4,
 "nbformat_minor": 2
}

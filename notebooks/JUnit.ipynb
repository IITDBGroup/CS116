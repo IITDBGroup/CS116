{
 "cells": [
  {
   "cell_type": "markdown",
   "metadata": {},
   "source": [
    "# JUnit\n",
    "\n",
    "JUnit is a testing framework for Java that allows test cases to be organized into hierarchical suites. The framework uses annotations to declare test cases, to identify methods that setup the environment for tests, and to organize tests cases into suites.\n",
    "\n",
    "# @Test\n",
    "\n",
    "Any method annotated with `@Test` is considered to be test case. When running junit you specify a class which contains test cases or a test suite to be run. \n",
    "\n",
    "# Assertions\n",
    "\n",
    "Inside test methods you can use assertion to check whether a test result matches an expected result. For example, `assertEquals(a,b)` fails the test case unless `a.equals(b)` return true.\n",
    "\n",
    "```java\n",
    "@Test\n",
    "public void test() {\n",
    "   assertEquals(1,1); // test succesful so far\n",
    "   assertEquals(2,3); // this fails the test\n",
    "}\n",
    "```\n",
    "\n",
    "# Suites\n",
    "\n",
    "Classes with test cases and packages containing classes with test cases can be grouped into suites. A suite is created by creating an empty class (no fields and methods) and specify the test classes/packages to incorporate into the suite.\n",
    "\n",
    "```java\n",
    "@RunWith(JUnitPlatform.class) // run this suite with JUnit\n",
    "@SelectClasses( { MyFirstTestClass.class, MySecondTestClass }) // array of Class objects for test classes to make part of the suite\n",
    "@SelectPackages( { \"edu.iit.mytests\" } ) // array of names of package that contain test classes that should be part of the suite\n",
    "public class MySuite\n",
    "{\n",
    "}\n",
    "```"
   ]
  },
  {
   "cell_type": "code",
   "execution_count": null,
   "metadata": {},
   "outputs": [],
   "source": [
    "%classpath add jar ../java/lib"
   ]
  }
 ],
 "metadata": {
  "kernelspec": {
   "display_name": "Java",
   "language": "java",
   "name": "java"
  },
  "language_info": {
   "codemirror_mode": "text/x-java",
   "file_extension": ".java",
   "mimetype": "",
   "name": "Java",
   "nbconverter_exporter": "",
   "version": "11.0.1"
  },
  "toc": {
   "base_numbering": 1,
   "nav_menu": {},
   "number_sections": false,
   "sideBar": false,
   "skip_h1_title": false,
   "title_cell": "Table of Contents",
   "title_sidebar": "Contents",
   "toc_cell": false,
   "toc_position": {},
   "toc_section_display": false,
   "toc_window_display": false
  }
 },
 "nbformat": 4,
 "nbformat_minor": 2
}

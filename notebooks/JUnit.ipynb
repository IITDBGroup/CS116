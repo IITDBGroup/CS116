{
 "cells": [
  {
   "cell_type": "markdown",
   "metadata": {},
   "source": [
    "# JUnit\n",
    "\n",
    "JUnit is a testing framework for Java that allows test cases to be organized into hierarchical suites. The framework uses annotations to declare test cases, to identify methods that setup the environment for tests, and to organize tests cases into suites.\n",
    "\n",
    "# @Test\n",
    "\n",
    "Any method annotated with `@Test` is considered to be test case. When running junit you specify a class which contains test cases or a test suite to be run. \n",
    "\n",
    "# Assertions\n",
    "\n",
    "Inside test methods you can use assertion to check whether a test result matches an expected result. For example, `assertEquals(a,b)` fails the test case unless `a.equals(b)` return true.\n",
    "\n",
    "```java\n",
    "@Test\n",
    "public void test() {\n",
    "   assertEquals(1,1); // test succesful so far\n",
    "   assertEquals(2,3); // this fails the test\n",
    "}\n",
    "```\n",
    "\n",
    "# Suites\n",
    "\n",
    "Classes with test cases and packages containing classes with test cases can be grouped into suites. A suite is created by creating an empty class (no fields and methods) and specify the test classes/packages to incorporate into the suite.\n",
    "\n",
    "```java\n",
    "@RunWith(JUnitPlatform.class) // run this suite with JUnit\n",
    "@SelectClasses( { MyFirstTestClass.class, MySecondTestClass.class }) // array of Class objects for test classes to make part of the suite\n",
    "@SelectPackages( { \"edu.iit.mytests\" } ) // array of names of package that contain test classes that should be part of the suite\n",
    "public class MySuite\n",
    "{\n",
    "}\n",
    "```"
   ]
  },
  {
   "cell_type": "code",
   "execution_count": 1,
   "metadata": {},
   "outputs": [
    {
     "data": {
      "application/vnd.jupyter.widget-view+json": {
       "model_id": "",
       "version_major": 2,
       "version_minor": 0
      },
      "method": "display_data"
     },
     "metadata": {},
     "output_type": "display_data"
    },
    {
     "data": {
      "application/vnd.jupyter.widget-view+json": {
       "model_id": "2f905104-40e1-4b6d-b4ca-edf69c68df5b",
       "version_major": 2,
       "version_minor": 0
      },
      "method": "display_data"
     },
     "metadata": {},
     "output_type": "display_data"
    },
    {
     "data": {
      "application/vnd.jupyter.widget-view+json": {
       "model_id": "",
       "version_major": 2,
       "version_minor": 0
      },
      "method": "display_data"
     },
     "metadata": {},
     "output_type": "display_data"
    },
    {
     "data": {
      "application/vnd.jupyter.widget-view+json": {
       "model_id": "e49ac064-2fe0-406f-aa31-92e11968767e",
       "version_major": 2,
       "version_minor": 0
      },
      "method": "display_data"
     },
     "metadata": {},
     "output_type": "display_data"
    },
    {
     "data": {
      "application/vnd.jupyter.widget-view+json": {
       "model_id": "",
       "version_major": 2,
       "version_minor": 0
      },
      "method": "display_data"
     },
     "metadata": {},
     "output_type": "display_data"
    },
    {
     "data": {
      "application/vnd.jupyter.widget-view+json": {
       "model_id": "f53950f8-ea33-42b0-a78a-420d0c00e450",
       "version_major": 2,
       "version_minor": 0
      },
      "method": "display_data"
     },
     "metadata": {},
     "output_type": "display_data"
    },
    {
     "data": {
      "application/vnd.jupyter.widget-view+json": {
       "model_id": "",
       "version_major": 2,
       "version_minor": 0
      },
      "method": "display_data"
     },
     "metadata": {},
     "output_type": "display_data"
    },
    {
     "data": {
      "application/vnd.jupyter.widget-view+json": {
       "model_id": "2ab6be49-d47a-48a7-b80d-6771ee8636c0",
       "version_major": 2,
       "version_minor": 0
      },
      "method": "display_data"
     },
     "metadata": {},
     "output_type": "display_data"
    },
    {
     "data": {
      "application/vnd.jupyter.widget-view+json": {
       "model_id": "",
       "version_major": 2,
       "version_minor": 0
      },
      "method": "display_data"
     },
     "metadata": {},
     "output_type": "display_data"
    },
    {
     "data": {
      "application/vnd.jupyter.widget-view+json": {
       "model_id": "8eb55c47-fb70-499f-a385-138d5cbbd235",
       "version_major": 2,
       "version_minor": 0
      },
      "method": "display_data"
     },
     "metadata": {},
     "output_type": "display_data"
    },
    {
     "data": {
      "application/vnd.jupyter.widget-view+json": {
       "model_id": "",
       "version_major": 2,
       "version_minor": 0
      },
      "method": "display_data"
     },
     "metadata": {},
     "output_type": "display_data"
    },
    {
     "data": {
      "application/vnd.jupyter.widget-view+json": {
       "model_id": "9dec6577-91af-4771-8c07-4108e87cd70b",
       "version_major": 2,
       "version_minor": 0
      },
      "method": "display_data"
     },
     "metadata": {},
     "output_type": "display_data"
    },
    {
     "name": "stderr",
     "output_type": "stream",
     "text": [
      "Wrong command format, should be%classpath add mvn group name version [type classifier] or %classpath add mvn group:name:version[:type:classifier]\n"
     ]
    },
    {
     "data": {
      "text/plain": [
       "lecture.TestCase"
      ]
     },
     "execution_count": 1,
     "metadata": {},
     "output_type": "execute_result"
    }
   ],
   "source": [
    "%classpath add mvn org.junit.jupiter junit-jupiter-api 5.3.2\n",
    "%classpath add mvn org.junit.jupiter junit-jupiter-engine 5.3.2\n",
    "%classpath add mvn org.junit.vintage junit-vintage-engine 5.3.2\n",
    "%classpath add mvn org.junit.platform junit-platform-launcher 1.3.2\n",
    "%classpath add mvn org.junit.platform junit-platform-runner 1.3.2   \n",
    "%classpath add mvn org.junit.platform junit-platform-console 1.3.2\n",
    "    \n",
    "package lecture;\n",
    "\n",
    "import static org.junit.jupiter.api.Assertions.*;\n",
    "import org.junit.jupiter.api.BeforeEach;\n",
    "import org.junit.jupiter.api.BeforeAll;\n",
    "import org.junit.jupiter.api.AfterEach;\n",
    "import org.junit.jupiter.api.AfterAll;\n",
    "import org.junit.jupiter.api.Test;\n",
    "\n",
    "public class TestCase {\n",
    "    \n",
    "    // method that will be executed once before any test method is run \n",
    "    @BeforeAll\n",
    "    public static void globalSetup() {\n",
    "        System.out.println(\"before all test cases\");\n",
    "    }\n",
    "\n",
    "    // method that will be executed once before any test method is run \n",
    "    @AfterAll\n",
    "    public static void globalTearDown() {\n",
    "        System.out.println(\"after all test cases\");\n",
    "    }\n",
    "\n",
    "    // method that will be executed before each testcase\n",
    "    @BeforeEach\n",
    "    public void setup() {\n",
    "        System.out.println(\"before a test\");\n",
    "    }\n",
    "    \n",
    "    // method that will be exected after each testcase\n",
    "    @AfterEach\n",
    "    public void tearDown() {\n",
    "        System.out.println(\"after a test\");\n",
    "    }\n",
    "    \n",
    "    // a test case\n",
    "    @Test\n",
    "    public void test1 () {\n",
    "        assertEquals(1,1);\n",
    "    }\n",
    "    \n",
    "    // another test case\n",
    "    @Test\n",
    "    public void test2() {\n",
    "        assertEquals(1,2);\n",
    "    }\n",
    "    \n",
    "    \n",
    "}"
   ]
  },
  {
   "cell_type": "code",
   "execution_count": 17,
   "metadata": {},
   "outputs": [
    {
     "ename": "ERROR",
     "evalue": " org.junit.platform.commons.util.PreconditionViolationException",
     "output_type": "error",
     "traceback": [
      "\u001b[1;31mERROR: org.junit.platform.commons.util.PreconditionViolationException: Cannot create Launcher without at least one TestEngine; consider adding an engine implementation JAR to the classpath\u001b[0;0m"
     ]
    }
   ],
   "source": [
    "import org.junit.jupiter.api.*;\n",
    "import org.junit.platform.launcher.listeners.*;\n",
    "import org.junit.platform.launcher.*;\n",
    "import org.junit.platform.launcher.core.*;\n",
    "import static org.junit.platform.engine.discovery.DiscoverySelectors.*;\n",
    "import lecture.TestCase;\n",
    "\n",
    "SummaryGeneratingListener listener = new SummaryGeneratingListener();\n",
    "LauncherDiscoveryRequest request = LauncherDiscoveryRequestBuilder.request()\n",
    "          .selectors(selectClass(TestCase.class))\n",
    "          .build();\n",
    "Launcher launcher = LauncherFactory.create();\n",
    "TestPlan testPlan = launcher.discover(request);\n",
    "launcher.registerTestExecutionListeners(listener);\n",
    "launcher.execute(request);"
   ]
  }
 ],
 "metadata": {
  "kernelspec": {
   "display_name": "Java",
   "language": "java",
   "name": "java"
  },
  "language_info": {
   "codemirror_mode": "text/x-java",
   "file_extension": ".java",
   "mimetype": "",
   "name": "Java",
   "nbconverter_exporter": "",
   "version": "11.0.1"
  },
  "toc": {
   "base_numbering": 1,
   "nav_menu": {},
   "number_sections": false,
   "sideBar": false,
   "skip_h1_title": false,
   "title_cell": "Table of Contents",
   "title_sidebar": "Contents",
   "toc_cell": false,
   "toc_position": {},
   "toc_section_display": false,
   "toc_window_display": false
  }
 },
 "nbformat": 4,
 "nbformat_minor": 2
}

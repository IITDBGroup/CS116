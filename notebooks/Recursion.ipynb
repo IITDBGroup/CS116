{
 "cells": [
  {
   "cell_type": "markdown",
   "metadata": {},
   "source": [
    "# Recursion\n",
    "\n",
    "In this part we will discuss the concept of a **call stack** and **recursion**. Recursion is when a method calls itself (directly or indirectly). Recursion is specially well suited for implementing computation that are itself recursively defined (as we will see below by means of the example of Fibonacci numbers).\n",
    "\n",
    "## Tail recursion\n",
    "\n",
    "Tail recursion is when the recursive call (the place inside the method body where the method calls itself) is the last statement in the method body."
   ]
  },
  {
   "cell_type": "markdown",
   "metadata": {},
   "source": [
    "As a simple example of tail recursion consider printing all integers up to `n` in decreasing order."
   ]
  },
  {
   "cell_type": "code",
   "execution_count": 31,
   "metadata": {},
   "outputs": [
    {
     "data": {
      "text/plain": [
       "lecture.UpToNReverse"
      ]
     },
     "execution_count": 31,
     "metadata": {},
     "output_type": "execute_result"
    }
   ],
   "source": [
    "package lecture;\n",
    "\n",
    "public class UpToNReverse {\n",
    "    \n",
    "    public static void printUpToN (int n) {\n",
    "        System.out.println(\"\" + n);\n",
    "        if (n > 1)\n",
    "            printUpToN(n-1);\n",
    "    }\n",
    "}"
   ]
  },
  {
   "cell_type": "code",
   "execution_count": 33,
   "metadata": {},
   "outputs": [
    {
     "name": "stdout",
     "output_type": "stream",
     "text": [
      "6\n",
      "5\n",
      "4\n",
      "3\n",
      "2\n",
      "1\n"
     ]
    },
    {
     "data": {
      "text/plain": [
       "null"
      ]
     },
     "execution_count": 33,
     "metadata": {},
     "output_type": "execute_result"
    }
   ],
   "source": [
    "import lecture.UpToNReverse;\n",
    "\n",
    "UpToNReverse.printUpToN(6);"
   ]
  },
  {
   "cell_type": "markdown",
   "metadata": {},
   "source": [
    "What if want to print the numbers in increasing order instead. Can recursion still be used? Turns out yes, the only thing that we have to change is to place the recursive call before the print statement."
   ]
  },
  {
   "cell_type": "code",
   "execution_count": 36,
   "metadata": {},
   "outputs": [
    {
     "data": {
      "text/plain": [
       "lecture.UpToN"
      ]
     },
     "execution_count": 36,
     "metadata": {},
     "output_type": "execute_result"
    }
   ],
   "source": [
    "package lecture;\n",
    "\n",
    "public class UpToN {\n",
    "    \n",
    "    public static void printUpToN (int n) {\n",
    "        if (n > 1)\n",
    "            printUpToN(n-1);\n",
    "        System.out.println(\"\" + n);\n",
    "    }\n",
    "}"
   ]
  },
  {
   "cell_type": "code",
   "execution_count": 37,
   "metadata": {},
   "outputs": [
    {
     "name": "stdout",
     "output_type": "stream",
     "text": [
      "1\n",
      "2\n",
      "3\n",
      "4\n",
      "5\n",
      "6\n"
     ]
    },
    {
     "data": {
      "text/plain": [
       "null"
      ]
     },
     "execution_count": 37,
     "metadata": {},
     "output_type": "execute_result"
    }
   ],
   "source": [
    "import lecture.UpToN;\n",
    "\n",
    "UpToN.printUpToN(6);"
   ]
  },
  {
   "cell_type": "markdown",
   "metadata": {},
   "source": [
    "As another example of **tail recursion** let's consider searching through a singly linked list."
   ]
  },
  {
   "cell_type": "code",
   "execution_count": 13,
   "metadata": {},
   "outputs": [
    {
     "data": {
      "text/plain": [
       "lecture.StringList"
      ]
     },
     "execution_count": 13,
     "metadata": {},
     "output_type": "execute_result"
    }
   ],
   "source": [
    "package lecture;\n",
    "\n",
    "public class StringList {\n",
    "    \n",
    "    protected class StringListElement {\n",
    "        public String data;\n",
    "        public StringListElement next;\n",
    "        \n",
    "        public StringListElement(String data) {\n",
    "            this.data = data;\n",
    "            this.next = null;\n",
    "        }\n",
    "    }\n",
    "    \n",
    "    private StringListElement head;\n",
    "    \n",
    "    public StringList() {\n",
    "        this.head = null;\n",
    "    }\n",
    "    \n",
    "    public StringList(String ... e) {\n",
    "        this.head = null;\n",
    "        for(String el: e) {\n",
    "            add(el);\n",
    "        }\n",
    "    }\n",
    "    \n",
    "    public void add(String e) {\n",
    "        StringListElement n = new StringListElement(e);\n",
    "        if (head == null) {\n",
    "            head = n;\n",
    "        }\n",
    "        else {\n",
    "            StringListElement last = findLast(head);\n",
    "            last.next = n;\n",
    "        }\n",
    "    }\n",
    "    \n",
    "    public String get(int position) throws Exception {\n",
    "        StringListElement cur = head;\n",
    "        \n",
    "        for(int i = 0; i < position; i++) {\n",
    "            if (cur == null) {\n",
    "                throw new Exception(String.format(\"no element at position %d\", position));\n",
    "            }\n",
    "            cur = cur.next;\n",
    "        }\n",
    "        return cur.data;\n",
    "    }\n",
    "    \n",
    "    // really not a smart way to implement this, but illustrates recursion\n",
    "    public StringListElement findLast(StringListElement e) {\n",
    "        if (e.next == null)\n",
    "            return e;\n",
    "        else\n",
    "            return findLast(e.next);\n",
    "    }\n",
    "    \n",
    "    public String toString() {\n",
    "        StringListElement cur = head;\n",
    "        StringBuilder b = new StringBuilder();\n",
    "        b.append(\"[\");\n",
    "        while(cur != null) {\n",
    "            b.append(cur.data);\n",
    "            if (cur.next != null)\n",
    "                b.append(\", \");\n",
    "            cur = cur.next;\n",
    "        }\n",
    "        b.append(\"]\");\n",
    "        return b.toString();\n",
    "    }\n",
    "}"
   ]
  },
  {
   "cell_type": "code",
   "execution_count": 14,
   "metadata": {},
   "outputs": [
    {
     "data": {
      "text/plain": [
       "[Peter, Bob, Alice, Jane]"
      ]
     },
     "execution_count": 14,
     "metadata": {},
     "output_type": "execute_result"
    }
   ],
   "source": [
    "import lecture.StringList;\n",
    "\n",
    "StringList x = new StringList(\"Peter\", \"Bob\", \"Alice\");\n",
    "x.add(\"Jane\");\n",
    "return ((StringList) x).toString();"
   ]
  },
  {
   "cell_type": "markdown",
   "metadata": {},
   "source": [
    "### Fibonacci Numbers\n",
    "\n",
    "The Fibonacci numbers are recursively defined as: `f(0) = 0`, `f(1) = 1`, for `n > 1`: `f(n) = f(n-1) + f(n-2)`"
   ]
  },
  {
   "cell_type": "code",
   "execution_count": 15,
   "metadata": {},
   "outputs": [
    {
     "data": {
      "text/plain": [
       "lecture.Fibonacci"
      ]
     },
     "execution_count": 15,
     "metadata": {},
     "output_type": "execute_result"
    }
   ],
   "source": [
    "package lecture;\n",
    "\n",
    "public class Fibonacci {\n",
    "    \n",
    "    public static int fib(int n) {\n",
    "        if (n == 0)\n",
    "            return 0;\n",
    "        if (n == 1)\n",
    "            return 1;\n",
    "        else\n",
    "            return fib(n - 1) + fib(n - 2);\n",
    "    }\n",
    "}"
   ]
  },
  {
   "cell_type": "code",
   "execution_count": 7,
   "metadata": {},
   "outputs": [
    {
     "data": {
      "text/plain": [
       "89"
      ]
     },
     "execution_count": 7,
     "metadata": {},
     "output_type": "execute_result"
    }
   ],
   "source": [
    "import lecture.Fibonacci;\n",
    "\n",
    "return Fibonacci.fib(10);"
   ]
  },
  {
   "cell_type": "markdown",
   "metadata": {},
   "source": [
    "Now let's try to see what is the sequence of calls in this implementation."
   ]
  },
  {
   "cell_type": "code",
   "execution_count": 18,
   "metadata": {},
   "outputs": [
    {
     "data": {
      "text/plain": [
       "lecture.Fibonacci"
      ]
     },
     "execution_count": 18,
     "metadata": {},
     "output_type": "execute_result"
    }
   ],
   "source": [
    "package lecture;\n",
    "\n",
    "public class Fibonacci {\n",
    "    \n",
    "    public static int fib(int n) {\n",
    "        System.out.printf(\"fib(%d)\\n\", n);\n",
    "        if (n == 0)\n",
    "            return 0;\n",
    "        if (n == 1)\n",
    "            return 1;\n",
    "        else\n",
    "            return fib(n - 1) + fib(n - 2);\n",
    "    }\n",
    "}"
   ]
  },
  {
   "cell_type": "code",
   "execution_count": 19,
   "metadata": {},
   "outputs": [
    {
     "name": "stdout",
     "output_type": "stream",
     "text": [
      "fib(5)\n",
      "fib(4)\n",
      "fib(3)\n",
      "fib(2)\n",
      "fib(1)\n",
      "fib(0)\n",
      "fib(1)\n",
      "fib(2)\n",
      "fib(1)\n",
      "fib(0)\n",
      "fib(3)\n",
      "fib(2)\n",
      "fib(1)\n",
      "fib(0)\n",
      "fib(1)\n"
     ]
    },
    {
     "data": {
      "text/plain": [
       "5"
      ]
     },
     "execution_count": 19,
     "metadata": {},
     "output_type": "execute_result"
    }
   ],
   "source": [
    "import lecture.Fibonacci;\n",
    "\n",
    "return Fibonacci.fib(5);"
   ]
  },
  {
   "cell_type": "markdown",
   "metadata": {},
   "source": [
    "## Dynamic Programming\n",
    "\n",
    "Problems like computing Fibonacci numbers where a solution is computed from multiple subsolutions allow for an optimization that called dynamic programming which enables repeated computed of partial solutions to be avoided by storing them. Thus, dynamic programming trades memory for computational efficiency. \n",
    "\n"
   ]
  },
  {
   "cell_type": "code",
   "execution_count": 27,
   "metadata": {},
   "outputs": [
    {
     "data": {
      "text/plain": [
       "lecture.FibonacciDP"
      ]
     },
     "execution_count": 27,
     "metadata": {},
     "output_type": "execute_result"
    }
   ],
   "source": [
    "package lecture;\n",
    "\n",
    "import java.util.Vector;\n",
    "\n",
    "public class FibonacciDP {\n",
    "    \n",
    "    public static Vector<Integer> f = new Vector<Integer>();\n",
    "    \n",
    "    public static int fib(int n) {\n",
    "        System.out.printf(\"fib(%d) - \", n);\n",
    "        if (f.size() > n) {\n",
    "            System.out.print(\"use cached value\\n\");\n",
    "            return f.get(n);\n",
    "        }\n",
    "        System.out.print(\"compute value\\n\");\n",
    "        if (n == 0) {\n",
    "            f.add(0);\n",
    "            return 0;\n",
    "        }\n",
    "        if (n == 1) {\n",
    "            f.add(1);\n",
    "            return 1;\n",
    "        }\n",
    "        else {\n",
    "            int fn = fib(n - 1) + fib(n - 2);\n",
    "            f.add(fn);\n",
    "            return fn;\n",
    "        }\n",
    "    }\n",
    "}"
   ]
  },
  {
   "cell_type": "code",
   "execution_count": 28,
   "metadata": {},
   "outputs": [
    {
     "name": "stdout",
     "output_type": "stream",
     "text": [
      "fib(5) - compute value\n",
      "fib(4) - compute value\n",
      "fib(3) - compute value\n",
      "fib(2) - compute value\n",
      "fib(1) - compute value\n",
      "fib(0) - use cached value\n",
      "fib(1) - use cached value\n",
      "fib(2) - use cached value\n",
      "fib(3) - use cached value\n"
     ]
    },
    {
     "data": {
      "text/plain": [
       "16"
      ]
     },
     "execution_count": 28,
     "metadata": {},
     "output_type": "execute_result"
    }
   ],
   "source": [
    "import lecture.FibonacciDP;\n",
    "\n",
    "return FibonacciDP.fib(5);"
   ]
  },
  {
   "cell_type": "markdown",
   "metadata": {},
   "source": [
    "## Tree data structures and Traversal\n",
    "\n",
    "As an eample of a tree data structure, let's consider an organigram of a company which records who is reporting to whom. We can model this information as a tree, where the node corresponding to a person `X` is a child of the node corresponding to a person `Y` is `X` reports to `Y`. Once we have created a data structure to store such information and used it to instantiate an organigram, we may want to visualize it. One option for is to print one node in the tree per line and indendent node by a number of tabs that equals the depth of the element in the tree."
   ]
  },
  {
   "cell_type": "code",
   "execution_count": 39,
   "metadata": {},
   "outputs": [
    {
     "data": {
      "text/plain": [
       "lecture.TreeNode"
      ]
     },
     "execution_count": 39,
     "metadata": {},
     "output_type": "execute_result"
    }
   ],
   "source": [
    "package lecture;\n",
    "\n",
    "public class TreeNode {\n",
    "    \n",
    "    public String person;\n",
    "    public TreeNode[] children;\n",
    "    \n",
    "    public TreeNode(String person, TreeNode ... children) {\n",
    "        this.person = person;\n",
    "        this.children = children;\n",
    "    }\n",
    "    \n",
    "}"
   ]
  },
  {
   "cell_type": "markdown",
   "metadata": {},
   "source": [
    "Now how can we create a print all nodes in the tree with the right indentation. First, we observe that the problem of printing a tree like this can be broken down into subtasks:\n",
    "\n",
    "1. We print the root of the current subtree with the current indentation, say `i`\n",
    "2. Then we print the subtrees rooted at the children of the current node with indentation `i+1`.\n",
    "\n",
    "This recursive description immeditialy translates into code:"
   ]
  },
  {
   "cell_type": "code",
   "execution_count": 49,
   "metadata": {},
   "outputs": [
    {
     "data": {
      "text/plain": [
       "lecture.TreePrinter"
      ]
     },
     "execution_count": 49,
     "metadata": {},
     "output_type": "execute_result"
    }
   ],
   "source": [
    "package lecture;\n",
    "\n",
    "public class TreePrinter {\n",
    "    \n",
    "    public static void printTree(TreeNode root) {\n",
    "        printTree(root, 0);\n",
    "    }\n",
    "    \n",
    "    public static void printTree(TreeNode t, int indent) {\n",
    "        StringBuilder ind = new StringBuilder();\n",
    "        for(int i = 0; i < indent; i++)\n",
    "            ind.append('\\t');\n",
    "        System.out.printf(\"%s%s\\n\", ind, t.person);\n",
    "        if (t.children != null)\n",
    "            for(TreeNode child: t.children)\n",
    "                printTree(child, indent + 1);\n",
    "    }\n",
    "    \n",
    "}"
   ]
  },
  {
   "cell_type": "code",
   "execution_count": 50,
   "metadata": {},
   "outputs": [
    {
     "name": "stdout",
     "output_type": "stream",
     "text": [
      "Alice\n",
      "\tPeter\n",
      "\t\tBob\n",
      "\tJane\n"
     ]
    },
    {
     "data": {
      "text/plain": [
       "null"
      ]
     },
     "execution_count": 50,
     "metadata": {},
     "output_type": "execute_result"
    }
   ],
   "source": [
    "import lecture.TreeNode;\n",
    "import lecture.TreePrinter;\n",
    "\n",
    "// in this example Bob reports to Peter who reports to Alice. Jane also reports to Alice.\n",
    "// Alice\n",
    "//     Peter\n",
    "//         Bob\n",
    "//     Jane\n",
    "TreeNode root = new TreeNode(\"Alice\", \n",
    "                             new TreeNode(\"Peter\",\n",
    "                                          new TreeNode(\"Bob\", null)\n",
    "                                         ),\n",
    "                             new TreeNode(\"Jane\", null)\n",
    "                             );\n",
    "\n",
    "TreePrinter.printTree(root);"
   ]
  },
  {
   "cell_type": "markdown",
   "metadata": {},
   "source": [
    "To better highlight the call structure, consider an even simpler example: counting the number of nodes in the tree. Again we can define this number recursively. The number $C(x)$ of nodes in a tree rooted at a node $x$ is \n",
    "\n",
    "$$1 + \\sum_{c\\,\\,\\text{is child of n}} C(c)$$"
   ]
  },
  {
   "cell_type": "code",
   "execution_count": 53,
   "metadata": {},
   "outputs": [
    {
     "data": {
      "text/plain": [
       "lecture.TreeCounter"
      ]
     },
     "execution_count": 53,
     "metadata": {},
     "output_type": "execute_result"
    }
   ],
   "source": [
    "package lecture;\n",
    "\n",
    "public class TreeCounter {\n",
    "    \n",
    "    \n",
    "    public static int countNodes(TreeNode t) {\n",
    "        int i = 1;\n",
    "        if(t.children != null)\n",
    "            for(TreeNode child: t.children)\n",
    "                i += countNodes(child);\n",
    "        return i;\n",
    "    }\n",
    "    \n",
    "}"
   ]
  },
  {
   "cell_type": "code",
   "execution_count": 54,
   "metadata": {},
   "outputs": [
    {
     "data": {
      "text/plain": [
       "4"
      ]
     },
     "execution_count": 54,
     "metadata": {},
     "output_type": "execute_result"
    }
   ],
   "source": [
    "import lecture.TreeNode;\n",
    "import lecture.TreeCounter;\n",
    "\n",
    "// in this example Bob reports to Peter who reports to Alice. Jane also reports to Alice.\n",
    "// Alice\n",
    "//     Peter\n",
    "//         Bob\n",
    "//     Jane\n",
    "TreeNode root = new TreeNode(\"Alice\", \n",
    "                             new TreeNode(\"Peter\",\n",
    "                                          new TreeNode(\"Bob\", null)\n",
    "                                         ),\n",
    "                             new TreeNode(\"Jane\", null)\n",
    "                             );\n",
    "\n",
    "return TreeCounter.countNodes(root);"
   ]
  },
  {
   "cell_type": "markdown",
   "metadata": {},
   "source": [
    "## Searching in Trees - Tree Traversal\n",
    "\n",
    "Say we have a tree like the one above, but the tree is limited to be binary. That is, no node has more than two children. Every node stores some payload, for now a `String`. Assume we want to search for a node with a particular payload in the tree. We can again break this down recursively:\n",
    "\n",
    "1. Is the current node the one we are searching for? If yes, then return true\n",
    "2. Is the search for the node in the left subtree successfull? If yes, then return true\n",
    "3. Is the search for the node in the right subtree successfull? If yes, then return true\n",
    "4. Return false"
   ]
  },
  {
   "cell_type": "markdown",
   "metadata": {},
   "source": [
    "### Traversal Orders\n",
    "\n",
    "Observe that the correctness of the algorithm above is not affected by the order in which we execute steps 1 to 3. Thus, we have 3 different ways how to traverse the tree in which nodes will be visited in different orders:\n",
    "\n",
    "* *Pre-order*: Visit the current node, then visit the left subtree, then the right subtree\n",
    "* *Post-order*: Visit the left subtree, visit the right subtree, visit the current node\n",
    "* *In-order*: Visit the left subtree, visit the current node, visit the right subtree"
   ]
  },
  {
   "cell_type": "code",
   "execution_count": 75,
   "metadata": {},
   "outputs": [
    {
     "data": {
      "text/plain": [
       "lecture.BinaryTreeNode"
      ]
     },
     "execution_count": 75,
     "metadata": {},
     "output_type": "execute_result"
    }
   ],
   "source": [
    "package lecture;\n",
    "\n",
    "public class BinaryTreeNode {\n",
    "    \n",
    "    public String person;\n",
    "    public BinaryTreeNode leftChild = null;\n",
    "    public BinaryTreeNode rightChild = null;\n",
    "    \n",
    "    public BinaryTreeNode(String person, BinaryTreeNode leftChild, BinaryTreeNode rightChild) {\n",
    "        this.person = person;\n",
    "        this.leftChild = leftChild;\n",
    "        this.rightChild = rightChild;\n",
    "    }\n",
    "    \n",
    "    public BinaryTreeNode (String person, BinaryTreeNode leftChild) {\n",
    "        this(person, leftChild, null);\n",
    "    }\n",
    "    \n",
    "    public BinaryTreeNode (String person) {\n",
    "        this(person, null, null);\n",
    "    }\n",
    "}"
   ]
  },
  {
   "cell_type": "code",
   "execution_count": 79,
   "metadata": {},
   "outputs": [
    {
     "data": {
      "text/plain": [
       "lecture.TreeTraversal"
      ]
     },
     "execution_count": 79,
     "metadata": {},
     "output_type": "execute_result"
    }
   ],
   "source": [
    "package lecture;\n",
    "\n",
    "public class TreeTraversal {\n",
    "\n",
    "    public static boolean PreOrder (BinaryTreeNode t, String key) {\n",
    "        if (t == null)\n",
    "            return false;\n",
    "        System.out.printf(\"check self (%s)\\n\", t.person);\n",
    "        if (t.person.equals(key)) {\n",
    "            return true;\n",
    "        }\n",
    "        if (t.leftChild != null) {\n",
    "            System.out.printf(\"visit left of (%s)\\n\", t.person);\n",
    "            if (PreOrder(t.leftChild, key))\n",
    "                return true;\n",
    "        }\n",
    "        if (t.rightChild != null) {\n",
    "            System.out.printf(\"visit right of (%s)\\n\", t.person);\n",
    "            if (PreOrder(t.rightChild, key)) \n",
    "                return true;\n",
    "        }\n",
    "        return false;\n",
    "    }\n",
    "\n",
    "    public static boolean PostOrder (BinaryTreeNode t, String key) {\n",
    "        if (t == null)\n",
    "            return false;\n",
    "        if (t.leftChild != null) {\n",
    "            System.out.printf(\"visit left of (%s)\\n\", t.person);\n",
    "            if (PostOrder(t.leftChild, key))\n",
    "                return true;\n",
    "        }\n",
    "        if (t.rightChild != null) {\n",
    "            System.out.printf(\"visit right of (%s)\\n\", t.person);\n",
    "            if (PostOrder(t.rightChild, key)) \n",
    "                return true;\n",
    "        }\n",
    "        System.out.printf(\"check self (%s)\\n\", t.person);\n",
    "        if (t.person.equals(key)) {\n",
    "            return true;\n",
    "        }\n",
    "        return false;\n",
    "    }\n",
    "\n",
    "    public static boolean InOrder (BinaryTreeNode t, String key) {\n",
    "        if (t == null)\n",
    "            return false;\n",
    "        if (t.leftChild != null) {\n",
    "            System.out.printf(\"visit left of (%s)\\n\", t.person);\n",
    "            if (InOrder(t.leftChild, key))\n",
    "                return true;\n",
    "        }\n",
    "        if (t.person.equals(key)) {\n",
    "            System.out.printf(\"check self (%s)\\n\", t.person);\n",
    "            return true;\n",
    "        }\n",
    "        if (t.rightChild != null) {\n",
    "            System.out.printf(\"visit right of (%s)\\n\", t.person);\n",
    "            if (InOrder(t.rightChild, key)) \n",
    "                return true;\n",
    "        }\n",
    "        return false;\n",
    "    }\n",
    "}"
   ]
  },
  {
   "cell_type": "code",
   "execution_count": 80,
   "metadata": {},
   "outputs": [
    {
     "name": "stdout",
     "output_type": "stream",
     "text": [
      "********** PREORDER **********\n",
      "check self (Alice)\n",
      "visit left of (Alice)\n",
      "check self (Peter)\n",
      "visit left of (Peter)\n",
      "check self (Bob)\n",
      "visit right of (Alice)\n",
      "check self (Jane)\n",
      "********** POSTORDER **********\n",
      "visit left of (Alice)\n",
      "visit left of (Peter)\n",
      "check self (Bob)\n",
      "check self (Peter)\n",
      "visit right of (Alice)\n",
      "check self (Jane)\n",
      "********** INORDER **********\n",
      "visit left of (Alice)\n",
      "visit left of (Peter)\n",
      "visit right of (Alice)\n",
      "check self (Jane)\n"
     ]
    },
    {
     "data": {
      "text/plain": [
       "true"
      ]
     },
     "execution_count": 80,
     "metadata": {},
     "output_type": "execute_result"
    }
   ],
   "source": [
    "import lecture.BinaryTreeNode;\n",
    "import lecture.TreeTraversal;\n",
    "\n",
    "// in this example Bob reports to Peter who reports to Alice. Jane also reports to Alice.\n",
    "// Alice\n",
    "//     Peter\n",
    "//         Bob\n",
    "//     Jane\n",
    "BinaryTreeNode root = new BinaryTreeNode(\"Alice\", \n",
    "                             new BinaryTreeNode(\"Peter\",\n",
    "                                          new BinaryTreeNode(\"Bob\")\n",
    "                                         ),\n",
    "                             new BinaryTreeNode(\"Jane\")\n",
    "                             );\n",
    "\n",
    "boolean hasJane;\n",
    "\n",
    "System.out.println(\"********** PREORDER **********\");\n",
    "hasJane = TreeTraversal.PreOrder(root, \"Jane\");\n",
    "System.out.println(\"********** POSTORDER **********\");\n",
    "hasJane = TreeTraversal.PostOrder(root, \"Jane\");\n",
    "System.out.println(\"********** INORDER **********\");\n",
    "hasJane = TreeTraversal.InOrder(root, \"Jane\");\n",
    "\n",
    "return hasJane;"
   ]
  },
  {
   "cell_type": "code",
   "execution_count": null,
   "metadata": {},
   "outputs": [],
   "source": []
  }
 ],
 "metadata": {
  "kernelspec": {
   "display_name": "Java",
   "language": "java",
   "name": "java"
  },
  "language_info": {
   "codemirror_mode": "text/x-java",
   "file_extension": ".java",
   "mimetype": "",
   "name": "Java",
   "nbconverter_exporter": "",
   "version": "1.8.0_152-release"
  },
  "toc": {
   "base_numbering": 1,
   "nav_menu": {},
   "number_sections": false,
   "sideBar": false,
   "skip_h1_title": false,
   "title_cell": "Table of Contents",
   "title_sidebar": "Contents",
   "toc_cell": false,
   "toc_position": {},
   "toc_section_display": false,
   "toc_window_display": false
  }
 },
 "nbformat": 4,
 "nbformat_minor": 2
}

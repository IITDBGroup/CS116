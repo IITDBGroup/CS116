{
 "cells": [
  {
   "cell_type": "markdown",
   "metadata": {},
   "source": [
    "# Recursion\n",
    "\n",
    "In this part we will discuss the concept of a **call stack** and **recursion**."
   ]
  },
  {
   "cell_type": "markdown",
   "metadata": {},
   "source": [
    "As an example of **tail recursion** let's consider searching through a singly linked list."
   ]
  },
  {
   "cell_type": "code",
   "execution_count": 1,
   "metadata": {},
   "outputs": [
    {
     "data": {
      "text/plain": [
       "lecture.StringList"
      ]
     },
     "execution_count": 1,
     "metadata": {},
     "output_type": "execute_result"
    }
   ],
   "source": [
    "package lecture;\n",
    "\n",
    "public class StringList {\n",
    "    \n",
    "    protected class StringListElement {\n",
    "        public String data;\n",
    "        public StringListElement next;\n",
    "        \n",
    "        public StringListElement(String data) {\n",
    "            this.data = data;\n",
    "            this.next = null;\n",
    "        }\n",
    "    }\n",
    "    \n",
    "    private StringListElement head;\n",
    "    \n",
    "    public StringList() {\n",
    "        this.head = null;\n",
    "    }\n",
    "    \n",
    "    public StringList(String ... e) {\n",
    "        this.head = null;\n",
    "        for(String el: e) {\n",
    "            add(el);\n",
    "        }\n",
    "    }\n",
    "    \n",
    "    public void add(String e) {\n",
    "        if (head == null) {\n",
    "            head = new StringListElement(e);\n",
    "        }\n",
    "        StringListElement last = findLast(head);\n",
    "    }\n",
    "    \n",
    "    public String get(int position) throws Exception {\n",
    "        StringListElement cur = head;\n",
    "        \n",
    "        for(int i = 0; i < position; i++) {\n",
    "            if (cur == null) {\n",
    "                throw new Exception(String.format(\"no element at position %d\", position));\n",
    "            }\n",
    "            cur = cur.next;\n",
    "        }\n",
    "        return cur.data;\n",
    "    }\n",
    "    \n",
    "    // really not a smart way to implement this\n",
    "    public StringListElement findLast(StringListElement e) {\n",
    "        if (e.next == null)\n",
    "            return e;\n",
    "        else\n",
    "            return findLast(e.next);\n",
    "    }\n",
    "    \n",
    "    @Override\n",
    "    public String toString() {\n",
    "        StringListElement cur = head;\n",
    "        StringBuilder b = new StringBuilder();\n",
    "        b.append(\"[\");\n",
    "        while(cur != null) {\n",
    "            b.append(cur.data);\n",
    "            if (cur.next != null)\n",
    "                b.append(\", \");\n",
    "            cur = cur.next;\n",
    "        }\n",
    "        b.append(\"]\");\n",
    "    }\n",
    "}"
   ]
  },
  {
   "cell_type": "code",
   "execution_count": 4,
   "metadata": {},
   "outputs": [
    {
     "ename": "package lecture does not exist",
     "evalue": "package lecture does not exist",
     "output_type": "error",
     "traceback": [
      "\u001b[1;31mpackage lecture does not exist\u001b[0;0m",
      "\u001b[1;31m import lecture.StringList\u001b[0;0m",
      "\u001b[1;31m        ^                 ^ \u001b[0;0m",
      "\u001b[1;31m\u001b[0;0m",
      "\u001b[1;31mcannot find symbol\u001b[0;0m",
      "\u001b[1;31m  symbol:   class StringList\u001b[0;0m",
      "\u001b[0;31m  location: class com.twosigma.beaker.javash.bkr3abfe796.BeakerWrapperClass1261714175Id866595c114bb4956a7a7599ef2409573\u001b[0;0m",
      "\u001b[0;31m StringList x = new StringList(\"Peter\", \"\u001b[0;0m",
      "\u001b[0;31m ^         ^                               \u001b[0;0m",
      "\u001b[0;31m\u001b[0;0m",
      "\u001b[0;31mcannot find symbol\u001b[0;0m",
      "\u001b[0;31m  symbol:   class StringList\u001b[0;0m",
      "\u001b[0;31m  location: class com.twosigma.beaker.javash.bkr3abfe796.BeakerWrapperClass1261714175Id866595c114bb4956a7a7599ef2409573\u001b[0;0m",
      "\u001b[0;31m StringList x = new StringList(\"Peter\", \"Bob\", \"Alice\")\u001b[0;0m",
      "\u001b[0;31m                    ^         ^                          \u001b[0;0m",
      "\u001b[0;31m\u001b[0;0m",
      "\u001b[0;31mcannot find symbol\u001b[0;0m",
      "\u001b[0;31m  symbol:   class StringList\u001b[0;0m",
      "\u001b[0;31m  location: class com.twosigma.beaker.javash.bkr3abfe796.BeakerWrapperClass1261714175Id866595c114bb4956a7a7599ef2409573\u001b[0;0m",
      "\u001b[0;31m return ((StringList) x).toString()\u001b[0;0m",
      "\u001b[0;31m          ^         ^                \u001b[0;0m"
     ]
    }
   ],
   "source": [
    "import lecture.StringList;\n",
    "\n",
    "StringList x = new StringList(\"Peter\", \"Bob\", \"Alice\");\n",
    "x.add(\"Jane\");\n",
    "return ((StringList) x).toString();"
   ]
  },
  {
   "cell_type": "markdown",
   "metadata": {},
   "source": [
    "### Fibonacci Numbers\n",
    "\n",
    "The Fibonacci numbers are recursively defined as: `f(0) = 0`, `f(1) = 1`, for `n > 1`: `f(n) = f(n-1) + f(n-2)`"
   ]
  },
  {
   "cell_type": "code",
   "execution_count": 5,
   "metadata": {},
   "outputs": [
    {
     "data": {
      "text/plain": [
       "lecture.Fibonaci"
      ]
     },
     "execution_count": 5,
     "metadata": {},
     "output_type": "execute_result"
    }
   ],
   "source": [
    "package lecture;\n",
    "\n",
    "public class Fibonacci {\n",
    "    \n",
    "    public static int fib(int n) {\n",
    "        if (n == 0)\n",
    "            return 0;\n",
    "        if (n == 1)\n",
    "            return 1;\n",
    "        else\n",
    "            return fib(n - 1) + fib(n - 2);\n",
    "    }\n",
    "}"
   ]
  },
  {
   "cell_type": "code",
   "execution_count": 7,
   "metadata": {},
   "outputs": [
    {
     "data": {
      "text/plain": [
       "89"
      ]
     },
     "execution_count": 7,
     "metadata": {},
     "output_type": "execute_result"
    }
   ],
   "source": [
    "import lecture.Fibonacci;\n",
    "\n",
    "return Fibonacci.fib(10);"
   ]
  },
  {
   "cell_type": "code",
   "execution_count": null,
   "metadata": {},
   "outputs": [],
   "source": []
  }
 ],
 "metadata": {
  "kernelspec": {
   "display_name": "Java",
   "language": "java",
   "name": "java"
  },
  "language_info": {
   "codemirror_mode": "text/x-java",
   "file_extension": ".java",
   "mimetype": "",
   "name": "Java",
   "nbconverter_exporter": "",
   "version": "1.8.0_152-release"
  },
  "toc": {
   "base_numbering": 1,
   "nav_menu": {},
   "number_sections": false,
   "sideBar": false,
   "skip_h1_title": false,
   "title_cell": "Table of Contents",
   "title_sidebar": "Contents",
   "toc_cell": false,
   "toc_position": {},
   "toc_section_display": false,
   "toc_window_display": false
  }
 },
 "nbformat": 4,
 "nbformat_minor": 2
}

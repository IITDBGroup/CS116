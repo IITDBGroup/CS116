{
 "cells": [
  {
   "cell_type": "markdown",
   "metadata": {},
   "source": [
    "# Classes and Objects\n",
    "\n",
    "In addition to **primitive** types, Java supports objects. In Java classes are organized into packages (each class belongs to exactly). \n",
    "The purpose of packages is to provide namespaces (you can defined two classes with the same name as long as they belong to different packages) and to provide a means to organize your code.\n",
    "Packages are organized hierarchically and elements in the hierarchy are separated by `.`. \n",
    "The rules what constitutes a valid package name are the same as for class, variable, field, and method names: [Naming Rules](https://docs.oracle.com/javase/specs/jls/se11/html/jls-3.html#jls-JavaLetter). Most importantly, identifiers start with an letter followed by a sequenced of numbers and letter. A package name element cannot be the same as any identifiers defined in the language. It is idomatic to only use lower case letters in package names and to ensure worldwide uniqueness of package names by prefixing them with a reverse internet domain name. For instance, packages from `www.iit.edu` should be prefixed with `edu.iit.`.\n",
    "\n",
    "* `my_package.my_subpackage` **(OK)**\n",
    "* `MyPackage.MyOtherPackage` **(OK, but does not following naming conventions)**\n",
    "* `if` **(NOT OK, because `if` is a keyword in Java)**\n",
    "* `1MyPackage` **(NOT OK, starts with a number)**\n",
    "* `My1Package` **(OK, only the first character has to be a letter)**\n",
    "* `Äüö` **(OK, but maybe not recommendable to use non ASCII letters)**\n",
    "\n",
    "Java defines rules for how you have to organize your source code into directories and files. The source code of a class `A` has to be stored in a file called `A.java`. This file has to be stored in a directory structure that reflects the hierarchy of the name of the package a class belongs to. For example, if `A` belongs to package `edu.iit` then Java expects the directory structure to be:\n",
    "\n",
    "```sh\n",
    "/edu/iit/A.java\n",
    "```\n",
    "\n",
    "The file containing the source code of a class has to have the following structure (here `?` denotes optional elements:\n",
    "\n",
    "```\n",
    "<package_declaration>\n",
    "<imports>?\n",
    "\n",
    "<modifiers> <class_name> <extends>? <implements>? {\n",
    "\n",
    "}\n",
    "```\n",
    "\n",
    "The package declaration determines what package the class belongs to. It is the form `package <package_name>;`. For instance, if we define a class in package `edu.iit.` the package declaration is:\n",
    "\n",
    "```java\n",
    "package edu.iit;\n",
    "```\n",
    "\n",
    "* The `<imports>` section allows you to import classes from other packages that are then available for use withing the class we are defining. More about that later below.\n",
    "\n",
    "* The `<modifiers>` determine the visibility of a class and other characteristics (more below). \n",
    "\n",
    "* The optional `<extends>` determines the super class of the class we are defining (more about that when we talk about inheritance below.\n",
    "\n",
    "* The optional  `<implements>` part specifies which **interfaces** the class implements. We will dedicate a separate part of the course to interfaces.\n",
    "\n",
    "\n"
   ]
  },
  {
   "cell_type": "code",
   "execution_count": 43,
   "metadata": {},
   "outputs": [
    {
     "data": {
      "text/plain": [
       "lecture.MyFirstClass"
      ]
     },
     "execution_count": 43,
     "metadata": {},
     "output_type": "execute_result"
    }
   ],
   "source": [
    "package lecture;\n",
    "\n",
    "public class MyFirstClass {\n",
    "    \n",
    "    public static void main(String[] args) {\n",
    "        System.out.println(\"hello world\");\n",
    "    }\n",
    "\n",
    "}"
   ]
  },
  {
   "cell_type": "code",
   "execution_count": 10,
   "metadata": {},
   "outputs": [
    {
     "name": "stdout",
     "output_type": "stream",
     "text": [
      "hello world\n"
     ]
    },
    {
     "data": {
      "text/plain": [
       "null"
      ]
     },
     "execution_count": 10,
     "metadata": {},
     "output_type": "execute_result"
    }
   ],
   "source": [
    "import lecture.MyFirstClass;\n",
    "MyFirstClass.main(null);"
   ]
  },
  {
   "cell_type": "markdown",
   "metadata": {},
   "source": [
    "# Fields\n",
    "\n",
    "The fields of a class are used to store data. Fields can be of a primitive type or reference type. Fields are declared as part of the class body (within the curly brackets). For instance, below we define a class `A` that has two fields of type `int`. Class fields that are not expicilty initialized are initialized to a default value (see lecture on primitive types).\n",
    "\n",
    "```java\n",
    "public class A {\n",
    "    public int a;\n",
    "    public int b;   \n",
    "}\n",
    "```"
   ]
  },
  {
   "cell_type": "code",
   "execution_count": 14,
   "metadata": {},
   "outputs": [
    {
     "data": {
      "text/plain": [
       "lecture.A"
      ]
     },
     "execution_count": 14,
     "metadata": {},
     "output_type": "execute_result"
    }
   ],
   "source": [
    "package lecture;\n",
    "\n",
    "public class A {\n",
    "    public int a;\n",
    "    public int b;\n",
    "}"
   ]
  },
  {
   "cell_type": "code",
   "execution_count": 22,
   "metadata": {},
   "outputs": [
    {
     "data": {
      "text/plain": [
       "x is { 1, 2 }\n",
       "\n",
       "y is { 3, 4 }"
      ]
     },
     "execution_count": 22,
     "metadata": {},
     "output_type": "execute_result"
    }
   ],
   "source": [
    "import lecture.A;\n",
    "\n",
    "A x = new A();\n",
    "x.a = 1;\n",
    "x.b = 2;\n",
    "\n",
    "A y = new A();\n",
    "y.a = 3;\n",
    "y.b = 4;\n",
    "\n",
    "return String.format(\"x is { %d, %d }\\n\\ny is { %d, %d }\", x.a, x.b, y.a, y.b);"
   ]
  },
  {
   "cell_type": "markdown",
   "metadata": {},
   "source": [
    "Now let us consider a class with a field that is of a reference type."
   ]
  },
  {
   "cell_type": "code",
   "execution_count": 29,
   "metadata": {},
   "outputs": [
    {
     "data": {
      "text/plain": [
       "lecture.B"
      ]
     },
     "execution_count": 29,
     "metadata": {},
     "output_type": "execute_result"
    }
   ],
   "source": [
    "package lecture;\n",
    "\n",
    "public class B {\n",
    "    public A a = new A(); // create a new A object\n",
    "    public int c = -1; // initialize to -1\n",
    "}"
   ]
  },
  {
   "cell_type": "code",
   "execution_count": 32,
   "metadata": {},
   "outputs": [
    {
     "data": {
      "text/plain": [
       "3"
      ]
     },
     "execution_count": 32,
     "metadata": {},
     "output_type": "execute_result"
    }
   ],
   "source": [
    "import lecture.B;\n",
    "\n",
    "B x = new B();\n",
    "x.a.a = 3; // access the int a of the field of type A\n",
    "return x.a.a;"
   ]
  },
  {
   "cell_type": "markdown",
   "metadata": {},
   "source": [
    "### Visibility\n",
    "\n",
    "In Java fields and classes can be assigned one of four visibilities: `public`, `protected`, `package` (default), and `private`. A `public` field can be accessed from anywhere, a `protected` field can only be accessed from code within the same package as the class and from within subclasses, `package` from within the package, and `private` fields can only be accessed from within the class itself. Trying to access a field from outside of its visibility scope results in a compile time error."
   ]
  },
  {
   "cell_type": "code",
   "execution_count": 17,
   "metadata": {},
   "outputs": [
    {
     "data": {
      "text/plain": [
       "lecture.SecretA"
      ]
     },
     "execution_count": 17,
     "metadata": {},
     "output_type": "execute_result"
    }
   ],
   "source": [
    "package lecture;\n",
    "\n",
    "public class SecretA {\n",
    "    private int a;\n",
    "    private int b;\n",
    "}"
   ]
  },
  {
   "cell_type": "code",
   "execution_count": 18,
   "metadata": {},
   "outputs": [
    {
     "ename": "a has private access in lecture.SecretA",
     "evalue": "a has private access in lecture.SecretA",
     "output_type": "error",
     "traceback": [
      "\u001b[1;31ma has private access in lecture.SecretA\u001b[0;0m",
      "\u001b[1;31m x.a = 1\u001b[0;0m",
      "\u001b[1;31m ^  ^     \u001b[0;0m"
     ]
    }
   ],
   "source": [
    "import lecture.SecretA;\n",
    "\n",
    "SecretA x = new SecretA();\n",
    "x.a = 1;"
   ]
  },
  {
   "cell_type": "markdown",
   "metadata": {},
   "source": [
    "### Static vs. Non-Static\n",
    "\n",
    "In Jave fields can exist once for the class independent of any instance of the class or once per instance"
   ]
  },
  {
   "cell_type": "code",
   "execution_count": 20,
   "metadata": {},
   "outputs": [
    {
     "data": {
      "text/plain": [
       "lecture.StaticA"
      ]
     },
     "execution_count": 20,
     "metadata": {},
     "output_type": "execute_result"
    }
   ],
   "source": [
    "package lecture;\n",
    "\n",
    "public class StaticA {\n",
    "    public static int a;\n",
    "    public int b;\n",
    "}"
   ]
  },
  {
   "cell_type": "code",
   "execution_count": 25,
   "metadata": {},
   "outputs": [
    {
     "data": {
      "text/plain": [
       "StaticA.a is { 2 }\n",
       "\n",
       "x.b is { 10 }\n",
       "\n",
       "y.b is {  20 }"
      ]
     },
     "execution_count": 25,
     "metadata": {},
     "output_type": "execute_result"
    }
   ],
   "source": [
    "import lecture.StaticA;\n",
    "StaticA x = new StaticA ();\n",
    "StaticA y = new StaticA ();\n",
    "StaticA.a = 1;\n",
    "x.b = 10;\n",
    "StaticA.a = 2; // this overwrites the previous value since \"a\" exists once for the class StaticA\n",
    "y.b = 20;\n",
    "\n",
    "\n",
    "return String.format(\"StaticA.a is { %d }\\n\\nx.b is { %d }\\n\\ny.b is {  %d }\", StaticA.a, x.b, y.b);\n"
   ]
  },
  {
   "cell_type": "markdown",
   "metadata": {},
   "source": [
    "# Methods\n",
    "\n",
    "Method are used to implemented functionality specific to a class. Similar to fields, methods are declared with an access modifier determining the visibility. Furthermore, methods can be static or non-static. All methods have a **return type**. For methods that do not return a value the special type `void` is used. Methods take zero or more arguments which are declared as parameters. The syntax for a method definition is:\n",
    "\n",
    "```java\n",
    "<modifiers> <return_type> <method_name> (<parameters>) <throws_declaration>\n",
    "{\n",
    "    <method_body>\n",
    "}\n",
    "```\n",
    "\n",
    "A parameter is declared as `<type> <name>` just like you declare variables. Here `<modifiers>` can be one of the access modifiers discussed above. We will discuss the `<throws_declaration>` which is related to exception handling later in the course.\n",
    "\n",
    "Methods can be called to execute their method body. When calling a method one has to pass values to the methods that are bound to its parameters. The syntax of a method call is:\n",
    "\n",
    "```java\n",
    "<method_name> ( <arguments> )\n",
    "```\n",
    "\n",
    "To call a method within a class, you just use its name. From outside of the class you call a static method by qualifying it by its class name, e.g., if `a` is static method of a class `A` then you call it like this: `A.a()`. Non-static methods are called using a variable, e.g., \n",
    "\n",
    "```java\n",
    "String a = \"test\";\n",
    "\n",
    "a.toLower();\n",
    "```\n",
    "\n",
    "To return a value from a method, the `return` statement is used. For instance, to return the numeric value 1:\n",
    "\n",
    "```java\n",
    "return 1;\n",
    "```"
   ]
  },
  {
   "cell_type": "code",
   "execution_count": 37,
   "metadata": {},
   "outputs": [
    {
     "data": {
      "text/plain": [
       "lecture.MyFirstMethod"
      ]
     },
     "execution_count": 37,
     "metadata": {},
     "output_type": "execute_result"
    }
   ],
   "source": [
    "package lecture;\n",
    "\n",
    "public class MyFirstMethod {\n",
    "    \n",
    "    // a static method that contatenates two Strings and outputs them on the commandline\n",
    "    public static void myStaticMethod (String a, String b) {\n",
    "        System.out.println(a + \" \" + b);\n",
    "    }\n",
    "\n",
    "    // a non-static method that contatenates two Strings and outputs them on the commandline\n",
    "    public void myMethod (String a, String b) {\n",
    "        System.out.println(a + \" \" + b);       \n",
    "    }\n",
    "    \n",
    "}"
   ]
  },
  {
   "cell_type": "code",
   "execution_count": 39,
   "metadata": {},
   "outputs": [
    {
     "name": "stdout",
     "output_type": "stream",
     "text": [
      "hello  world! I am a static method\n",
      "hello  world! I am a non-static method\n"
     ]
    },
    {
     "data": {
      "text/plain": [
       "null"
      ]
     },
     "execution_count": 39,
     "metadata": {},
     "output_type": "execute_result"
    }
   ],
   "source": [
    "import lecture.MyFirstMethod;\n",
    "MyFirstMethod.myStaticMethod(\"hello\", \" world! I am a static method\");\n",
    "\n",
    "MyFirstMethod x = new MyFirstMethod();\n",
    "\n",
    "x.myMethod(\"hello\", \" world! I am a non-static method\");"
   ]
  },
  {
   "cell_type": "code",
   "execution_count": 40,
   "metadata": {},
   "outputs": [
    {
     "data": {
      "text/plain": [
       "lecture.MyFirstReturnMethod"
      ]
     },
     "execution_count": 40,
     "metadata": {},
     "output_type": "execute_result"
    }
   ],
   "source": [
    "package lecture;\n",
    "\n",
    "public class MyFirstReturnMethod {\n",
    "    \n",
    "    public static String concat (String a, String b) {\n",
    "        return a + b;\n",
    "    }\n",
    "    \n",
    "}"
   ]
  },
  {
   "cell_type": "code",
   "execution_count": 42,
   "metadata": {},
   "outputs": [
    {
     "data": {
      "text/plain": [
       "Hello World"
      ]
     },
     "execution_count": 42,
     "metadata": {},
     "output_type": "execute_result"
    }
   ],
   "source": [
    "import lecture.MyFirstReturnMethod;\n",
    "\n",
    "MyFirstReturnMethod x = new MyFirstReturnMethod();\n",
    "\n",
    "return x.concat(\"Hello\", \" World\");"
   ]
  },
  {
   "cell_type": "markdown",
   "metadata": {},
   "source": [
    "## The main method\n",
    "\n",
    "The `main` method has a special meaning in Java. It is the main entry point for a program. That is whenever you start a Java program, the `main` method of a class (that you specify) will be executed. The signature of main is\n",
    "\n",
    "```java\n",
    "public static void main(String[] args);\n",
    "```\n",
    "\n",
    "Here `args` is an array (to be explained later) of parameters that are passed to the program."
   ]
  },
  {
   "cell_type": "markdown",
   "metadata": {},
   "source": [
    "## Method overloading\n",
    "\n",
    "Method **overloading** is when a class defines multiple methods with the same name. This is allowed in Java as long as any pair of methods with the same name have different parameters, e.g.,\n",
    "\n",
    "```java\n",
    "public void process(String first, String second);\n",
    "public void process(String first);\n",
    "public void process(int other, String another);\n",
    "```"
   ]
  },
  {
   "cell_type": "code",
   "execution_count": 23,
   "metadata": {},
   "outputs": [
    {
     "data": {
      "text/plain": [
       "lecture.MyOverloading"
      ]
     },
     "execution_count": 23,
     "metadata": {},
     "output_type": "execute_result"
    }
   ],
   "source": [
    "package lecture;\n",
    "\n",
    "public class MyOverloading {\n",
    "    \n",
    "    public static void printIt(String arg) {\n",
    "        System.out.println(arg);\n",
    "    }\n",
    "    \n",
    "    public static void printIt(int arg) {\n",
    "        System.out.printf(\"%d\\n\", arg);\n",
    "    }\n",
    "    \n",
    "}"
   ]
  },
  {
   "cell_type": "code",
   "execution_count": 24,
   "metadata": {},
   "outputs": [
    {
     "name": "stdout",
     "output_type": "stream",
     "text": [
      "hello\n",
      "13\n"
     ]
    },
    {
     "data": {
      "text/plain": [
       "null"
      ]
     },
     "execution_count": 24,
     "metadata": {},
     "output_type": "execute_result"
    }
   ],
   "source": [
    "import lecture.MyOverloading;\n",
    "\n",
    "MyOverloading.printIt(\"hello\");\n",
    "MyOverloading.printIt(13);"
   ]
  },
  {
   "cell_type": "markdown",
   "metadata": {},
   "source": [
    "# Inheritance\n",
    "\n",
    "An important part of the object-oriented programming paradigm is reuse of functionality without code duplication through the use of **inheritance**. In a Java a class can extend another class. This is declared in the class declaration, e.g.,\n",
    "\n",
    "```java\n",
    "public class MySub extends MySuper {\n",
    "}\n",
    "```\n",
    "\n",
    "specifies that class `MySub` extends `MySuper`. In this context we call `MySub` the **subclass** and `MySuper` the **superclass**. A subclass inherits all fields and methods from its superclass. For example, any method defined for `MySuper` also exists for `MySub`. For example, assume you define a class for sorting information about Vehicles:"
   ]
  },
  {
   "cell_type": "code",
   "execution_count": 12,
   "metadata": {},
   "outputs": [
    {
     "data": {
      "text/plain": [
       "lecture.Vehicle"
      ]
     },
     "execution_count": 12,
     "metadata": {},
     "output_type": "execute_result"
    }
   ],
   "source": [
    "package lecture;\n",
    "\n",
    "public class Vehicle {\n",
    "    \n",
    "    private int weightLb;\n",
    "    private int numWheels = 4;\n",
    "    \n",
    "    public Vehicle (int weightLb) {\n",
    "        this.weightLb = weightLb;\n",
    "    }\n",
    "    \n",
    "    public Vehicle (int weightLb, int numWheels) {\n",
    "        this.weightLb = weightLb;\n",
    "        this.numWheels = numWheels;\n",
    "    }\n",
    "    \n",
    "    public int getWeightLb() {\n",
    "        return weightLb;\n",
    "    }\n",
    "    \n",
    "    public int getNumWheels() {\n",
    "        return numWheels;\n",
    "    }\n",
    "    \n",
    "    public void setWeightLb(int weightLb) {\n",
    "        this.weightLb = weightLb;\n",
    "    }\n",
    "    \n",
    "    public void setNumWheels(int numWheels) {\n",
    "        this.numWheels = numWheels;\n",
    "    }\n",
    "    \n",
    "    public String toString () {\n",
    "        return String.format(\"I am a Vehicle that weights %d and has %d wheel(s).\", weightLb, numWheels);\n",
    "    }\n",
    "}"
   ]
  },
  {
   "cell_type": "code",
   "execution_count": 13,
   "metadata": {},
   "outputs": [
    {
     "data": {
      "text/plain": [
       "I am a Vehicle that weights 4505 and has 4 wheel(s)."
      ]
     },
     "execution_count": 13,
     "metadata": {},
     "output_type": "execute_result"
    }
   ],
   "source": [
    "import lecture.Vehicle;\n",
    "\n",
    "Vehicle x = new Vehicle(4505);\n",
    "return x.toString();"
   ]
  },
  {
   "cell_type": "markdown",
   "metadata": {},
   "source": [
    "Now say that we have motor bikes that have always 2 wheels and which we want to store whether they are sports bikes or now. We could copy the code from our `Vehicle` class as a starting point. But that leads to code duplication which is messy and can result in bugs, e.g., if we fix a bug in the `Vehicle` class, then we may forget to fix it the `Bike` class. A better idea is to let `Bike` extend `Vehicle`."
   ]
  },
  {
   "cell_type": "code",
   "execution_count": 14,
   "metadata": {},
   "outputs": [
    {
     "data": {
      "text/plain": [
       "lecture.Bike"
      ]
     },
     "execution_count": 14,
     "metadata": {},
     "output_type": "execute_result"
    }
   ],
   "source": [
    "package lecture;\n",
    "\n",
    "public class Bike extends Vehicle {\n",
    "    \n",
    "    private boolean isSports;\n",
    "    \n",
    "    public Bike (int weightLb, boolean isSports) {\n",
    "        super(weightLb);\n",
    "        this.isSports = isSports;\n",
    "        setNumWheels(2);\n",
    "    }\n",
    "    \n",
    "    public boolean getIsSports () {\n",
    "        return isSports;\n",
    "    }\n",
    "    \n",
    "    public void setIsSports (boolean isSports) {\n",
    "        this.isSports = isSports;\n",
    "    }\n",
    "    \n",
    "    @Override\n",
    "    public String toString() {\n",
    "        return String.format(\"I am a %s bike and I weight %d lb\", (isSports) ? \"sports\": \"\", getWeightLb());\n",
    "    }\n",
    "    \n",
    "}"
   ]
  },
  {
   "cell_type": "code",
   "execution_count": 15,
   "metadata": {},
   "outputs": [
    {
     "data": {
      "text/plain": [
       "I am a sports bike and I weight 530 lb"
      ]
     },
     "execution_count": 15,
     "metadata": {},
     "output_type": "execute_result"
    }
   ],
   "source": [
    "import lecture.Bike;\n",
    "\n",
    "Bike x = new Bike (530, true);\n",
    "return x.toString();"
   ]
  },
  {
   "cell_type": "markdown",
   "metadata": {},
   "source": [
    "Here we made use of serval features that require further explanation. First of, in the constructor for `Bike` we called one of the constructors for `Vehicle` using the `super` keyword. Note that if we call the constructor of a superclass within the constructor for a subclass, this has to be the first statment in the constructor of the subclass. Furthermore, we made use of overriding which allows a subclass to redefine a method defined by a superclass. In this particular example, we want the `toString` method to tell us that the object is a bike and whether it is a sports bike. We have achieved this by overriding the `toString` method. For understandability you can annotate a overriden class using `@Override`. This is optional. We will talk more about annotations later.\n"
   ]
  },
  {
   "cell_type": "markdown",
   "metadata": {},
   "source": [
    "## Polymorphism"
   ]
  },
  {
   "cell_type": "markdown",
   "metadata": {},
   "source": [
    "Using a variable of a superclass we can assign an object of any direct or indirect subclass. This is called polymorphism. Calling a method that is overridden in the subclass will call the overridden method:"
   ]
  },
  {
   "cell_type": "code",
   "execution_count": 17,
   "metadata": {},
   "outputs": [
    {
     "name": "stdout",
     "output_type": "stream",
     "text": [
      "x.toString: I am a sports bike and I weight 530 lb\n",
      "b.toString: I am a sports bike and I weight 530 lb\n",
      "y.toString: I am a Vehicle that weights 4500 and has 4 wheel(s).\n"
     ]
    },
    {
     "data": {
      "text/plain": [
       "null"
      ]
     },
     "execution_count": 17,
     "metadata": {},
     "output_type": "execute_result"
    }
   ],
   "source": [
    "import lecture.Vehicle;\n",
    "import lecture.Bike;\n",
    "\n",
    "Vehicle x = new Bike(530, true);\n",
    "Bike b = (Bike) x;\n",
    "Vehicle y = new Vehicle(4500);\n",
    "\n",
    "System.out.println(\"x.toString: \" + x.toString());\n",
    "System.out.println(\"b.toString: \" + b.toString());\n",
    "System.out.println(\"y.toString: \" + y.toString());"
   ]
  },
  {
   "cell_type": "markdown",
   "metadata": {},
   "source": [
    "Using a variable of the superclass we cannot access methods or fields defined in the subclass."
   ]
  },
  {
   "cell_type": "code",
   "execution_count": 18,
   "metadata": {},
   "outputs": [
    {
     "ename": "cannot find symbol",
     "evalue": "cannot find symbol",
     "output_type": "error",
     "traceback": [
      "\u001b[1;31mcannot find symbol\u001b[0;0m",
      "\u001b[1;31m  symbol:   method getIsSports()\u001b[0;0m",
      "\u001b[1;31m  location: variable x of type lecture.Vehicle\u001b[0;0m",
      "\u001b[1;31mntln(\"x.toString: \" + (String) x.getIsSports())\u001b[0;0m",
      "\u001b[1;31m                               ^            ^    \u001b[0;0m"
     ]
    }
   ],
   "source": [
    "import lecture.Vehicle;\n",
    "import lecture.Bike;\n",
    "\n",
    "Vehicle x = new Bike(530, true);\n",
    "\n",
    "System.out.println(\"x.toString: \" + (String) x.getIsSports());"
   ]
  },
  {
   "cell_type": "code",
   "execution_count": 19,
   "metadata": {},
   "outputs": [
    {
     "name": "stdout",
     "output_type": "stream",
     "text": [
      "b.isSports: true\n"
     ]
    },
    {
     "data": {
      "text/plain": [
       "null"
      ]
     },
     "execution_count": 19,
     "metadata": {},
     "output_type": "execute_result"
    }
   ],
   "source": [
    "import lecture.Vehicle;\n",
    "import lecture.Bike;\n",
    "\n",
    "Bike b = new Bike(530, true);\n",
    "\n",
    "System.out.println(\"b.isSports: \" + b.getIsSports());"
   ]
  },
  {
   "cell_type": "markdown",
   "metadata": {},
   "source": [
    "## Scope, Lifetime, and Hidding\n",
    "\n",
    "The **scope** of a variable is the part of the program where it is valid. The **lifetime** of a variable is when it is valid. \n",
    "\n",
    "### Scopes\n",
    "\n",
    "In Java the following scopes exist:\n",
    "\n",
    "* **class scope** - elements with class scope are valid within the class\n",
    "* **method scope** - elements with method scope are valid within the body of a method\n",
    "* **local scope** - elements with local scope are valid within the block of code (between `{` and `}`) they are defined in starting from their definition\n",
    "* **loop scope** - elements with loop scope are valid within a loop\n",
    "\n",
    "### Lifetimes\n",
    "\n",
    "The lifetime of elements is as follows:\n",
    "\n",
    "* **class scope** - elements start to exist when an instance of the class is created and continue to exist during the objects lifetime\n",
    "* **method scope** - elements start to exist when the method is called and are valid until the method call returns\n",
    "* **local scope** - elements start to exist when the execution of the code block reaches the declaration of the variable and are valid until execution reaches the end of the code block\n",
    "* **loop scope** - elements start to exist when the execution enters the loop and are valid until the loop finishes\n",
    "\n",
    "### What has which scope?\n",
    "\n",
    "* **non-static fields of a class** have *class scope*\n",
    "* **method parameters** have *method scope*\n",
    "* **variables declared in a code block** have *local scope*\n",
    "* **loop variable** have *loop scope*\n",
    "\n",
    "### Hiding\n",
    "\n",
    "Multiple variables with the same name, but different scopes may exist at the same time. This is allowed in Java. The name allways refers to the the variable defined in the innermost scope. This is only allowed for the following cases:\n",
    "* **method parameters** or **local variables** hide a classes field\n",
    "\n",
    "* **Note**: A variable name can only be used once within the scope of a method!"
   ]
  },
  {
   "cell_type": "code",
   "execution_count": 15,
   "metadata": {},
   "outputs": [
    {
     "ename": "cannot find symbol",
     "evalue": "cannot find symbol",
     "output_type": "error",
     "traceback": [
      "\u001b[1;31mcannot find symbol\u001b[0;0m",
      "\u001b[1;31m  symbol:   variable x\u001b[0;0m",
      "\u001b[0;31m  location: class com.twosigma.beaker.javash.bkr77150e89.BeakerWrapperClass1261714175Id0df4b5da7ba24b45af36fcf08cf935f5\u001b[0;0m",
      "\u001b[0;31m return x\u001b[0;0m",
      "\u001b[0;31m        ^^ \u001b[0;0m"
     ]
    }
   ],
   "source": [
    "{ \n",
    "    int x;\n",
    "    x = 3;\n",
    "}\n",
    "return x; // the scope of x is the block of code between {} -> this leads to an error"
   ]
  },
  {
   "cell_type": "code",
   "execution_count": 16,
   "metadata": {},
   "outputs": [
    {
     "data": {
      "text/plain": [
       "3"
      ]
     },
     "execution_count": 16,
     "metadata": {},
     "output_type": "execute_result"
    }
   ],
   "source": [
    "{\n",
    "    int x;\n",
    "    x = 3;\n",
    "    return x; // this works\n",
    "}"
   ]
  },
  {
   "cell_type": "code",
   "execution_count": 17,
   "metadata": {},
   "outputs": [
    {
     "name": "stdout",
     "output_type": "stream",
     "text": [
      "0\n",
      "1\n",
      "2\n"
     ]
    },
    {
     "data": {
      "text/plain": [
       "null"
      ]
     },
     "execution_count": 17,
     "metadata": {},
     "output_type": "execute_result"
    }
   ],
   "source": [
    "for(int i = 0; i < 3; i++) { // i has loop scope and is valid within the loop\n",
    "    System.out.println(i);\n",
    "}"
   ]
  },
  {
   "cell_type": "code",
   "execution_count": 22,
   "metadata": {},
   "outputs": [
    {
     "data": {
      "text/plain": [
       "lecture.Scopes"
      ]
     },
     "execution_count": 22,
     "metadata": {},
     "output_type": "execute_result"
    }
   ],
   "source": [
    "package lecture;\n",
    "\n",
    "public class Scopes {\n",
    "    \n",
    "    public int x = 15;\n",
    "    \n",
    "    public void m (int x) {\n",
    "        System.out.println(x); // this prints the parameter that hides the class field x\n",
    "    }\n",
    "}"
   ]
  },
  {
   "cell_type": "code",
   "execution_count": 23,
   "metadata": {},
   "outputs": [
    {
     "name": "stdout",
     "output_type": "stream",
     "text": [
      "20\n"
     ]
    },
    {
     "data": {
      "text/plain": [
       "null"
      ]
     },
     "execution_count": 23,
     "metadata": {},
     "output_type": "execute_result"
    }
   ],
   "source": [
    "import lecture.Scopes;\n",
    "\n",
    "Scopes a = new Scopes();\n",
    "a.m(20); // returns 20"
   ]
  },
  {
   "cell_type": "code",
   "execution_count": 18,
   "metadata": {},
   "outputs": [
    {
     "ename": "variable x is already defined in method beakerRun()",
     "evalue": "variable x is already defined in method beakerRun()",
     "output_type": "error",
     "traceback": [
      "\u001b[1;31mvariable x is already defined in method beakerRun()\u001b[0;0m",
      "\u001b[1;31m int x = 2; return x\u001b[0;0m",
      "\u001b[1;31m ^         ^          \u001b[0;0m"
     ]
    }
   ],
   "source": [
    "{ \n",
    "    int x = 1;\n",
    "    {\n",
    "        int x = 2; // not allowed since the outer x is still in scope\n",
    "    }\n",
    "}"
   ]
  },
  {
   "cell_type": "code",
   "execution_count": 26,
   "metadata": {},
   "outputs": [
    {
     "ename": "ERROR",
     "evalue": " java.lang.IllegalStateException",
     "output_type": "error",
     "traceback": [
      "\u001b[1;31mERROR: java.lang.IllegalStateException: reached end of file while parsing\u001b[0;0m",
      "\u001b[1;31m }\u001b[0;0m",
      "\u001b[1;31m  ^\u001b[0;0m"
     ]
    }
   ],
   "source": [
    "package lecture;\n",
    "\n",
    "public class BrokenScopes {\n",
    "      \n",
    "    public static void m (int x) {\n",
    "    {\n",
    "        int x = 40; // parameter is already called x\n",
    "    }\n",
    "}"
   ]
  },
  {
   "cell_type": "markdown",
   "metadata": {},
   "source": [
    "## The this and super keywords\n",
    "\n",
    "The `this` keyword is used to access a field or method of an object's class within the code of the class. The `super` keyword accesses fields and methods of a super class.\n",
    "\n",
    "### This\n",
    "\n",
    "An idiomatic use case of the `this` keyword in Java is passing parameters to a constructor to initialize the values of fields. It is customary to give such parameters the same name as the name of the field. However, this makes it then necessary to use the `this` keyword, because the constructor parameters *hide* the fields.\n",
    "\n",
    "```java\n",
    "public class X {\n",
    "   \n",
    "    private int a;\n",
    "    \n",
    "    public X(int a ) {\n",
    "        this.a = a; // use this to refer to the field which is hidden by the parameter of the same name\n",
    "    }\n",
    "    \n",
    "...   \n",
    "}\n",
    "```\n",
    "\n",
    "### Super\n",
    "\n",
    "The `super` keyword is used to refer to a method from a superclass within the context of a subclass.\n",
    "\n",
    "```java\n",
    "public class X {\n",
    " \n",
    "    public int calculate() {\n",
    "    ...   \n",
    "    }\n",
    "}\n",
    "\n",
    "public class Y extends X {\n",
    "    \n",
    "    public int calculate() {\n",
    "       ...\n",
    "       super.calculate(); // we have to use super to be able to access the calculate method of the X class since Y overrides it\n",
    "    }\n",
    "    \n",
    "}\n",
    "```\n"
   ]
  },
  {
   "cell_type": "code",
   "execution_count": 8,
   "metadata": {},
   "outputs": [
    {
     "data": {
      "text/plain": [
       "lecture.SuperClass"
      ]
     },
     "execution_count": 8,
     "metadata": {},
     "output_type": "execute_result"
    }
   ],
   "source": [
    "package lecture;\n",
    "\n",
    "public class SuperClass {\n",
    "    \n",
    "    int x;\n",
    "     \n",
    "    public int calculate() {\n",
    "        return x + x;\n",
    "    }    \n",
    "    \n",
    "    public int getX() {\n",
    "        return x;\n",
    "    }\n",
    "    \n",
    "    public void setX(int x) {\n",
    "        this.x = x;\n",
    "    }\n",
    "}"
   ]
  },
  {
   "cell_type": "code",
   "execution_count": 9,
   "metadata": {},
   "outputs": [
    {
     "data": {
      "text/plain": [
       "lecture.SubClass"
      ]
     },
     "execution_count": 9,
     "metadata": {},
     "output_type": "execute_result"
    }
   ],
   "source": [
    "package lecture;\n",
    "\n",
    "public class SubClass extends SuperClass {\n",
    "    \n",
    "    public int calculate() {\n",
    "        int y = super.calculate();\n",
    "        return y * y;\n",
    "    }    \n",
    "}"
   ]
  },
  {
   "cell_type": "code",
   "execution_count": 11,
   "metadata": {},
   "outputs": [
    {
     "data": {
      "text/plain": [
       "100"
      ]
     },
     "execution_count": 11,
     "metadata": {},
     "output_type": "execute_result"
    }
   ],
   "source": [
    "import lecture.SuperClass;\n",
    "import lecture.SubClass;\n",
    "\n",
    "SubClass v = new  SubClass();\n",
    "v.setX(5);\n",
    "return v.calculate(); // return (x + x) * (x + x)"
   ]
  },
  {
   "cell_type": "markdown",
   "metadata": {},
   "source": [
    "# Root Class \"Object\"\n",
    "\n",
    "In Java all classes are inherited directly or indirectly from the class `Object`. This class defines several methods that are, thus, through inheritance also available for every class in Java. Here we only review a few of them. \n",
    "\n",
    "* `public String toString()` - returns a representation of the object as a string. The default implementation returns the fully qualified name of the class (including the package name) and an interal id for the opject\n",
    "* `public boolean equals (Object o)` - returns true if `o`  is the same object as our object. Can be overridden to define a domain-specific notion of equality.\n",
    "* `public long hashCode()` - returns a hash code for this object. This is used, e.g., by certain collection data structures that we will talk about later.\n",
    "* `public Class getClass()` - returns an object of class `Class` that contains a description of the class the object is an instance of (more about this later when we talk about **Reflection**). This allows us to do interesting things like finding out the fields and methods of an object of an unknown class at runtime."
   ]
  },
  {
   "cell_type": "markdown",
   "metadata": {},
   "source": [
    "# Constructors and Creating Objects (Instances of a class)\n",
    "\n",
    "In Java, there are no object variables, but all variables are references. Objects are created by using the `new` operator, e.g., `new Integer(1)` creates an instance (object) of class `Integer`. `new` calls the appropriate **constructor** of the class based on the types of arguments passed in parenthesis to the `new` operator. Constructors are special functions in a class that have the same name as the class and for which no return value is specified. Note that constructors are also subject to inheritance and the root class `Object` defines a default constructor. That is, for our `MyFirstClass` calling `new MyFirstClass()` ended up calling the default constructor."
   ]
  },
  {
   "cell_type": "code",
   "execution_count": 9,
   "metadata": {},
   "outputs": [
    {
     "data": {
      "text/plain": [
       "lecture.MyFirstClass@48013589"
      ]
     },
     "execution_count": 9,
     "metadata": {},
     "output_type": "execute_result"
    }
   ],
   "source": [
    "import lecture.*;\n",
    "\n",
    "MyFirstClass x = new MyFirstClass();\n",
    "return x;"
   ]
  },
  {
   "cell_type": "code",
   "execution_count": 3,
   "metadata": {},
   "outputs": [
    {
     "data": {
      "text/plain": [
       "lecture.MyMultiConstructor"
      ]
     },
     "execution_count": 3,
     "metadata": {},
     "output_type": "execute_result"
    }
   ],
   "source": [
    "package lecture;\n",
    "\n",
    "public class MyMultiConstructor {\n",
    "    \n",
    "    public int x;\n",
    "    public int y;\n",
    "    \n",
    "    // first constructor does not take any arguments\n",
    "    public MyMultiConstructor () {\n",
    "        x = 0;\n",
    "        y = 0;\n",
    "    }\n",
    "    \n",
    "    // second one takes x and y as arguments\n",
    "    public MyMultiConstructor(int x, int y) {\n",
    "        this.x = x;\n",
    "        this.y = y;\n",
    "    }\n",
    "}"
   ]
  },
  {
   "cell_type": "code",
   "execution_count": 4,
   "metadata": {},
   "outputs": [
    {
     "data": {
      "text/plain": [
       "20"
      ]
     },
     "execution_count": 4,
     "metadata": {},
     "output_type": "execute_result"
    }
   ],
   "source": [
    "import lecture.MyMultiConstructor;\n",
    "\n",
    "MyMultiConstructor a = new MyMultiConstructor(10,20);\n",
    "return a.y;"
   ]
  },
  {
   "cell_type": "markdown",
   "metadata": {},
   "source": [
    "# Operators for objects"
   ]
  },
  {
   "cell_type": "markdown",
   "metadata": {},
   "source": [
    "## Equality comparison\n",
    "\n",
    "Two reference variables can be compared to equality using `==`. This returns `true` if both are referencing the same object and `false` otherwise. Note that the value of fields are irrelevant here. Two obejcts are only considered to be the same if they are physcially the same object."
   ]
  },
  {
   "cell_type": "code",
   "execution_count": 8,
   "metadata": {},
   "outputs": [
    {
     "name": "stdout",
     "output_type": "stream",
     "text": [
      "x and y are the same object? true\n",
      "x and z are the same object? false\n"
     ]
    },
    {
     "data": {
      "text/plain": [
       "null"
      ]
     },
     "execution_count": 8,
     "metadata": {},
     "output_type": "execute_result"
    }
   ],
   "source": [
    "import lecture.MyMultiConstructor;\n",
    "\n",
    "MyMultiConstructor x = new MyMultiConstructor(10,10);\n",
    "MyMultiConstructor y = x; // y points to the same object as x\n",
    "MyMultiConstructor z = new MyMultiConstructor(10,10); // even though the object pointed to by z has the same value as the one pointed to x and y they are not the same object\n",
    "\n",
    "System.out.printf(\"x and y are the same object? %b\\n\", x == y);\n",
    "System.out.printf(\"x and z are the same object? %b\\n\", x == z);"
   ]
  },
  {
   "cell_type": "markdown",
   "metadata": {},
   "source": [
    "## The instanceof operator\n",
    "\n",
    "The `<object> instanceof <class>` operator is used to check whether an object `<object>` is an instance of class `<class>` or of one of the subclasses of `<class>`."
   ]
  },
  {
   "cell_type": "code",
   "execution_count": 22,
   "metadata": {},
   "outputs": [
    {
     "name": "stdout",
     "output_type": "stream",
     "text": [
      "x instance of Vehicle: true\n",
      "x instance of Bike: true\n",
      "b instance of Vehicle: true\n",
      "y instance of Vehicle: true\n",
      "y instance of Bike: false\n"
     ]
    },
    {
     "data": {
      "text/plain": [
       "null"
      ]
     },
     "execution_count": 22,
     "metadata": {},
     "output_type": "execute_result"
    }
   ],
   "source": [
    "import lecture.Bike;\n",
    "import lecture.Vehicle;\n",
    "\n",
    "Vehicle x = new Bike(530, true);\n",
    "Bike b = (Bike) x;\n",
    "Vehicle y = new Vehicle(4500);\n",
    "\n",
    "System.out.printf(\"x instance of Vehicle: %b\\n\", x instanceof Vehicle);\n",
    "System.out.printf(\"x instance of Bike: %b\\n\", x instanceof Bike);\n",
    "System.out.printf(\"b instance of Vehicle: %b\\n\", b instanceof Vehicle);\n",
    "System.out.printf(\"y instance of Vehicle: %b\\n\", y instanceof Vehicle);\n",
    "System.out.printf(\"y instance of Bike: %b\\n\", y instanceof Bike);"
   ]
  },
  {
   "cell_type": "markdown",
   "metadata": {},
   "source": [
    "# Casting References\n",
    "\n",
    "As we have seen above, reference types can be casted. Java enforces type saefty for this:\n",
    "\n",
    "* a cast `(<class>) <variable>` is valid if the object pointed to be `<variable>` is an instance of `<class>` or one of the subtypes of `<class>`."
   ]
  }
 ],
 "metadata": {
  "kernelspec": {
   "display_name": "Java",
   "language": "java",
   "name": "java"
  },
  "language_info": {
   "codemirror_mode": "text/x-java",
   "file_extension": ".java",
   "mimetype": "",
   "name": "Java",
   "nbconverter_exporter": "",
   "version": "11.0.1"
  },
  "toc": {
   "base_numbering": 1,
   "nav_menu": {},
   "number_sections": false,
   "sideBar": false,
   "skip_h1_title": false,
   "title_cell": "Table of Contents",
   "title_sidebar": "Contents",
   "toc_cell": false,
   "toc_position": {},
   "toc_section_display": false,
   "toc_window_display": false
  }
 },
 "nbformat": 4,
 "nbformat_minor": 2
}

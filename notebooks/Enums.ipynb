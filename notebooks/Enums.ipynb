{
 "cells": [
  {
   "cell_type": "markdown",
   "metadata": {},
   "source": [
    "# Manually implementing enumerations\n",
    "\n",
    "An enumeration is type with a fixed (typical small) number of values, e.g., colors (red, green, blue), or marriage status, ...\n"
   ]
  },
  {
   "cell_type": "code",
   "execution_count": 22,
   "metadata": {},
   "outputs": [
    {
     "data": {
      "text/plain": [
       "lecture.Colors"
      ]
     },
     "execution_count": 22,
     "metadata": {},
     "output_type": "execute_result"
    }
   ],
   "source": [
    "package lecture;\n",
    "\n",
    "public class Colors {\n",
    "    \n",
    "    public static final Colors red = new Colors(\"red\");\n",
    "    public static final Colors green = new Colors(\"green\");\n",
    "    public static final Colors blue = new Colors(\"blue\");\n",
    "    private static final Colors[] values = { red, green, blue };\n",
    "    \n",
    "    private String name;\n",
    "    \n",
    "    private Colors(String name) {\n",
    "        this.name = name;\n",
    "    }\n",
    "    \n",
    "    public static Colors getColor(String name) {\n",
    "        for(int i = 0; i < values.length; i++)\n",
    "            if (values[i].name.equals(name))\n",
    "                return values[i];\n",
    "        return null;\n",
    "    }\n",
    "    \n",
    "    public String toString() {\n",
    "        return name;\n",
    "    }\n",
    "}"
   ]
  },
  {
   "cell_type": "code",
   "execution_count": 24,
   "metadata": {},
   "outputs": [
    {
     "name": "stdout",
     "output_type": "stream",
     "text": [
      "red\n"
     ]
    },
    {
     "data": {
      "text/plain": [
       "true"
      ]
     },
     "execution_count": 24,
     "metadata": {},
     "output_type": "execute_result"
    }
   ],
   "source": [
    "import lecture.Colors;\n",
    "\n",
    "Colors x = Colors.red;\n",
    "Colors y = Colors.blue;\n",
    "Colors z = Colors.red;\n",
    "\n",
    "System.out.println(x.toString());\n",
    "\n",
    "return x.equals(z);"
   ]
  },
  {
   "cell_type": "markdown",
   "metadata": {},
   "source": [
    "# Enumeration types\n",
    "\n",
    "In this part we learn about enumeration types in Java. An enumeration is a type whose instances can be one of a fixed number of values declared as part of the type. In Java enumerations are declared like this:\n",
    "\n",
    "```java\n",
    "<modifier> enum <enum_name> {\n",
    "    <value_1>,\n",
    "    <value_2>,\n",
    "    ...\n",
    "    <value_n>\n",
    "}\n",
    "```\n",
    "\n",
    "Enums are all implicitly subclasses of class `java.lang.Enum`."
   ]
  },
  {
   "cell_type": "code",
   "execution_count": 2,
   "metadata": {},
   "outputs": [
    {
     "data": {
      "text/plain": [
       "lecture.Enums"
      ]
     },
     "execution_count": 2,
     "metadata": {},
     "output_type": "execute_result"
    }
   ],
   "source": [
    "package lecture;\n",
    "\n",
    "public class Enums {\n",
    "\n",
    "// we want a type to store a color which can be either red, green, or blue\n",
    "public enum Colors {\n",
    "    Red,\n",
    "    Green,\n",
    "    Blue\n",
    "};\n",
    "\n",
    "// and one to store the texture of an object either rough or smooth \n",
    "public enum Texture {\n",
    "    rough,\n",
    "    smooth\n",
    "};\n",
    "    \n",
    "}"
   ]
  },
  {
   "cell_type": "code",
   "execution_count": 5,
   "metadata": {},
   "outputs": [
    {
     "name": "stdout",
     "output_type": "stream",
     "text": [
      "myColor == myThirdColor (both are red): true\n",
      "myColor.toString(): Red\n",
      "all values of Colors: [Red, Green, Blue]\n",
      "Ordinal of Green is: 1\n",
      "get Green from String - Green\n"
     ]
    },
    {
     "data": {
      "text/plain": [
       "null"
      ]
     },
     "execution_count": 5,
     "metadata": {},
     "output_type": "execute_result"
    }
   ],
   "source": [
    "import lecture.Enums.Colors;\n",
    "import java.util.Arrays;\n",
    "\n",
    "Colors myColor = Colors.Red;\n",
    "Colors myOtherColor = Colors.Blue;\n",
    "Colors myThirdColor = Colors.Red;\n",
    "\n",
    "// enums can be compared based on equality\n",
    "System.out.println(\"myColor == myThirdColor (both are red): \" + (myColor == myThirdColor));\n",
    "\n",
    "// enums can be toString'ed\n",
    "System.out.println(\"myColor.toString(): \" + myColor.toString());\n",
    "\n",
    "// you can access all values of an enum through .values()\n",
    "System.out.println(\"all values of Colors: \" + Arrays.toString(Colors.values()));\n",
    "\n",
    "// each value of an enum has an ordinal value associated with it based on its position in the definition of the enum, e.g., Green has ordinal 1 (2nd color)\n",
    "System.out.println(\"Ordinal of Green is: \" + Colors.Green.ordinal());\n",
    "\n",
    "// enums support mapping a string to the corresponding enum value\n",
    "System.out.println(\"get Green from String - \" + Colors.valueOf(\"Green\"));"
   ]
  },
  {
   "cell_type": "markdown",
   "metadata": {},
   "source": [
    "## Fields in Enumeration Types\n",
    "\n",
    "Enumeration types can have fields that store additional information about a value. Fields are accessed like fields of other objects. To set the values of a field a Enumeration type must define a constructor. For each value of the enumeration, the arguments passed to the constructor are provided in `()` after the value. Enumeration types can define methods. "
   ]
  },
  {
   "cell_type": "code",
   "execution_count": 6,
   "metadata": {},
   "outputs": [
    {
     "data": {
      "text/plain": [
       "lecture.MoreEnums"
      ]
     },
     "execution_count": 6,
     "metadata": {},
     "output_type": "execute_result"
    }
   ],
   "source": [
    "package lecture;\n",
    "\n",
    "public class MoreEnums {\n",
    "    \n",
    "    public enum LengthUnits {\n",
    "        inch(2.5),\n",
    "        cm(1),\n",
    "        meter(100);\n",
    "        \n",
    "        public double lenInCm;\n",
    "            \n",
    "        LengthUnits(double lenInCm) {\n",
    "            this.lenInCm = lenInCm;\n",
    "        }\n",
    "        \n",
    "        public double convertTo(int quantitiy, LengthUnits target) {\n",
    "            double targetUnitCm = target.lenInCm;\n",
    "            double sourceUnitCm = this.lenInCm;\n",
    "            double ratio = sourceUnitCm / targetUnitCm;\n",
    "            \n",
    "            return quantitiy * ratio;\n",
    "        }\n",
    "    }\n",
    "}"
   ]
  },
  {
   "cell_type": "code",
   "execution_count": 8,
   "metadata": {},
   "outputs": [
    {
     "name": "stdout",
     "output_type": "stream",
     "text": [
      "inch in cm: 2.5\n",
      "15 inch in cm: 37.5\n"
     ]
    },
    {
     "data": {
      "text/plain": [
       "null"
      ]
     },
     "execution_count": 8,
     "metadata": {},
     "output_type": "execute_result"
    }
   ],
   "source": [
    "import lecture.MoreEnums.LengthUnits;\n",
    "import static lecture.MoreEnums.LengthUnits.*; // values are implemented internally as static fields of an enumeration type. Thus, we can import them for convenient usage\n",
    "\n",
    "LengthUnits l = inch;\n",
    "System.out.println(\"inch in cm: \" + l.lenInCm);\n",
    "\n",
    "System.out.println(\"15 inch in cm: \" + inch.convertTo(15, cm));"
   ]
  },
  {
   "cell_type": "markdown",
   "metadata": {},
   "source": [
    "## Enums in switch\n",
    "\n",
    "Expressions that evaluate to an enumeration type can be used as an input to a `switch` statement."
   ]
  },
  {
   "cell_type": "code",
   "execution_count": 9,
   "metadata": {},
   "outputs": [
    {
     "name": "stdout",
     "output_type": "stream",
     "text": [
      "we are using inch\n"
     ]
    },
    {
     "data": {
      "text/plain": [
       "null"
      ]
     },
     "execution_count": 9,
     "metadata": {},
     "output_type": "execute_result"
    }
   ],
   "source": [
    "import lecture.MoreEnums.LengthUnits;\n",
    "import static lecture.MoreEnums.LengthUnits.*;\n",
    "\n",
    "LengthUnits l = inch;\n",
    "\n",
    "switch(l) {\n",
    "    case inch:\n",
    "        System.out.println(\"we are using inch\");\n",
    "        break;\n",
    "    case cm:\n",
    "        System.out.println(\"cm\");\n",
    "        break;\n",
    "}\n"
   ]
  }
 ],
 "metadata": {
  "kernelspec": {
   "display_name": "Java",
   "language": "java",
   "name": "java"
  },
  "language_info": {
   "codemirror_mode": "text/x-java",
   "file_extension": ".java",
   "mimetype": "",
   "name": "Java",
   "nbconverter_exporter": "",
   "version": "11.0.1"
  },
  "toc": {
   "base_numbering": 1,
   "nav_menu": {},
   "number_sections": false,
   "sideBar": false,
   "skip_h1_title": false,
   "title_cell": "Table of Contents",
   "title_sidebar": "Contents",
   "toc_cell": false,
   "toc_position": {},
   "toc_section_display": false,
   "toc_window_display": false
  }
 },
 "nbformat": 4,
 "nbformat_minor": 2
}

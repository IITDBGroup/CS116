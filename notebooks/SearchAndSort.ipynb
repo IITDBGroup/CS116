{
 "cells": [
  {
   "cell_type": "markdown",
   "metadata": {},
   "source": [
    "# Algorithms for searching and sorting\n",
    "\n",
    "In this part we will apply what we have learned about algorithms using the example of searching within data structures and sorting lists."
   ]
  },
  {
   "cell_type": "code",
   "execution_count": 1,
   "metadata": {},
   "outputs": [
    {
     "data": {
      "text/plain": [
       "true"
      ]
     },
     "execution_count": 1,
     "metadata": {},
     "output_type": "execute_result"
    }
   ],
   "source": [
    "import java.util.List; \n",
    "\n",
    "// linear search over an unsorted list\n",
    "List<Integer> l = List.of(1,5,43,23,3,6,13);\n",
    "int e = 6;\n",
    "\n",
    "for(Integer i: l)\n",
    "    if (e == i)\n",
    "        return true;\n",
    "\n",
    "\n",
    "return false;"
   ]
  },
  {
   "cell_type": "code",
   "execution_count": 23,
   "metadata": {},
   "outputs": [
    {
     "data": {
      "text/plain": [
       "lecture.BinarySearch"
      ]
     },
     "execution_count": 23,
     "metadata": {},
     "output_type": "execute_result"
    }
   ],
   "source": [
    "package lecture;\n",
    "\n",
    "import java.util.List;\n",
    "\n",
    "public class BinarySearch {\n",
    "    \n",
    "    public static boolean search(List l, int e) {\n",
    "        System.out.println(\"\\n\\n----- search for \" + e + \" ------\");\n",
    "        return binSearch(l, e, 0, l.size() - 1);\n",
    "    }\n",
    "    \n",
    "    private static boolean binSearch(List<Integer> l, int e, int low, int high) {\n",
    "        int mid = (low + high) / 2;\n",
    "        System.out.printf(\"searching for %d [%d,%d,%d]\\n\", e, low, mid, high);\n",
    "        if (low > high)\n",
    "            return false;\n",
    "        if (e == l.get(mid))\n",
    "            return true;\n",
    "        else if (e < l.get(mid))\n",
    "            return binSearch(l, e, low, mid - 1);\n",
    "        else // (e > l.get(mid))\n",
    "            return binSearch(l, e, mid + 1, high);\n",
    "    }   \n",
    "}"
   ]
  },
  {
   "cell_type": "code",
   "execution_count": 24,
   "metadata": {},
   "outputs": [
    {
     "name": "stdout",
     "output_type": "stream",
     "text": [
      "\n",
      "\n",
      "----- search for 1 ------\n",
      "searching for 1 [0,4,8]\n",
      "searching for 1 [0,1,3]\n",
      "searching for 1 [0,0,0]\n",
      "\n",
      "Is 1 in list: true\n",
      "\n",
      "\n",
      "----- search for 4 ------\n",
      "searching for 4 [0,4,8]\n",
      "searching for 4 [0,1,3]\n",
      "\n",
      "Is 4 in list: true\n",
      "\n",
      "\n",
      "----- search for 5 ------\n",
      "searching for 5 [0,4,8]\n",
      "searching for 5 [0,1,3]\n",
      "searching for 5 [2,2,3]\n",
      "searching for 5 [2,1,1]\n",
      "\n",
      "Is 5 in list: false\n",
      "\n",
      "\n",
      "----- search for 7 ------\n",
      "searching for 7 [0,4,8]\n",
      "searching for 7 [0,1,3]\n",
      "searching for 7 [2,2,3]\n",
      "searching for 7 [3,3,3]\n",
      "\n",
      "Is 7 in list: true\n",
      "\n",
      "\n",
      "----- search for 9 ------\n",
      "searching for 9 [0,4,8]\n",
      "\n",
      "Is 9 in list: true\n",
      "\n",
      "\n",
      "----- search for 10 ------\n",
      "searching for 10 [0,4,8]\n",
      "searching for 10 [5,6,8]\n",
      "searching for 10 [5,5,5]\n",
      "\n",
      "Is 10 in list: true\n",
      "\n",
      "\n",
      "----- search for 13 ------\n",
      "searching for 13 [0,4,8]\n",
      "searching for 13 [5,6,8]\n",
      "\n",
      "Is 13 in list: true\n",
      "\n",
      "\n",
      "----- search for 22 ------\n",
      "searching for 22 [0,4,8]\n",
      "searching for 22 [5,6,8]\n",
      "searching for 22 [7,7,8]\n",
      "\n",
      "Is 22 in list: true\n",
      "\n",
      "\n",
      "----- search for 24 ------\n",
      "searching for 24 [0,4,8]\n",
      "searching for 24 [5,6,8]\n",
      "searching for 24 [7,7,8]\n",
      "searching for 24 [8,8,8]\n",
      "\n",
      "Is 24 in list: true\n",
      "\n",
      "\n",
      "----- search for 0 ------\n",
      "searching for 0 [0,4,8]\n",
      "searching for 0 [0,1,3]\n",
      "searching for 0 [0,0,0]\n",
      "searching for 0 [0,0,-1]\n",
      "\n",
      "Is 0 in list: false\n",
      "\n",
      "\n",
      "----- search for 11 ------\n",
      "searching for 11 [0,4,8]\n",
      "searching for 11 [5,6,8]\n",
      "searching for 11 [5,5,5]\n",
      "searching for 11 [6,5,5]\n",
      "\n",
      "Is 11 in list: false\n",
      "\n",
      "\n",
      "----- search for 50 ------\n",
      "searching for 50 [0,4,8]\n",
      "searching for 50 [5,6,8]\n",
      "searching for 50 [7,7,8]\n",
      "searching for 50 [8,8,8]\n",
      "searching for 50 [9,8,8]\n",
      "\n",
      "Is 50 in list: false\n"
     ]
    },
    {
     "data": {
      "text/plain": [
       "null"
      ]
     },
     "execution_count": 24,
     "metadata": {},
     "output_type": "execute_result"
    }
   ],
   "source": [
    "import java.util.List;\n",
    "import lecture.BinarySearch;\n",
    "\n",
    "List<Integer> l = List.of(1,4,6,7,9,10,13,22,24); // list has to be sorted for binary search\n",
    "\n",
    "System.out.println(\"\\nIs 1 in list: \" + BinarySearch.search(l, 1));\n",
    "System.out.println(\"\\nIs 4 in list: \" + BinarySearch.search(l, 4));\n",
    "System.out.println(\"\\nIs 5 in list: \" + BinarySearch.search(l, 5));\n",
    "System.out.println(\"\\nIs 7 in list: \" + BinarySearch.search(l, 7));\n",
    "System.out.println(\"\\nIs 9 in list: \" + BinarySearch.search(l, 9));\n",
    "System.out.println(\"\\nIs 10 in list: \" + BinarySearch.search(l, 10));\n",
    "System.out.println(\"\\nIs 13 in list: \" + BinarySearch.search(l, 13));\n",
    "System.out.println(\"\\nIs 22 in list: \" + BinarySearch.search(l, 22));\n",
    "System.out.println(\"\\nIs 24 in list: \" + BinarySearch.search(l, 24));\n",
    "\n",
    "System.out.println(\"\\nIs 0 in list: \" + BinarySearch.search(l, 0));\n",
    "System.out.println(\"\\nIs 11 in list: \" + BinarySearch.search(l, 11));\n",
    "System.out.println(\"\\nIs 50 in list: \" + BinarySearch.search(l, 50));"
   ]
  },
  {
   "cell_type": "code",
   "execution_count": 31,
   "metadata": {},
   "outputs": [
    {
     "data": {
      "text/plain": [
       "lecture.QuickSort"
      ]
     },
     "execution_count": 31,
     "metadata": {},
     "output_type": "execute_result"
    }
   ],
   "source": [
    "package lecture;\n",
    "\n",
    "public class QuickSort {\n",
    "    \n",
    "    public static void sort(int[] l) {\n",
    "        qsort(l, 0, l.length - 1);\n",
    "    }\n",
    "    \n",
    "    private static void qsort(int[] l, int low, int high) {\n",
    "        if (low < high) {\n",
    "            int mid = partition(l, low, high);\n",
    "            qsort(l, low, mid - 1);\n",
    "            qsort(l, mid + 1, high);\n",
    "        }\n",
    "    }\n",
    "    \n",
    "    private static void swap(int[] l, int left, int right) {\n",
    "        int temp = l[left];\n",
    "        l[left] = l[right];\n",
    "        l[right] = temp;\n",
    "    }\n",
    "    \n",
    "    private static int partition(int[] l, int low, int high) {\n",
    "        int p = l[high]; // choose last element as pivot\n",
    "        while(low < high) {\n",
    "            if (l[low] > p)\n",
    "                swap(l, low, high--);\n",
    "            else\n",
    "                low++;\n",
    "        }\n",
    "        return low;\n",
    "    }\n",
    "    \n",
    "}"
   ]
  },
  {
   "cell_type": "code",
   "execution_count": 43,
   "metadata": {},
   "outputs": [
    {
     "data": {
      "text/plain": [
       "lecture.BubbleSort"
      ]
     },
     "execution_count": 43,
     "metadata": {},
     "output_type": "execute_result"
    }
   ],
   "source": [
    "package lecture;\n",
    "\n",
    "public class BubbleSort {\n",
    "    \n",
    "    public static void sort(int[] l) {\n",
    "        for(int i = 0; i < l.length - 1; i++) {\n",
    "            for(int j = i+1; j < l.length; j++) {\n",
    "                if (l[j-1] > l[j]) {\n",
    "                    int temp = l[j-1];\n",
    "                    l[j-1] = l[j];\n",
    "                    l[j] = temp;\n",
    "                }\n",
    "            }\n",
    "        }\n",
    "    }\n",
    "}"
   ]
  },
  {
   "cell_type": "code",
   "execution_count": 45,
   "metadata": {},
   "outputs": [
    {
     "data": {
      "text/plain": [
       "lecture.SelectionSort"
      ]
     },
     "execution_count": 45,
     "metadata": {},
     "output_type": "execute_result"
    }
   ],
   "source": [
    "package lecture;\n",
    "\n",
    "public class SelectionSort {\n",
    "\n",
    "    public static void sort(int[] l) {\n",
    "        for(int i = 0; i < l.length - 1; i++) {\n",
    "            int min = l[i];\n",
    "            int pos = i;\n",
    "            \n",
    "            for(int j = i+1; j < l.length; j++) {\n",
    "                if(l[j] < min) {\n",
    "                    min = l[j];\n",
    "                    pos = j;\n",
    "                }\n",
    "            }\n",
    "            swap(l, i, pos);\n",
    "        }\n",
    "    }\n",
    "    \n",
    "    private static void swap(int[] l, int left, int right) {\n",
    "        int temp = l[left];\n",
    "        l[left] = l[right];\n",
    "        l[right] = temp;\n",
    "    }\n",
    "    \n",
    "\n",
    "}"
   ]
  },
  {
   "cell_type": "code",
   "execution_count": 37,
   "metadata": {},
   "outputs": [
    {
     "data": {
      "text/plain": [
       "[1, 3, 7, 4, 9, 24, 64, 65, 100]"
      ]
     },
     "execution_count": 37,
     "metadata": {},
     "output_type": "execute_result"
    }
   ],
   "source": [
    "import java.util.List;\n",
    "import java.util.Arrays;\n",
    "import lecture.QuickSort;\n",
    "\n",
    "int[] l = { 1,4,24, 3, 9, 7, 100, 65, 64 }; // list has to be sorted for binary search\n",
    "\n",
    "QuickSort.sort(l);\n",
    "\n",
    "return Arrays.toString(l);"
   ]
  },
  {
   "cell_type": "code",
   "execution_count": 38,
   "metadata": {},
   "outputs": [
    {
     "data": {
      "text/plain": [
       "[1, 3, 4, 7, 9, 24, 64, 65, 100]"
      ]
     },
     "execution_count": 38,
     "metadata": {},
     "output_type": "execute_result"
    }
   ],
   "source": [
    "import java.util.List;\n",
    "import java.util.Arrays;\n",
    "import lecture.BubbleSort;\n",
    "\n",
    "int[] l = { 1,4,24, 3, 9, 7, 100, 65, 64 }; // list has to be sorted for binary search\n",
    "\n",
    "BubbleSort.sort(l);\n",
    "\n",
    "return Arrays.toString(l);"
   ]
  },
  {
   "cell_type": "code",
   "execution_count": 46,
   "metadata": {},
   "outputs": [
    {
     "data": {
      "text/plain": [
       "[1, 3, 4, 7, 9, 24, 64, 65, 100]"
      ]
     },
     "execution_count": 46,
     "metadata": {},
     "output_type": "execute_result"
    }
   ],
   "source": [
    "import java.util.List;\n",
    "import java.util.Arrays;\n",
    "import lecture.SelectionSort;\n",
    "\n",
    "int[] l = { 1,4,24, 3, 9, 7, 100, 65, 64 }; // list has to be sorted for binary search\n",
    "\n",
    "SelectionSort.sort(l);\n",
    "\n",
    "return Arrays.toString(l);"
   ]
  },
  {
   "cell_type": "code",
   "execution_count": 52,
   "metadata": {},
   "outputs": [
    {
     "name": "stdout",
     "output_type": "stream",
     "text": [
      "Quicksort start\n",
      "Quicksort end\n",
      "Bubblesort start\n",
      "Bubblesort end\n"
     ]
    },
    {
     "data": {
      "text/plain": [
       "null"
      ]
     },
     "execution_count": 52,
     "metadata": {},
     "output_type": "execute_result"
    }
   ],
   "source": [
    "import java.util.Arrays;\n",
    "import java.util.Random;\n",
    "import lecture.QuickSort;\n",
    "import lecture.BubbleSort;\n",
    "\n",
    "Random r = new Random();\n",
    "int[] l = new int[100000];\n",
    "\n",
    "for(int i = 0; i < l.length; i++)\n",
    "    l[i] = r.nextInt();\n",
    "System.out.println(\"Quicksort start\");\n",
    "QuickSort.sort(l);\n",
    "System.out.println(\"Quicksort end\");\n",
    "\n",
    "for(int i = 0; i < l.length; i++)\n",
    "    l[i] = r.nextInt();\n",
    "System.out.println(\"Bubblesort start\");\n",
    "BubbleSort.sort(l);\n",
    "System.out.println(\"Bubblesort end\");\n",
    "\n",
    "return null;"
   ]
  }
 ],
 "metadata": {
  "kernelspec": {
   "display_name": "Java",
   "language": "java",
   "name": "java"
  },
  "language_info": {
   "codemirror_mode": "text/x-java",
   "file_extension": ".java",
   "mimetype": "",
   "name": "Java",
   "nbconverter_exporter": "",
   "version": "11.0.1"
  },
  "toc": {
   "base_numbering": 1,
   "nav_menu": {},
   "number_sections": false,
   "sideBar": false,
   "skip_h1_title": false,
   "title_cell": "Table of Contents",
   "title_sidebar": "Contents",
   "toc_cell": false,
   "toc_position": {},
   "toc_section_display": false,
   "toc_window_display": false
  }
 },
 "nbformat": 4,
 "nbformat_minor": 2
}

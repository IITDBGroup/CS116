{
 "cells": [
  {
   "cell_type": "markdown",
   "metadata": {},
   "source": [
    "# Reflection\n",
    "\n",
    "**Reflection** in Java enables programs to inspect the structure of unknown classes at runtime, create instances of classes, access their fields, and run methods. The root class `Object` defines a method `getClass` which return an object of class `Class` which allows information about the class of an object to be retrieved, e.g., get all fields of the class. This allows not just for passive inspection of the class structure, but also enables objects of a class to be created dynamically, to call methods of an object of the class, or to change or retrieve the value of an object's fields. Furthermore, every class has a static field `class` which allows the `Class` object corresponding to this class to be accessed. Have a look at the documention of this classes methods to learn more:\n",
    "\n",
    "[https://docs.oracle.com/en/java/javase/11/docs/api/java.base/java/lang/Class.html](https://docs.oracle.com/en/java/javase/11/docs/api/java.base/java/lang/Class.html)"
   ]
  },
  {
   "cell_type": "code",
   "execution_count": 1,
   "metadata": {},
   "outputs": [
    {
     "data": {
      "text/plain": [
       "[public static final java.util.Comparator java.lang.String.CASE_INSENSITIVE_ORDER]"
      ]
     },
     "execution_count": 1,
     "metadata": {},
     "output_type": "execute_result"
    }
   ],
   "source": [
    "import java.util.Arrays;\n",
    "\n",
    "Class strClass = String.class;\n",
    "\n",
    "return Arrays.toString(strClass.getFields());"
   ]
  },
  {
   "cell_type": "code",
   "execution_count": 2,
   "metadata": {},
   "outputs": [
    {
     "data": {
      "text/plain": [
       "lecture.A"
      ]
     },
     "execution_count": 2,
     "metadata": {},
     "output_type": "execute_result"
    }
   ],
   "source": [
    "package lecture;\n",
    "\n",
    "public class A {\n",
    "    public int x;\n",
    "    public String y;\n",
    "    \n",
    "    public void setBoth(int x, String y) {\n",
    "        this.x = x;\n",
    "        this.y = y;\n",
    "    }\n",
    "    \n",
    "    public String toString() {\n",
    "        return \"x: \" + x + \", y: \" + y;\n",
    "    }\n",
    "    \n",
    "}"
   ]
  },
  {
   "cell_type": "code",
   "execution_count": 3,
   "metadata": {},
   "outputs": [
    {
     "data": {
      "text/plain": [
       "[public int lecture.A.x, public java.lang.String lecture.A.y]"
      ]
     },
     "execution_count": 3,
     "metadata": {},
     "output_type": "execute_result"
    }
   ],
   "source": [
    "import lecture.A;\n",
    "import java.util.Arrays;\n",
    "\n",
    "A a = new A();\n",
    "Class aClass = a.getClass();\n",
    "return Arrays.toString(aClass.getFields());"
   ]
  },
  {
   "cell_type": "code",
   "execution_count": 6,
   "metadata": {},
   "outputs": [
    {
     "data": {
      "text/plain": [
       "[public void lecture.A.setBoth(int,java.lang.String)\n",
       " public java.lang.String lecture.A.toString()\n",
       " public final native void java.lang.Object.wait(long) throws java.lang.InterruptedException, public final void java.lang.Object.wait(long,int) throws java.lang.InterruptedException, public final void java.lang.Object.wait() throws java.lang.InterruptedException, public boolean java.lang.Object.equals(java.lang.Object)\n",
       " public native int java.lang.Object.hashCode()\n",
       " public final native java.lang.Class java.lang.Object.getClass()\n",
       " public final native void java.lang.Object.notify()\n",
       " public final native void java.lang.Object.notifyAll()]"
      ]
     },
     "execution_count": 6,
     "metadata": {},
     "output_type": "execute_result"
    }
   ],
   "source": [
    "import lecture.A;\n",
    "import java.util.Arrays;\n",
    "\n",
    "A a = new A();\n",
    "Class aClass = a.getClass();\n",
    "return Arrays.toString(aClass.getMethods()).replaceAll(\"\\\\),\", \"\\\\)\\n\");"
   ]
  },
  {
   "cell_type": "code",
   "execution_count": 7,
   "metadata": {},
   "outputs": [
    {
     "data": {
      "text/plain": [
       "x: 1, y: helloh"
      ]
     },
     "execution_count": 7,
     "metadata": {},
     "output_type": "execute_result"
    }
   ],
   "source": [
    "import lecture.A;\n",
    "import java.util.Arrays;\n",
    "import java.lang.reflect.Method;\n",
    "\n",
    "A a = new A();\n",
    "Class aClass = a.getClass();\n",
    "Method setBoth = aClass.getMethod(\"setBoth\", int.class, String.class); // get setBoth method\n",
    "setBoth.invoke(a, 1, \"helloh\"); // call setBoth(1,\"helloh\") on a\n",
    "\n",
    "Method toStr = aClass.getMethod(\"toString\"); // get toString methdo\n",
    "return (String) toStr.invoke(a); // call a's toString method"
   ]
  },
  {
   "cell_type": "markdown",
   "metadata": {},
   "source": [
    "# Annotations\n",
    "\n",
    "Annotations allow additional information to be stores with classes, fields, and methods. This information is accessible through reflection. Annotation are declared using `<modifiers> @interface <name> {...` where `<name>` is the name of the annotation. Methods in annotations are restricted to methods without parameters that do not throw exceptions. These methods determine the elements that can be stored in an annotation. Annotations are attached to classes, fields and methods using the syntax `@A` or `@A(<key-value pairs>)` where `A` is an annotation type.  `@A(<key value pairs)` assigns values to the elements of the annotation. We show usage of build-in annotations here since beakerx does not support annotation definition. See [here](http://cs.iit.edu/~glavic/cs116/java/src/lecture/Maintainer.java) for an example."
   ]
  },
  {
   "cell_type": "code",
   "execution_count": 35,
   "metadata": {},
   "outputs": [
    {
     "data": {
      "text/plain": [
       "lecture.OverridesSomething"
      ]
     },
     "execution_count": 35,
     "metadata": {},
     "output_type": "execute_result"
    }
   ],
   "source": [
    "package lecture;\n",
    "\n",
    "public class OverridesSomething {\n",
    "    \n",
    "    @Override // we use the build-in annotation @Override to indicate that this method is overriding a method declared by a superclass.\n",
    "    public String toString() {\n",
    "        return \"I've got nothing\";\n",
    "    }\n",
    "    \n",
    "}"
   ]
  },
  {
   "cell_type": "code",
   "execution_count": 39,
   "metadata": {},
   "outputs": [
    {
     "data": {
      "text/plain": [
       "[]"
      ]
     },
     "execution_count": 39,
     "metadata": {},
     "output_type": "execute_result"
    }
   ],
   "source": [
    "import lecture.OverridesSomething;\n",
    "import java.util.Arrays;\n",
    "import java.lang.reflect.Method;\n",
    "import java.lang.annotation.Annotation;\n",
    "\n",
    "Class c = OverridesSomething.class;\n",
    "Method m = c.getMethod(\"toString\");\n",
    "Annotation[] a = m.getAnnotations(); // not all annotations are available at runtime. @Override is not\n",
    "return Arrays.toString(a);"
   ]
  }
 ],
 "metadata": {
  "kernelspec": {
   "display_name": "Java",
   "language": "java",
   "name": "java"
  },
  "language_info": {
   "codemirror_mode": "text/x-java",
   "file_extension": ".java",
   "mimetype": "",
   "name": "Java",
   "nbconverter_exporter": "",
   "version": "11.0.1"
  },
  "toc": {
   "base_numbering": 1,
   "nav_menu": {},
   "number_sections": false,
   "sideBar": false,
   "skip_h1_title": false,
   "title_cell": "Table of Contents",
   "title_sidebar": "Contents",
   "toc_cell": false,
   "toc_position": {},
   "toc_section_display": false,
   "toc_window_display": false
  }
 },
 "nbformat": 4,
 "nbformat_minor": 2
}

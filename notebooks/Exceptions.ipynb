{
 "cells": [
  {
   "cell_type": "markdown",
   "metadata": {},
   "source": [
    "# Exceptions\n",
    "\n",
    "In this part we learn about exception handling in Java. Exceptions allow the current flow of control to be interrupted. In Java exceptions are objects that are instances of a class derived from the class `Exception`. Exceptions enable a controlled way of handling error conditions. \n",
    "\n",
    "## Throwing Exceptions\n",
    "\n",
    "An exception can be thrown using the `throw` statement like this: `<throw> <exception>;`. For instance:\n",
    "\n",
    "```java\n",
    "throw new Exception(\"an error occurred\");\n",
    "```\n",
    "\n",
    "If an exception is thrown, unless the code throwing the exception is surounded by a `try` statement (explained below), control is handed over to the caller of the current method. This process is repeated until either a try-catch block is hit or the exception is rethrown by the `main` method in which case the program terminates and an error message is printed. This approach allows the programmer to decide where to deal with an exceptional condition. This is quite useful, because the code throwing an exception to indicate an error may not have sufficient information to deal with this error locally."
   ]
  },
  {
   "cell_type": "code",
   "execution_count": 54,
   "metadata": {},
   "outputs": [
    {
     "ename": "ERROR",
     "evalue": " java.lang.IllegalStateException",
     "output_type": "error",
     "traceback": [
      "\u001b[1;31mERROR: java.lang.IllegalStateException: unreported exception java.lang.Exception; must be caught or declared to be thrown\u001b[0;0m",
      "\u001b[1;31m throw new Exception(\"Panic!\"); }\u001b[0;0m",
      "\u001b[1;31m ^                             ^   \u001b[0;0m"
     ]
    }
   ],
   "source": [
    "package lecture;\n",
    "\n",
    "public class Throwing { \n",
    "\n",
    "    public static void main () {\n",
    "        throw new Exception(\"Panic!\"); // throw an exception from main, this will terminate the program\n",
    "    }\n",
    "\n",
    "}"
   ]
  },
  {
   "cell_type": "markdown",
   "metadata": {},
   "source": [
    "## throws declaration\n",
    "\n",
    "Why did this code not compile? The reason is that it is only allowed to throw an exception from within a method that lists this exception's class (or a superclass) in its `throws` declaration which is a list of classnames.\n",
    "\n",
    "```java\n",
    "public void myMethod throws MyException, MyOtherException {\n",
    "    ...\n",
    "}\n",
    "```\n",
    "\n",
    "The above method can throw `MyException` and `MyOtherException`."
   ]
  },
  {
   "cell_type": "code",
   "execution_count": 55,
   "metadata": {},
   "outputs": [
    {
     "data": {
      "text/plain": [
       "lecture.Throwing"
      ]
     },
     "execution_count": 55,
     "metadata": {},
     "output_type": "execute_result"
    }
   ],
   "source": [
    "package lecture;\n",
    "\n",
    "public class Throwing { \n",
    "\n",
    "    // this will now work since we declare \"throws Exception\"\n",
    "    public static void main () throws Exception {\n",
    "        throw new Exception(\"Panic!\"); // throw an exception from main, this will terminate the program\n",
    "    }\n",
    "\n",
    "}"
   ]
  },
  {
   "cell_type": "code",
   "execution_count": 56,
   "metadata": {},
   "outputs": [
    {
     "ename": "ERROR",
     "evalue": " java.lang.Exception",
     "output_type": "error",
     "traceback": [
      "\u001b[1;31mERROR: java.lang.Exception: Panic!\u001b[0;0m"
     ]
    }
   ],
   "source": [
    "import lecture.Throwing;\n",
    "\n",
    "Throwing.main();"
   ]
  },
  {
   "cell_type": "markdown",
   "metadata": {},
   "source": [
    "Now let's have another example where we throw an exception from within another method that we call from `main`. Since both the `divide` method and `main` do not deal with the exception the following will happen:\n",
    "\n",
    "1. by dividing by 0 we cause `divide` to throw an exception\n",
    "2. this exception is not within a try-catch block so control is handed over to the caller of `divide` which in this case is `main`.\n",
    "3. the call to `divide(4,0)` is not within a try-catch block, so the program terminates and prints an error message"
   ]
  },
  {
   "cell_type": "code",
   "execution_count": 57,
   "metadata": {},
   "outputs": [
    {
     "data": {
      "text/plain": [
       "lecture.DoubleThrowing"
      ]
     },
     "execution_count": 57,
     "metadata": {},
     "output_type": "execute_result"
    }
   ],
   "source": [
    "package lecture;\n",
    "\n",
    "public class DoubleThrowing { \n",
    "\n",
    "    public static int divide (int x, int y) throws Exception {\n",
    "        if (y == 0) {\n",
    "            throw new Exception(\"cannot divide by 0\");\n",
    "        }\n",
    "        return x/y;\n",
    "    }\n",
    "    \n",
    "    // this will now work since we declare \"throws Exception\"\n",
    "    public static void main () throws Exception {\n",
    "        int a = divide(5,6); \n",
    "        int b = divide(4,0); // throws an exception\n",
    "    }\n",
    "\n",
    "}"
   ]
  },
  {
   "cell_type": "code",
   "execution_count": 58,
   "metadata": {},
   "outputs": [
    {
     "ename": "ERROR",
     "evalue": " java.lang.Exception",
     "output_type": "error",
     "traceback": [
      "\u001b[1;31mERROR: java.lang.Exception: cannot divide by 0\u001b[0;0m"
     ]
    }
   ],
   "source": [
    "import lecture.DoubleThrowing;\n",
    "\n",
    "DoubleThrowing.main();"
   ]
  },
  {
   "cell_type": "markdown",
   "metadata": {},
   "source": [
    "## Try-Catch-Finally\n",
    "\n",
    "The try-catch statement is used when a piece of code may throw an exception and this exception should be dealt locally. The code the may throw an exception is surounded by `try { ... }`. The `try` block is followed by zero of more catch statements that define which exceptions are handled by the try. Any exception type not mentioned here will not be caught but instead be dealt with as explained above. The type of the exception that is throws is compared to each catch's `<exception_type>` until a type is found that matches (the exception is of a subclass or the same class as `<exception_type`>. When a match is found, the code within the catch's body is executed binding the exception object to `<var_name>`.\n",
    "\n",
    "```java\n",
    "try {\n",
    "    \n",
    "}\n",
    "catch (<exception_type_1> <var_name_1>) {\n",
    "    // deal with <exception_type_1>\n",
    "}\n",
    "...\n",
    "catch (<exception_type_n> <var_name_n>) {\n",
    "    // deal with <exception_type_n>\n",
    "}\n",
    "finally {\n",
    "    // execute code after handling the exception\n",
    "};\n",
    "```\n",
    "\n",
    "the code in the `finally` block is excuted no matter whether an exception is thrown or not."
   ]
  },
  {
   "cell_type": "markdown",
   "metadata": {},
   "source": [
    "Let's fix the `DoubleThrowing` class to run a series of divisions and print en error message instead of terminating."
   ]
  },
  {
   "cell_type": "code",
   "execution_count": 59,
   "metadata": {},
   "outputs": [
    {
     "data": {
      "text/plain": [
       "lecture.SafeDoubleThrowing"
      ]
     },
     "execution_count": 59,
     "metadata": {},
     "output_type": "execute_result"
    }
   ],
   "source": [
    "package lecture;\n",
    "\n",
    "public class SafeDoubleThrowing { \n",
    "\n",
    "    public static int divide (int x, int y) throws Exception {\n",
    "        if (y == 0) {\n",
    "            throw new Exception(\"cannot divide by 0\");\n",
    "        }\n",
    "        return x/y;\n",
    "    }\n",
    "    \n",
    "    // now we can run multiple division even though some are division by 0\n",
    "    public static void main () throws Exception {\n",
    "        int[][] divisions = { {10,6}, {4,0}, {20,4} };\n",
    "        \n",
    "        for(int[] div: divisions) {\n",
    "            try {\n",
    "                int result = divide(div[0],div[1]); \n",
    "                System.out.println(String.format(\"result of %d/%d is %d\", div[0], div[1], result));\n",
    "            }\n",
    "            catch (Exception e) {\n",
    "                System.out.println(e.toString());\n",
    "            }\n",
    "        }\n",
    "    }\n",
    "\n",
    "}"
   ]
  },
  {
   "cell_type": "code",
   "execution_count": 60,
   "metadata": {},
   "outputs": [
    {
     "name": "stdout",
     "output_type": "stream",
     "text": [
      "result of 10/6 is 1\n",
      "java.lang.Exception: cannot divide by 0\n",
      "result of 20/4 is 5\n"
     ]
    },
    {
     "data": {
      "text/plain": [
       "null"
      ]
     },
     "execution_count": 60,
     "metadata": {},
     "output_type": "execute_result"
    }
   ],
   "source": [
    "import lecture.SafeDoubleThrowing;\n",
    "\n",
    "SafeDoubleThrowing.main();"
   ]
  },
  {
   "cell_type": "markdown",
   "metadata": {},
   "source": [
    "## Exception for dealing with I/O\n",
    "\n",
    "I/O is a typical example of exception handling since I/O operations are out of the control of our program. That is, our program will have to deal with unforseen error conditions such as trying to read from a file that does not exist. Also I/O objects often wrap operation system resources that are not automatically cleaned up by Java. For instance, when using a `File` object, you should always call `close` on this object before the program terminates."
   ]
  },
  {
   "cell_type": "code",
   "execution_count": 43,
   "metadata": {},
   "outputs": [
    {
     "data": {
      "text/plain": [
       "lecture.FileIOWithErrorHandling"
      ]
     },
     "execution_count": 43,
     "metadata": {},
     "output_type": "execute_result"
    }
   ],
   "source": [
    "package lecture;\n",
    "\n",
    "import java.io.File;\n",
    "import java.io.FileInputStream;\n",
    "import java.io.IOException;\n",
    "\n",
    "public class FileIOWithErrorHandling {\n",
    "    \n",
    "    \n",
    "    public static void main() throws IOException {\n",
    "        FileInputStream in = null;\n",
    "        File f;\n",
    "        byte[] b = new byte[256]; // 256 byte buffer\n",
    "        \n",
    "        System.out.println(\"try to open test.txt\");\n",
    "        f = new File(\"test.txt\");\n",
    "        try {\n",
    "            if (f.exists()) {\n",
    "                System.out.println(\"File exists, try to read\");\n",
    "                in = new FileInputStream(f);\n",
    "                for(int available = in.available(); available > 0; available = in.available()) { // read data using buffer b\n",
    "                    int numread = in.read(b);\n",
    "                    System.out.printf(\"\\nread %d bytes: \", numread);\n",
    "                    for(int i = 0; i < numread; i++) // print all bytes read and the a newline\n",
    "                        System.out.print((char) b[i]);\n",
    "                    System.out.println();\n",
    "                }\n",
    "            }\n",
    "            else {\n",
    "                System.out.println(\"File does not exist!\");\n",
    "            }\n",
    "        }\n",
    "        catch (IOException e) {\n",
    "            System.out.println(\"error reading text.txt: \" + e.toString());\n",
    "        }\n",
    "        finally {\n",
    "            if (in != null) {\n",
    "                try { \n",
    "                    in.close();\n",
    "                    System.out.println(\"closed file!\"); // look out for this in the output. This statement is excuted even though no exception has been thrown.\n",
    "                }\n",
    "                catch (IOException e) {\n",
    "                    System.out.println(\"failed closing file input stream:\\n\" + e.toString());\n",
    "                }\n",
    "            }\n",
    "        }\n",
    "    }\n",
    "}"
   ]
  },
  {
   "cell_type": "code",
   "execution_count": 44,
   "metadata": {},
   "outputs": [
    {
     "name": "stdout",
     "output_type": "stream",
     "text": [
      "try to open test.txt\n",
      "File exists, try to read\n",
      "\n",
      "read 256 bytes: This is a file with a long text the is split over multiple lines. We want to\n",
      "show how our buffer is exausted and how we read this long text 256 bytes at a\n",
      "time. That is why I have to ramble on and on and on and on and on and on and on\n",
      "and on and on and on \n",
      "\n",
      "read 256 bytes: and on and on and on and on and on and on and on and on and\n",
      "on and on and on and on and on and on and on and on and on and on and on and on\n",
      "and on and on and on and on and on and on and on and on and on and on and on and\n",
      "on and on and on and on and on and \n",
      "\n",
      "read 256 bytes: on and on and on and on and on and on and on\n",
      "and on and on and on and on and on and on and on and on and on and on and on and\n",
      "on and on and on and on and on and on and on and on and on and on and on and on\n",
      "and on and on and on and on and on and on and on a\n",
      "\n",
      "read 256 bytes: nd on and on and on and on and\n",
      "on and on and on and on and on and on and on and on and on and on and on and on\n",
      "and on and on and on and on and on and on and on and on and on and on and on and\n",
      "on and on and on and on and on and on and on and on and on and o\n",
      "\n",
      "read 256 bytes: n and on and on\n",
      "and on and on and on and on and on and on and on and on and on and on and on and\n",
      "on and on and on and on and on and on and on and on and on and on and on and on\n",
      "and on and on and on and on and on and on and on and on and on and on and on an\n",
      "\n",
      "read 167 bytes: d\n",
      "on and on and on and on and on and on and on and on and on and on and on and on\n",
      "and on and on and on and on and on and on and on and on and on and on and on and\n",
      "on.\n",
      "\n",
      "closed file!\n"
     ]
    },
    {
     "data": {
      "text/plain": [
       "null"
      ]
     },
     "execution_count": 44,
     "metadata": {},
     "output_type": "execute_result"
    }
   ],
   "source": [
    "import lecture.FileIOWithErrorHandling;\n",
    "FileIOWithErrorHandling.main();"
   ]
  },
  {
   "cell_type": "markdown",
   "metadata": {},
   "source": [
    "## User-defined Exception Types\n",
    "\n",
    "User-defined exception classes are declared just as any other class. They have to `extend` either `Exception` or one of its subclasses."
   ]
  },
  {
   "cell_type": "code",
   "execution_count": 46,
   "metadata": {},
   "outputs": [
    {
     "data": {
      "text/plain": [
       "lecture.MyFirstException"
      ]
     },
     "execution_count": 46,
     "metadata": {},
     "output_type": "execute_result"
    }
   ],
   "source": [
    "package lecture;\n",
    "\n",
    "public class MyFirstException extends Exception {\n",
    "    \n",
    "    public MyFirstException(String message) {\n",
    "        super(message);\n",
    "    }\n",
    "    \n",
    "    public String toString() {\n",
    "        return super.toString();\n",
    "    } \n",
    "}"
   ]
  },
  {
   "cell_type": "code",
   "execution_count": 52,
   "metadata": {},
   "outputs": [
    {
     "data": {
      "text/plain": [
       "lecture.MyThrowing"
      ]
     },
     "execution_count": 52,
     "metadata": {},
     "output_type": "execute_result"
    }
   ],
   "source": [
    "package lecture;\n",
    "import lecture.MyFirstException;\n",
    "\n",
    "public class MyThrowing { \n",
    "\n",
    "    public static void main () throws MyFirstException {\n",
    "        throw new MyFirstException(\"Panic!\");\n",
    "    }\n",
    "}"
   ]
  },
  {
   "cell_type": "code",
   "execution_count": 53,
   "metadata": {},
   "outputs": [
    {
     "ename": "ERROR",
     "evalue": " lecture.MyFirstException",
     "output_type": "error",
     "traceback": [
      "\u001b[1;31mERROR: lecture.MyFirstException: Panic!\u001b[0;0m"
     ]
    }
   ],
   "source": [
    "import lecture.MyThrowing;\n",
    "\n",
    "MyThrowing.main();"
   ]
  }
 ],
 "metadata": {
  "kernelspec": {
   "display_name": "Java",
   "language": "java",
   "name": "java"
  },
  "language_info": {
   "codemirror_mode": "text/x-java",
   "file_extension": ".java",
   "mimetype": "",
   "name": "Java",
   "nbconverter_exporter": "",
   "version": "1.8.0_152-release"
  },
  "toc": {
   "base_numbering": 1,
   "nav_menu": {},
   "number_sections": false,
   "sideBar": false,
   "skip_h1_title": false,
   "title_cell": "Table of Contents",
   "title_sidebar": "Contents",
   "toc_cell": false,
   "toc_position": {},
   "toc_section_display": false,
   "toc_window_display": false
  }
 },
 "nbformat": 4,
 "nbformat_minor": 2
}

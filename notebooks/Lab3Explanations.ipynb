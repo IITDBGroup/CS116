{
 "cells": [
  {
   "cell_type": "markdown",
   "metadata": {},
   "source": [
    "# Rough illustration on how to compare x and y coordinates from a list of coordinates against some min and max"
   ]
  },
  {
   "cell_type": "code",
   "execution_count": 12,
   "metadata": {},
   "outputs": [
    {
     "ename": "illegal start of expression",
     "evalue": "illegal start of expression",
     "output_type": "error",
     "traceback": [
      "\u001b[1;31millegal start of expression\u001b[0;0m",
      "\u001b[1;31m ...\u001b[0;0m",
      "\u001b[1;31m ^   \u001b[0;0m",
      "\u001b[1;31m\u001b[0;0m",
      "\u001b[1;31millegal start of expression\u001b[0;0m",
      "\u001b[1;31m ....\u001b[0;0m",
      "\u001b[1;31m ^    \u001b[0;0m"
     ]
    }
   ],
   "source": [
    "import java.util.ArrayList;\n",
    "\n",
    "ArrayList<int[]> list = new ArrayList<int[]> ();\n",
    "\n",
    "list.add(new int[] {1,2});\n",
    "list.add(new int[] {3,4});\n",
    "\n",
    "int xmin = 0; \n",
    "int ymin = 0;\n",
    "\n",
    "for(int i = 0; i < list.size(); i++) {\n",
    "    int[] el = list.get(i);\n",
    "    if(list.get(i)[0] < xmin) {\n",
    "        ...\n",
    "    }\n",
    "    if(list.get(i)[1] < ymin) {\n",
    "        ....\n",
    "    }\n",
    "    \n",
    "}\n"
   ]
  },
  {
   "cell_type": "markdown",
   "metadata": {},
   "source": [
    "# Rough illustration on what Ant.next() has to do"
   ]
  },
  {
   "cell_type": "code",
   "execution_count": 2,
   "metadata": {},
   "outputs": [
    {
     "ename": "illegal start of expression",
     "evalue": "illegal start of expression",
     "output_type": "error",
     "traceback": [
      "\u001b[1;31millegal start of expression\u001b[0;0m",
      "\u001b[1;31m public static final int UP = 0\u001b[0;0m",
      "\u001b[1;31m ^                              \u001b[0;0m",
      "\u001b[1;31m\u001b[0;0m",
      "\u001b[1;31mclass, interface, or enum expected\u001b[0;0m",
      "\u001b[1;31m }\u001b[0;0m",
      "\u001b[1;31m ^ \u001b[0;0m"
     ]
    }
   ],
   "source": [
    "\n",
    "int xpos = 0;\n",
    "int ypos = 0;\n",
    "final String[] states = { \"FaceUp\", \"FaceDown\", \"FaceLeft\", \"FaceRight\"}; \n",
    "String state = \"FaceUp\";\n",
    "InfiniteBlockWorld w;\n",
    "\n",
    "public static final int UP = 0;\n",
    "\n",
    "public enum Direction {\n",
    "    North,\n",
    "    South,\n",
    "    West,\n",
    "    East\n",
    "}\n",
    "\n",
    "\n",
    "public void next() {\n",
    "    Boolean color = w.getCellColor(xpos, ypos);\n",
    "    String newState;\n",
    "    Boolean newColor;\n",
    "    Direction d;\n",
    "    state = newState;\n",
    "    w.setCellColor(xpos, ypos, newColor);\n",
    "    switch(d) {\n",
    "        case North:\n",
    "            ypos --;\n",
    "    }\n",
    "}\n"
   ]
  },
  {
   "cell_type": "code",
   "execution_count": 10,
   "metadata": {},
   "outputs": [
    {
     "data": {
      "text/plain": [
       "lecture.Returned"
      ]
     },
     "execution_count": 10,
     "metadata": {},
     "output_type": "execute_result"
    }
   ],
   "source": [
    "/* illustration of how to return multiple values from a method in Java */\n",
    "package lecture;\n",
    "\n",
    "public class Returned {\n",
    "    \n",
    "    /* data object used to store cal */\n",
    "    public static class PersonCal {\n",
    "        String name;\n",
    "        int cals;\n",
    "        public PersonCal(String name, int cals) {\n",
    "            this.name = name;\n",
    "            this.cals = cals;\n",
    "        }\n",
    "        \n",
    "        public String toString() {\n",
    "            return \"PersonCal(\"  + name + \",\" + cals + \")\";\n",
    "        }\n",
    "    }\n",
    "    \n",
    "    /* return both Person name (String) and calories (Integer) as an Object[] */\n",
    "    public static Object[] getPersonCal() {\n",
    "        String name = \"asdasdas\";\n",
    "        int cals = 1235;\n",
    "        Object[] ret;\n",
    "        \n",
    "        ret = new Object[2];\n",
    "        ret[0] = name;\n",
    "        ret[1] = new Integer(cals);\n",
    "        return ret;\n",
    "    }\n",
    "    \n",
    "    /* return both Person name and calories as a \"data\" object */\n",
    "    public static PersonCal getPersonCalObject() {\n",
    "        String name = \"asdasdas\";\n",
    "        int cals = 1235;\n",
    "        return new PersonCal(name, cals);\n",
    "    }\n",
    "    \n",
    "    public static void main() {\n",
    "        Object[] result = Returned.getPersonCal();\n",
    "        String name = (String) result[0];\n",
    "        Integer cals = (Integer) result[1];\n",
    "        System.out.println(String.format(\"%s %d\", name, cals));\n",
    "        \n",
    "        PersonCal p = getPersonCalObject();\n",
    "        System.out.println(p.toString());\n",
    "    }\n",
    "} "
   ]
  },
  {
   "cell_type": "code",
   "execution_count": 11,
   "metadata": {},
   "outputs": [
    {
     "name": "stdout",
     "output_type": "stream",
     "text": [
      "asdasdas 1235\n",
      "PersonCal(asdasdas,1235)\n"
     ]
    },
    {
     "data": {
      "text/plain": [
       "null"
      ]
     },
     "execution_count": 11,
     "metadata": {},
     "output_type": "execute_result"
    }
   ],
   "source": [
    "import lecture.Returned;\n",
    "\n",
    "Returned.main();"
   ]
  },
  {
   "cell_type": "code",
   "execution_count": null,
   "metadata": {},
   "outputs": [],
   "source": []
  }
 ],
 "metadata": {
  "kernelspec": {
   "display_name": "Java",
   "language": "java",
   "name": "java"
  },
  "language_info": {
   "codemirror_mode": "text/x-java",
   "file_extension": ".java",
   "mimetype": "",
   "name": "Java",
   "nbconverter_exporter": "",
   "version": "11.0.1"
  },
  "toc": {
   "base_numbering": 1,
   "nav_menu": {},
   "number_sections": false,
   "sideBar": false,
   "skip_h1_title": false,
   "title_cell": "Table of Contents",
   "title_sidebar": "Contents",
   "toc_cell": false,
   "toc_position": {},
   "toc_section_display": false,
   "toc_window_display": false
  }
 },
 "nbformat": 4,
 "nbformat_minor": 2
}

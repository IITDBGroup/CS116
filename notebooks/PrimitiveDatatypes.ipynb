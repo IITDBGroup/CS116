{
 "cells": [
  {
   "cell_type": "markdown",
   "metadata": {},
   "source": [
    "# Java Datatypes\n",
    "\n",
    "Java defines two types of data types: **primitive types** and **objects**. Topics covered in this lecture are\n",
    "\n",
    "* primitive types\n",
    "* variables\n",
    "* casting\n",
    "* operators\n",
    "* operator precedence."
   ]
  },
  {
   "cell_type": "markdown",
   "metadata": {},
   "source": [
    "## Primitive Types\n",
    "\n",
    "The following primitive types are supported:\n",
    "\n",
    "* Integral types\n",
    "    * `byte` - a 8 bit signed integer. Can represent any value between -128 and 127\n",
    "    * `short` - a 16 bit signed integer. Can represent any value between -32,768 and of 32,767 \n",
    "    * `int` - a 32 bit signed integer. Can represent any value between -$2^{31}$ and $2^{31}$ - 1  \n",
    "    * `long` - a 64 bit signed integer. Can represent any value between -$2^{63}$ and $2^{63}$ - 1\n",
    "* Floating point types (see [here](https://docs.oracle.com/javase/specs/jls/se7/html/jls-4.html#jls-4.2.3))\n",
    "    * `float` - a 32 bit floating point number. A single-precision 32-bit IEEE 754 floating point \n",
    "    * `double` - a 64 bit floating point number. A double-precision 64-bit IEEE 754 floating point\n",
    "* Character type\n",
    "    * `char` - a single 16-bit Unicode character\n",
    "* Boolean types\n",
    "    * `boolean` - a boolean value (`true` or `false`)"
   ]
  },
  {
   "cell_type": "markdown",
   "metadata": {},
   "source": [
    "### Syntax for literal values of primitive types"
   ]
  },
  {
   "cell_type": "markdown",
   "metadata": {},
   "source": [
    "Integer literals are just the numbers themselves, e.g., `4`, or `-15`. Alternatively, integer values can be specified in binary by prefixing the value with `0b` or hexadecimal by prefixing the value with `0x`."
   ]
  },
  {
   "cell_type": "code",
   "execution_count": 10,
   "metadata": {},
   "outputs": [
    {
     "data": {
      "text/plain": [
       "1"
      ]
     },
     "execution_count": 10,
     "metadata": {},
     "output_type": "execute_result"
    }
   ],
   "source": [
    "// a short constant\n",
    "return (short) 1;"
   ]
  },
  {
   "cell_type": "code",
   "execution_count": 20,
   "metadata": {},
   "outputs": [
    {
     "data": {
      "text/plain": [
       "1"
      ]
     },
     "execution_count": 20,
     "metadata": {},
     "output_type": "execute_result"
    }
   ],
   "source": [
    "// an int constant\n",
    "return 1;"
   ]
  },
  {
   "cell_type": "code",
   "execution_count": 1,
   "metadata": {},
   "outputs": [
    {
     "data": {
      "text/plain": [
       "1"
      ]
     },
     "execution_count": 1,
     "metadata": {},
     "output_type": "execute_result"
    }
   ],
   "source": [
    "// a long constant\n",
    "return 1L;"
   ]
  },
  {
   "cell_type": "code",
   "execution_count": 38,
   "metadata": {},
   "outputs": [
    {
     "data": {
      "text/plain": [
       "15"
      ]
     },
     "execution_count": 38,
     "metadata": {},
     "output_type": "execute_result"
    }
   ],
   "source": [
    "// 15 in hexadecimal\n",
    "return 0xF;"
   ]
  },
  {
   "cell_type": "code",
   "execution_count": 39,
   "metadata": {},
   "outputs": [
    {
     "data": {
      "text/plain": [
       "15"
      ]
     },
     "execution_count": 39,
     "metadata": {},
     "output_type": "execute_result"
    }
   ],
   "source": [
    "// 15 in binary\n",
    "return 0b1111;"
   ]
  },
  {
   "cell_type": "markdown",
   "metadata": {},
   "source": [
    "Numbers in binary can become quite long. For convenience Java allows `_` characters to be inserted into the number to separate parts of a long number. These underscores do not change the semantics of the number."
   ]
  },
  {
   "cell_type": "code",
   "execution_count": 55,
   "metadata": {},
   "outputs": [
    {
     "data": {
      "text/plain": [
       "15"
      ]
     },
     "execution_count": 55,
     "metadata": {},
     "output_type": "execute_result"
    }
   ],
   "source": [
    "// 15 in binary as an int (31 bit)\n",
    "return 0b00000000_00000000_00000000_00001111;"
   ]
  },
  {
   "cell_type": "markdown",
   "metadata": {},
   "source": [
    "Negative numbers using `0b` and `0x` are writting with prefix `-`. Note that internally one bit of information is required to store the sign. For example, only 7 bits of information are available store the value. In Java the largest positive byte values is internally represented as `10000000` (128) while negative numbers are stored using the two's complement of a number. The two's complement adds one to the number and then inverts all the bits. For example, consider `-1`. We have `-1 + 1 = 0`. Zero in binary is `00000000`. Then inverting the bits we get `11111111`."
   ]
  },
  {
   "cell_type": "code",
   "execution_count": 40,
   "metadata": {},
   "outputs": [
    {
     "data": {
      "text/plain": [
       "11111111111111111111111111110001"
      ]
     },
     "execution_count": 40,
     "metadata": {},
     "output_type": "execute_result"
    }
   ],
   "source": [
    "// -15 in binary\n",
    "int b = -0b0001111;\n",
    "return Integer.toBinaryString(b); // -15 + 1 = -14. 14 in binary (32 bits) is 000000 00000000 00000000 00001110. Inverting all the bits we get the number shown below."
   ]
  },
  {
   "cell_type": "markdown",
   "metadata": {},
   "source": [
    "Floating point constants are identified by the decimal point, e.g,. `3.0` is a floating point literal. By adding a suffix `f` or `d` such literals can be identified as `float` or `double`. Scientific notation (speciying $10^n$ as `en`) is also allowed."
   ]
  },
  {
   "cell_type": "code",
   "execution_count": 21,
   "metadata": {},
   "outputs": [
    {
     "data": {
      "text/plain": [
       "3.0"
      ]
     },
     "execution_count": 21,
     "metadata": {},
     "output_type": "execute_result"
    }
   ],
   "source": [
    "// a float constant\n",
    "return 3.0f;"
   ]
  },
  {
   "cell_type": "code",
   "execution_count": 9,
   "metadata": {},
   "outputs": [
    {
     "data": {
      "text/plain": [
       "3.0"
      ]
     },
     "execution_count": 9,
     "metadata": {},
     "output_type": "execute_result"
    }
   ],
   "source": [
    "// a double contant\n",
    "return 3.0; // alternatively 3.0d"
   ]
  },
  {
   "cell_type": "code",
   "execution_count": 40,
   "metadata": {},
   "outputs": [
    {
     "data": {
      "text/plain": [
       "150000.0"
      ]
     },
     "execution_count": 40,
     "metadata": {},
     "output_type": "execute_result"
    }
   ],
   "source": [
    "// scientific notation\n",
    "return 1.5e5;"
   ]
  },
  {
   "cell_type": "markdown",
   "metadata": {},
   "source": [
    "There are only two boolean constants `true` and `false`."
   ]
  },
  {
   "cell_type": "code",
   "execution_count": 22,
   "metadata": {},
   "outputs": [
    {
     "data": {
      "text/plain": [
       "true"
      ]
     },
     "execution_count": 22,
     "metadata": {},
     "output_type": "execute_result"
    }
   ],
   "source": [
    "// a boolean constant\n",
    "return true;"
   ]
  },
  {
   "cell_type": "markdown",
   "metadata": {},
   "source": [
    "# Variables of primitive types\n",
    "\n",
    "\n",
    "Variables of a primitive type are declared using `<type> <name>`. For instance, `long x;` declares a variable called `x` of type `long`. Variables can be either initialized during declaration or explicitly at any time they have been declared. Using a variable before it has been initialized may lead to a compile time error (we will revisit this later and learn under which circumstances it is necessary to initialize a variable)."
   ]
  },
  {
   "cell_type": "code",
   "execution_count": 5,
   "metadata": {},
   "outputs": [
    {
     "ename": "variable x might not have been initialized",
     "evalue": "variable x might not have been initialized",
     "output_type": "error",
     "traceback": [
      "\u001b[1;31mvariable x might not have been initialized\u001b[0;0m",
      "\u001b[1;31m return x\u001b[0;0m",
      "\u001b[1;31m        ^^ \u001b[0;0m"
     ]
    }
   ],
   "source": [
    "// no intialization -> compile time error\n",
    "int x;\n",
    "return x;"
   ]
  },
  {
   "cell_type": "code",
   "execution_count": 7,
   "metadata": {},
   "outputs": [
    {
     "data": {
      "text/plain": [
       "1"
      ]
     },
     "execution_count": 7,
     "metadata": {},
     "output_type": "execute_result"
    }
   ],
   "source": [
    "// initialization during declaration\n",
    "int x = 1;\n",
    "return x;"
   ]
  },
  {
   "cell_type": "code",
   "execution_count": 8,
   "metadata": {},
   "outputs": [
    {
     "data": {
      "text/plain": [
       "15"
      ]
     },
     "execution_count": 8,
     "metadata": {},
     "output_type": "execute_result"
    }
   ],
   "source": [
    "// initialization after declaration\n",
    "int x;\n",
    "x = 15;\n",
    "return x;"
   ]
  },
  {
   "cell_type": "markdown",
   "metadata": {},
   "source": [
    "# Operators\n",
    "\n",
    "The Java language defines several operators. Operators cannot be overloaded in Java. That is it not possible to redefine the semantics of such operators. The following operators are defined for primitive types (we will introduce additional operators when covering Classes and Objects later).\n",
    "\n",
    "* **Arithmetic Operators**\n",
    "    * `+` is addition and `-` is subtraction. Both are binary (two inputs), e.g., `3 + 4 = 7`\n",
    "    * `*` is multiplication, `/` is division, `%` is modulo, e.g., `12 % 7 = 5`\n",
    "    * `+` and `-` can also be used as unary operators (operators with one input), e.g., `-x` if `x` is a variable of type `int` \n",
    "* **Comparison Operators** - Comparison operators return results of type `boolean`\n",
    "    * `==` is equality (note that two equal signs are used, not one). Equality returns `true` if the compared values are equal\n",
    "    * `<`, `>`, `<=`, `>=`, relational operators smaller, larger, smaller than or equal, and larger than or equal\n",
    "* **Logical Operators**\n",
    "    * `!` is `not` ($\\neg$)\n",
    "    * `&&` is logical `and` ($\\wedge$)\n",
    "    * `||` is logical `or` ($\\vee$)\n",
    "* **Bit-wise Operators**\n",
    "    * `&`, `|`, and `^` are bit-wise `or`, `and`, and `xor`\n",
    "    * `<<`, `>>` shift left and shift right. This preserves the sign of the number. That is, after shifting a positive number will still be positive while a negative number will be negative.\n",
    "    * `<<<`, `>>>`. logical shift left and right. This just treats the value as a bit array and is oblivious to whether it is negative or positive.\n",
    "* **Assignment Operators**\n",
    "    * `=` - basic assignment. Assigns a the value of an expression to a variable like this: `<variable> = <expr>;`\n",
    "    * Combined assignment operators. Multiple of the other binary operator types can be combined with assignement: `+=`, `-=`, `*=`, `/=`, `%=`, `&=`, `^=,` `|=` `<<=`, `>>=`, `>>>=`. The structure is still `<variable> X= <expr>`. This is a syntactic shortcut to assigning the target of the assignment to the result of applying the binary operator to the target and the result of the expression `expr`, e.g., `x += 3` is equivalent to writing `x = x + 3`.\n",
    "* **Increment/Decrement**\n",
    "    * `++` and `--` increment (decrement) the value of a variable by 1. These operators exist as prefix and suffix versions, e.g., `++x` (prefix) and `x++` (postfix). Both versions return the value of the incremented/decremented variable. The difference is that the prefix operator returns the value **after** applying the increment/decrement, which the postfix operator returns the value **before** the operation.\n",
    "* **Tenary Operator**\n",
    "    * The tenary operator selects among the result of two expressions based on the result of a logical condition. The general form is `<condition> ? <expr1> : <expr2>`. If `<condition>` evaluates to `true` then the operator evaluates to `<expr1>`, otherwise it evaluates to `<expr2>`.\n",
    "    "
   ]
  },
  {
   "cell_type": "markdown",
   "metadata": {},
   "source": [
    "### Arithmetic Operators"
   ]
  },
  {
   "cell_type": "code",
   "execution_count": 18,
   "metadata": {},
   "outputs": [
    {
     "data": {
      "text/plain": [
       "8"
      ]
     },
     "execution_count": 18,
     "metadata": {},
     "output_type": "execute_result"
    }
   ],
   "source": [
    "// arithmetic operators\n",
    "return (12 % 7) + 3;"
   ]
  },
  {
   "cell_type": "code",
   "execution_count": 16,
   "metadata": {},
   "outputs": [
    {
     "data": {
      "text/plain": [
       "10"
      ]
     },
     "execution_count": 16,
     "metadata": {},
     "output_type": "execute_result"
    }
   ],
   "source": [
    "int x = 3;\n",
    "int y = 7;\n",
    "int z = x + y;\n",
    "return z;"
   ]
  },
  {
   "cell_type": "code",
   "execution_count": 18,
   "metadata": {},
   "outputs": [
    {
     "data": {
      "text/plain": [
       "8.1"
      ]
     },
     "execution_count": 18,
     "metadata": {},
     "output_type": "execute_result"
    }
   ],
   "source": [
    "float f1 = 3.0f;\n",
    "float f2 = 5.1f;\n",
    "float f3 = f1 + f2;\n",
    "return f3;"
   ]
  },
  {
   "cell_type": "code",
   "execution_count": 23,
   "metadata": {},
   "outputs": [
    {
     "data": {
      "text/plain": [
       "7.1"
      ]
     },
     "execution_count": 23,
     "metadata": {},
     "output_type": "execute_result"
    }
   ],
   "source": [
    "double d1 = 3.0;\n",
    "double d2 = 4.1;\n",
    "double d3 = d1 + d2;\n",
    "return d3;"
   ]
  },
  {
   "cell_type": "code",
   "execution_count": 17,
   "metadata": {},
   "outputs": [
    {
     "data": {
      "text/plain": [
       "-3"
      ]
     },
     "execution_count": 17,
     "metadata": {},
     "output_type": "execute_result"
    }
   ],
   "source": [
    "int x = 3;\n",
    "return -x;"
   ]
  },
  {
   "cell_type": "markdown",
   "metadata": {},
   "source": [
    "### Comparison Operators"
   ]
  },
  {
   "cell_type": "code",
   "execution_count": 19,
   "metadata": {},
   "outputs": [
    {
     "data": {
      "text/plain": [
       "true"
      ]
     },
     "execution_count": 19,
     "metadata": {},
     "output_type": "execute_result"
    }
   ],
   "source": [
    "return 3 == 3;"
   ]
  },
  {
   "cell_type": "code",
   "execution_count": 20,
   "metadata": {},
   "outputs": [
    {
     "data": {
      "text/plain": [
       "false"
      ]
     },
     "execution_count": 20,
     "metadata": {},
     "output_type": "execute_result"
    }
   ],
   "source": [
    "return 3 == 5;"
   ]
  },
  {
   "cell_type": "code",
   "execution_count": 21,
   "metadata": {},
   "outputs": [
    {
     "data": {
      "text/plain": [
       "true"
      ]
     },
     "execution_count": 21,
     "metadata": {},
     "output_type": "execute_result"
    }
   ],
   "source": [
    "return 3 < 5;"
   ]
  },
  {
   "cell_type": "code",
   "execution_count": 23,
   "metadata": {},
   "outputs": [
    {
     "data": {
      "text/plain": [
       "true"
      ]
     },
     "execution_count": 23,
     "metadata": {},
     "output_type": "execute_result"
    }
   ],
   "source": [
    "return 'a' == 'a';"
   ]
  },
  {
   "cell_type": "code",
   "execution_count": 27,
   "metadata": {},
   "outputs": [
    {
     "data": {
      "text/plain": [
       "true"
      ]
     },
     "execution_count": 27,
     "metadata": {},
     "output_type": "execute_result"
    }
   ],
   "source": [
    "// relational operators on chars use lexicographical order\n",
    "return 'a' < 'b';"
   ]
  },
  {
   "cell_type": "code",
   "execution_count": 25,
   "metadata": {},
   "outputs": [
    {
     "ename": "bad operand types for binary operator '<'",
     "evalue": "bad operand types for binary operator '<'",
     "output_type": "error",
     "traceback": [
      "\u001b[1;31mbad operand types for binary operator '<'\u001b[0;0m",
      "\u001b[1;31m  first type:  boolean\u001b[0;0m",
      "\u001b[1;31m  second type: boolean\u001b[0;0m",
      "\u001b[1;31m return false < true\u001b[0;0m",
      "\u001b[1;31m        ^           ^ \u001b[0;0m"
     ]
    }
   ],
   "source": [
    "// relational operators are not defined for type boolean\n",
    "return false < true;"
   ]
  },
  {
   "cell_type": "markdown",
   "metadata": {},
   "source": [
    "### Logical Operators"
   ]
  },
  {
   "cell_type": "code",
   "execution_count": 28,
   "metadata": {},
   "outputs": [
    {
     "data": {
      "text/plain": [
       "false"
      ]
     },
     "execution_count": 28,
     "metadata": {},
     "output_type": "execute_result"
    }
   ],
   "source": [
    "return !true;"
   ]
  },
  {
   "cell_type": "code",
   "execution_count": 29,
   "metadata": {},
   "outputs": [
    {
     "data": {
      "text/plain": [
       "true"
      ]
     },
     "execution_count": 29,
     "metadata": {},
     "output_type": "execute_result"
    }
   ],
   "source": [
    "return true || false;"
   ]
  },
  {
   "cell_type": "code",
   "execution_count": 30,
   "metadata": {},
   "outputs": [
    {
     "data": {
      "text/plain": [
       "true"
      ]
     },
     "execution_count": 30,
     "metadata": {},
     "output_type": "execute_result"
    }
   ],
   "source": [
    "return true || true;"
   ]
  },
  {
   "cell_type": "code",
   "execution_count": 31,
   "metadata": {},
   "outputs": [
    {
     "data": {
      "text/plain": [
       "false"
      ]
     },
     "execution_count": 31,
     "metadata": {},
     "output_type": "execute_result"
    }
   ],
   "source": [
    "return false || false;"
   ]
  },
  {
   "cell_type": "code",
   "execution_count": 32,
   "metadata": {},
   "outputs": [
    {
     "data": {
      "text/plain": [
       "true"
      ]
     },
     "execution_count": 32,
     "metadata": {},
     "output_type": "execute_result"
    }
   ],
   "source": [
    "return true && true;"
   ]
  },
  {
   "cell_type": "code",
   "execution_count": 33,
   "metadata": {},
   "outputs": [
    {
     "data": {
      "text/plain": [
       "false"
      ]
     },
     "execution_count": 33,
     "metadata": {},
     "output_type": "execute_result"
    }
   ],
   "source": [
    "return true && false;"
   ]
  },
  {
   "cell_type": "code",
   "execution_count": 34,
   "metadata": {},
   "outputs": [
    {
     "data": {
      "text/plain": [
       "true"
      ]
     },
     "execution_count": 34,
     "metadata": {},
     "output_type": "execute_result"
    }
   ],
   "source": [
    "return ((!false) && true) || false;"
   ]
  },
  {
   "cell_type": "code",
   "execution_count": 35,
   "metadata": {},
   "outputs": [
    {
     "data": {
      "text/plain": [
       "true"
      ]
     },
     "execution_count": 35,
     "metadata": {},
     "output_type": "execute_result"
    }
   ],
   "source": [
    "boolean x = (true && true);\n",
    "boolean y = x || false;\n",
    "return y;"
   ]
  },
  {
   "cell_type": "markdown",
   "metadata": {},
   "source": [
    "### Bit-wise Operators"
   ]
  },
  {
   "cell_type": "code",
   "execution_count": 8,
   "metadata": {},
   "outputs": [
    {
     "data": {
      "text/plain": [
       "true"
      ]
     },
     "execution_count": 8,
     "metadata": {},
     "output_type": "execute_result"
    }
   ],
   "source": [
    "// shifting\n",
    "byte b = 0b00000001; // 1 in binary representation\n",
    "b <<= 3; // shifting to the left by 3 bits\n",
    "return b == 0b00001000; // now we have 8"
   ]
  },
  {
   "cell_type": "code",
   "execution_count": 14,
   "metadata": {},
   "outputs": [
    {
     "data": {
      "text/plain": [
       "100000"
      ]
     },
     "execution_count": 14,
     "metadata": {},
     "output_type": "execute_result"
    }
   ],
   "source": [
    "// bit and\n",
    "byte b1 = (byte) 0b00101000;\n",
    "byte b2 = (byte) 0b00100000;\n",
    "return Integer.toBinaryString(b1 & b2);"
   ]
  },
  {
   "cell_type": "code",
   "execution_count": 15,
   "metadata": {},
   "outputs": [
    {
     "data": {
      "text/plain": [
       "101000"
      ]
     },
     "execution_count": 15,
     "metadata": {},
     "output_type": "execute_result"
    }
   ],
   "source": [
    "// bit or\n",
    "byte b1 = (byte) 0b00101000;\n",
    "byte b2 = (byte) 0b00100000;\n",
    "return Integer.toBinaryString(b1 | b2);"
   ]
  },
  {
   "cell_type": "code",
   "execution_count": 21,
   "metadata": {},
   "outputs": [
    {
     "data": {
      "text/plain": [
       "1010111"
      ]
     },
     "execution_count": 21,
     "metadata": {},
     "output_type": "execute_result"
    }
   ],
   "source": [
    "// bit not\n",
    "byte b1 = (byte) 0b10101000;\n",
    "return Integer.toBinaryString(~b1);"
   ]
  },
  {
   "cell_type": "code",
   "execution_count": 31,
   "metadata": {},
   "outputs": [
    {
     "data": {
      "text/plain": [
       "10111111111111111111111111111111"
      ]
     },
     "execution_count": 31,
     "metadata": {},
     "output_type": "execute_result"
    }
   ],
   "source": [
    "// using ints\n",
    "int b = 0b01000000000000000000000000000000;\n",
    "return Integer.toBinaryString(~b);"
   ]
  },
  {
   "cell_type": "markdown",
   "metadata": {},
   "source": [
    "### Increment/Decrement"
   ]
  },
  {
   "cell_type": "code",
   "execution_count": 41,
   "metadata": {},
   "outputs": [
    {
     "data": {
      "text/plain": [
       "1"
      ]
     },
     "execution_count": 41,
     "metadata": {},
     "output_type": "execute_result"
    }
   ],
   "source": [
    "// prefix (return the value after increment)\n",
    "int x = 0;\n",
    "return ++x; // return 1"
   ]
  },
  {
   "cell_type": "code",
   "execution_count": 42,
   "metadata": {},
   "outputs": [
    {
     "data": {
      "text/plain": [
       "0"
      ]
     },
     "execution_count": 42,
     "metadata": {},
     "output_type": "execute_result"
    }
   ],
   "source": [
    "// suffix (return the value before increment)\n",
    "int x = 0;\n",
    "return x++; // returns 0"
   ]
  },
  {
   "cell_type": "markdown",
   "metadata": {},
   "source": [
    "### Ternary operator (conditional assignment)"
   ]
  },
  {
   "cell_type": "code",
   "execution_count": 44,
   "metadata": {},
   "outputs": [
    {
     "data": {
      "text/plain": [
       "15"
      ]
     },
     "execution_count": 44,
     "metadata": {},
     "output_type": "execute_result"
    }
   ],
   "source": [
    "// since 5 is larger than 3 the condition is true and 15 is returned\n",
    "return (5 > 3) ? 15 : -15;"
   ]
  },
  {
   "cell_type": "code",
   "execution_count": 46,
   "metadata": {},
   "outputs": [
    {
     "data": {
      "text/plain": [
       "-15"
      ]
     },
     "execution_count": 46,
     "metadata": {},
     "output_type": "execute_result"
    }
   ],
   "source": [
    "// another example, here the condition evaluates to false and the second value is returned\n",
    "return (5 < 3) ? 15 : -15;"
   ]
  },
  {
   "cell_type": "markdown",
   "metadata": {},
   "source": [
    "## Operator Precendence\n",
    "\n",
    "Like most programming languages Java defines a precendence order among its operators. This order determines how expressions using multiple operators are interpreted if the execution order is not made explicit through parentheses. You already know this from basic algebra, e.g., `3 + 2 * 7` is equal to `3 + (2 * 7)` and not `(3 + 2) * 7` because it is generally understood that multiplication has precedence over addition. Java's precedence rules are summarized in the table below.\n",
    "\n",
    "<table border=\"1\" cellpadding=\"5\" summary=\"This table lists operators according to precedence order\">\n",
    "<caption id=\"nutsandbolts-precedence\"><strong>Operator Precedence</strong></caption>\n",
    "<tr>\n",
    "<th>Operators</th>\n",
    "<th>Precedence</th>\n",
    "</tr>\n",
    "<tr>\n",
    "<td>postfix</td>\n",
    "<td><code><em>expr</em>++ <em>expr</em>--</code></td>\n",
    "</tr>\n",
    "<tr>\n",
    "<td>unary</td>\n",
    "<td><code>++<em>expr</em> --<em>expr</em> +<em>expr</em> -<em>expr</em> ~ !</code></td>\n",
    "</tr>\n",
    "<tr>\n",
    "<td>multiplicative</td>\n",
    "<td><code>&ast; / %</code></td>\n",
    "</tr>\n",
    "<tr>\n",
    "<td>additive</td>\n",
    "<td><code>+ -</code></td>\n",
    "</tr>\n",
    "<tr>\n",
    "<td>shift</td>\n",
    "<td><code>&lt;&lt; &gt;&gt; &gt;&gt;&gt;</code></td>\n",
    "</tr>\n",
    "<tr>\n",
    "<td>relational</td>\n",
    "<td><code>&lt; &gt; &lt;= &gt;= instanceof</code></td>\n",
    "</tr>\n",
    "<tr>\n",
    "<td>equality</td>\n",
    "<td><code>== !=</code></td>\n",
    "</tr>\n",
    "<tr>\n",
    "<td>bitwise AND</td>\n",
    "<td><code>&amp;</code></td>\n",
    "</tr>\n",
    "<tr>\n",
    "<td>bitwise exclusive OR</td>\n",
    "<td><code>^</code></td>\n",
    "</tr>\n",
    "<tr>\n",
    "<td>bitwise inclusive OR</td>\n",
    "<td><code>|</code></td>\n",
    "</tr>\n",
    "<tr>\n",
    "<td>logical AND</td>\n",
    "<td><code>&amp;&amp;</code></td>\n",
    "</tr>\n",
    "<tr>\n",
    "<td>logical OR</td>\n",
    "<td><code>||</code></td>\n",
    "</tr>\n",
    "<tr>\n",
    "<td>ternary</td>\n",
    "<td><code>? :</code></td>\n",
    "</tr>\n",
    "<tr>\n",
    "<td>assignment</td>\n",
    "<td><code>= += -= *= /= %= &amp;= ^= |= &lt;&lt;= &gt;&gt;= &gt;&gt;&gt;=</code></td>\n",
    "</tr>\n",
    "</table>\n",
    "\n",
    "For example, as expected multiplication has higher precedence than addition."
   ]
  },
  {
   "cell_type": "code",
   "execution_count": 12,
   "metadata": {},
   "outputs": [
    {
     "data": {
      "text/plain": [
       "17"
      ]
     },
     "execution_count": 12,
     "metadata": {},
     "output_type": "execute_result"
    }
   ],
   "source": [
    "int x = 3 + (2 * 7);\n",
    "return x;"
   ]
  },
  {
   "cell_type": "code",
   "execution_count": 14,
   "metadata": {},
   "outputs": [
    {
     "data": {
      "text/plain": [
       "17"
      ]
     },
     "execution_count": 14,
     "metadata": {},
     "output_type": "execute_result"
    }
   ],
   "source": [
    "int x = 3 + 2 * 7;\n",
    "return x;"
   ]
  },
  {
   "cell_type": "markdown",
   "metadata": {},
   "source": [
    "## Casting\n",
    "\n",
    "Casting allows values of one data type to be translated into another data type. In Java casted as written as `(<newtype>) <expression>`. For example,\n",
    "\n",
    "```java\n",
    "int x = 4;\n",
    "double y = (double) x;\n",
    "```\n",
    "\n",
    "Here we are casting the `int` value `4` as a `double` (floating point number)."
   ]
  },
  {
   "cell_type": "code",
   "execution_count": 37,
   "metadata": {},
   "outputs": [
    {
     "data": {
      "text/plain": [
       "4.0"
      ]
     },
     "execution_count": 37,
     "metadata": {},
     "output_type": "execute_result"
    }
   ],
   "source": [
    "int x = 4;\n",
    "double y = (double) x;\n",
    "return y;"
   ]
  },
  {
   "cell_type": "code",
   "execution_count": 45,
   "metadata": {},
   "outputs": [
    {
     "data": {
      "text/plain": [
       "ē"
      ]
     },
     "execution_count": 45,
     "metadata": {},
     "output_type": "execute_result"
    }
   ],
   "source": [
    "short b = 0b0000000100010011;\n",
    "char c = (char) b;\n",
    "return c;"
   ]
  },
  {
   "cell_type": "code",
   "execution_count": 47,
   "metadata": {},
   "outputs": [
    {
     "data": {
      "text/plain": [
       "97"
      ]
     },
     "execution_count": 47,
     "metadata": {},
     "output_type": "execute_result"
    }
   ],
   "source": [
    "char c = 'a';\n",
    "return (short) c;"
   ]
  },
  {
   "cell_type": "code",
   "execution_count": 52,
   "metadata": {},
   "outputs": [
    {
     "data": {
      "text/plain": [
       "65"
      ]
     },
     "execution_count": 52,
     "metadata": {},
     "output_type": "execute_result"
    }
   ],
   "source": [
    "char c = 'A';\n",
    "return (short) c;"
   ]
  },
  {
   "cell_type": "code",
   "execution_count": 53,
   "metadata": {},
   "outputs": [
    {
     "data": {
      "text/plain": [
       "a"
      ]
     },
     "execution_count": 53,
     "metadata": {},
     "output_type": "execute_result"
    }
   ],
   "source": [
    "char c = 'A';\n",
    "short b = (short) c;\n",
    "b += 32;\n",
    "char c2 = (char) b;\n",
    "return c2;"
   ]
  }
 ],
 "metadata": {
  "kernelspec": {
   "display_name": "Java",
   "language": "java",
   "name": "java"
  },
  "language_info": {
   "codemirror_mode": "text/x-java",
   "file_extension": ".java",
   "mimetype": "",
   "name": "Java",
   "nbconverter_exporter": "",
   "version": "11.0.1"
  },
  "toc": {
   "base_numbering": 1,
   "nav_menu": {},
   "number_sections": false,
   "sideBar": false,
   "skip_h1_title": false,
   "title_cell": "Table of Contents",
   "title_sidebar": "Contents",
   "toc_cell": false,
   "toc_position": {},
   "toc_section_display": false,
   "toc_window_display": false
  }
 },
 "nbformat": 4,
 "nbformat_minor": 2
}

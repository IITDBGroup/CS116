{
 "cells": [
  {
   "cell_type": "markdown",
   "metadata": {},
   "source": [
    "# Documentation with JavaDoc\n",
    "\n",
    "We already saw how comments are added to Java code. JavaDoc is a JDK tool that automaticaly generates documentation for classes as HTML documents. As explained in the lecture [http://cs.iit.edu/~glavic/cs116//lectures/javadoc.html#/](http://cs.iit.edu/~glavic/cs116//lectures/javadoc.html#/), comments starting with `/**` are used to document classes, methods, fields, and more. Inside these comments, elements prefixed with `@` have specific meaning (e.g., document a method parameter with `@param`."
   ]
  },
  {
   "cell_type": "code",
   "execution_count": 10,
   "metadata": {},
   "outputs": [
    {
     "data": {
      "text/plain": [
       "lecture.MyFirstClass"
      ]
     },
     "execution_count": 10,
     "metadata": {},
     "output_type": "execute_result"
    }
   ],
   "source": [
    "package lecture;\n",
    "\n",
    "/**\n",
    " * This is a simple class which only prints <it>\"hello world\"</it> when its main method is called.\n",
    " * \n",
    " * This class desc. .....\n",
    " * \n",
    " * @author lord_pretzel\n",
    " *\n",
    " */\n",
    "public class MyFirstClass {\n",
    "\n",
    "    /**\n",
    "     * The main methods prints <it>\"hello world\"</it>. Nothing more to tell you really.\n",
    "     * \n",
    "     * I designed this method because I was bored.\n",
    "     * \n",
    "     * @param args parameters are ignored\n",
    "     */\n",
    "    public static void main(String[] args) {\n",
    "        System.out.println(\"hello world\");\n",
    "    }\n",
    "\n",
    "}"
   ]
  }
 ],
 "metadata": {
  "kernelspec": {
   "display_name": "Java",
   "language": "java",
   "name": "java"
  },
  "language_info": {
   "codemirror_mode": "text/x-java",
   "file_extension": ".java",
   "mimetype": "",
   "name": "Java",
   "nbconverter_exporter": "",
   "version": "11.0.1"
  },
  "toc": {
   "base_numbering": 1,
   "nav_menu": {},
   "number_sections": false,
   "sideBar": false,
   "skip_h1_title": false,
   "title_cell": "Table of Contents",
   "title_sidebar": "Contents",
   "toc_cell": false,
   "toc_position": {},
   "toc_section_display": false,
   "toc_window_display": false
  }
 },
 "nbformat": 4,
 "nbformat_minor": 2
}

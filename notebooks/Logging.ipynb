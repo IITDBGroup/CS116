{
 "cells": [
  {
   "cell_type": "markdown",
   "metadata": {},
   "source": [
    "# Logging\n",
    "\n",
    "Logging enables information about the current state and execution of a program to be outputted for debugging purposes. We already did use some limited form of logging utilizing `System.out` to write information to standard output. While this already is useful, this method has some drawbacks especifically in the context of larger, more complex programs:\n",
    "\n",
    "1. There is no mechansim for conveniently deciding what information should be logged. For example, during development we want to be able to see all possible log output while in production we would like to limit log output to the bare essentials to reduce the overhead of logging.\n",
    "2. All log output is printed to the console. This is often appropriate for debugging of a single-node application, but when building a distributed system or in production we may prefer writing log output to a file, possibly even rotating among a set of log files of fixed size, or send it to a server, or use multiple targets at once.\n",
    "\n",
    "The purpose of logging frameworks is to allow this type of flexible logging. Java has a build-in logging framework in package `java.logging`. The framework consists of the following major compontents:\n",
    "\n",
    "## Loggers\n",
    "Loggers create log messages. In `java.util.logging` loggers have names and are organized into a hierarchy based on their names. This hierarchy has a root called the root logger (its name is `\"\"`). The strucure of the hierarchy is determined based on logger names. A Logger's name is split into parts separated by `.`. For example, a logger named `\"A.B.Hello.C\"` would placed in this hierarchy as follows:\n",
    "\n",
    "`root -> A -> B -> Hello -> C`\n",
    "\n",
    "The hierarchy comes into play when configuring Loggers were decendents will per default inherit certain propoerties like formatting settings from their ancestors.\n",
    "\n",
    "## Formatters\n",
    "\n",
    "Formatters take log messages created by Loggers and transform them into text. The default formatter logs the log message and additional information such as the level (see below) and the class and method from where the log message was created and a timestamp. \n",
    "\n",
    "## Handlers\n",
    "\n",
    "Handlers are responsible for processing the log messages created by Loggers. For example, the build-in default handler for the root logger is a `ConsoleHandler` which writes to standard error and has its log level set to `INFO` (see below). To control how log messages are transformed into strings, you can set the formatter to be used with the handler with `setFormatter`. Handlers are associated with Logger by calling `addHandler`. A logger can have multiple handlers (which all would process messages from the logger). Per default log messages of  a logger are also processed by handlers associated with ancestors of the logger.\n",
    "\n",
    "## Log Levels\n",
    "\n",
    "Log levels allow log messages to be classified by their severity. For each logger you can set a log level and only messages with this log level or a more severe log level will be shown. These are the log levels supported by `java.util.logging` in decreasing order of severity:\n",
    "\n",
    "* `SEVERE` (highest value)\n",
    "* `WARNING`\n",
    "* `INFO`\n",
    "* `CONFIG`\n",
    "* `FINE`\n",
    "* `FINER`\n",
    "* `FINEST` (lowest value)\n",
    "\n",
    "## Configuration Files\n",
    "\n",
    "In addition to programtic configuration, the logging framework can also be configured from a java [Properties](https://docs.oracle.com/javase/6/docs/api/java/util/Properties.html) object. A Properties object stores a set of key-value pairs which are Strings. The class provides methods to read properties from a text file where each key-value pair is given as a line `key = value` or an XML file.\n",
    "The LogManager classes documentation lists keys that are supported: [https://docs.oracle.com/javase/6/docs/api/java/util/logging/LogManager.html](https://docs.oracle.com/javase/6/docs/api/java/util/logging/LogManager.html)."
   ]
  },
  {
   "cell_type": "code",
   "execution_count": 26,
   "metadata": {},
   "outputs": [
    {
     "data": {
      "text/plain": [
       "lecture.ClassWithLogging"
      ]
     },
     "execution_count": 26,
     "metadata": {},
     "output_type": "execute_result"
    }
   ],
   "source": [
    "package lecture;\n",
    "\n",
    "import java.util.logging.*;\n",
    "\n",
    "public class ClassWithLogging {\n",
    "\n",
    "    private static final Logger log = Logger.getLogger(ClassWithLogging.class.getName());\n",
    "    \n",
    "    public static void someMethod () {\n",
    "        log.finer(\"Some low priority message\");\n",
    "        log.info(\"a info level message\");\n",
    "        log.warning(\"a warning\");\n",
    "    }\n",
    "    \n",
    "    public static void main (String[] args) {\n",
    "        Logger root = Logger.getLogger(\"\"); // the root logger's name is \"\"\n",
    "        Handler[] rootHandlers = root.getHandlers();\n",
    "        for(Handler h: rootHandlers) { // remove the default handler from the root logger\n",
    "            root.removeHandler(h);\n",
    "        }\n",
    "        \n",
    "        // set log levels for loggers\n",
    "        log.setLevel(Level.ALL); // show log messages of all level for our logger\n",
    "        root.setLevel(Level.SEVERE); // show only SEVERE messages for the root logger\n",
    "        \n",
    "        // create our own handler\n",
    "        ConsoleHandler handler = new ConsoleHandler(); // create a new console handler for this logger since the default one has log level INFO\n",
    "        handler.setLevel(Level.ALL); // this handler does show all log messages passed from loggers\n",
    "        root.addHandler(handler); // set this handler for the root logger, per default all other loggers inherit the handlers of their ancestors \n",
    "\n",
    "        // cause some logging\n",
    "        someMethod();\n",
    "        root.severe(\"this will be shown\");\n",
    "        root.info(\"but this will not!\");\n",
    "    }\n",
    "}"
   ]
  },
  {
   "cell_type": "code",
   "execution_count": 27,
   "metadata": {},
   "outputs": [
    {
     "name": "stderr",
     "output_type": "stream",
     "text": [
      "Feb 03, 2019 4:14:53 PM lecture.ClassWithLogging someMethod\n",
      "FINER: Some low priority message\n",
      "Feb 03, 2019 4:14:53 PM lecture.ClassWithLogging someMethod\n",
      "INFO: a info level message\n",
      "Feb 03, 2019 4:14:53 PM lecture.ClassWithLogging someMethod\n",
      "WARNING: a warning\n",
      "Feb 03, 2019 4:14:53 PM lecture.ClassWithLogging main\n",
      "SEVERE: this will be shown\n"
     ]
    },
    {
     "data": {
      "text/plain": [
       "null"
      ]
     },
     "execution_count": 27,
     "metadata": {},
     "output_type": "execute_result"
    }
   ],
   "source": [
    "import lecture.ClassWithLogging;\n",
    "\n",
    "ClassWithLogging.main(null);"
   ]
  }
 ],
 "metadata": {
  "kernelspec": {
   "display_name": "Java",
   "language": "java",
   "name": "java"
  },
  "language_info": {
   "codemirror_mode": "text/x-java",
   "file_extension": ".java",
   "mimetype": "",
   "name": "Java",
   "nbconverter_exporter": "",
   "version": "11.0.1"
  },
  "toc": {
   "base_numbering": 1,
   "nav_menu": {},
   "number_sections": false,
   "sideBar": false,
   "skip_h1_title": false,
   "title_cell": "Table of Contents",
   "title_sidebar": "Contents",
   "toc_cell": false,
   "toc_position": {},
   "toc_section_display": false,
   "toc_window_display": false
  }
 },
 "nbformat": 4,
 "nbformat_minor": 2
}

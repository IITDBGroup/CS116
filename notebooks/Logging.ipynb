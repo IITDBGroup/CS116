{
 "cells": [
  {
   "cell_type": "markdown",
   "metadata": {},
   "source": [
    "# Logging\n",
    "\n",
    "Logging enables information about the current state and execution of a program to be outputted for debugging purposes. We already did use some limited form of logging utilizing `System.out` to write information to standard output. While this already is useful, this method has some drawbacks especifically in the context of larger, more complex programs:\n",
    "\n",
    "1. There is no mechansim for conveniently deciding what information should be logged. For example, during development we want to be able to see all possible log output while in production we would like to limit log output to the bare essentials to reduce the overhead of logging.\n",
    "2. All log output is printed to the console. This is often appropriate for debugging of a single-node application, but when building a distributed system or in production we may prefer writing log output to a file, possibly even rotating among a set of log files of fixed size, or send it to a server, or use multiple targets at once.\n",
    "\n",
    "The purpose of logging frameworks is to allow this type of flexible logging. Java has a build-in logging framework in package `java.logging`.\n",
    "\n"
   ]
  },
  {
   "cell_type": "code",
   "execution_count": null,
   "metadata": {},
   "outputs": [],
   "source": [
    "import java.logging.*;\n",
    "\n"
   ]
  }
 ],
 "metadata": {
  "kernelspec": {
   "display_name": "Java",
   "language": "java",
   "name": "java"
  },
  "language_info": {
   "codemirror_mode": "text/x-java",
   "file_extension": ".java",
   "mimetype": "",
   "name": "Java",
   "nbconverter_exporter": "",
   "version": "11.0.1"
  },
  "toc": {
   "base_numbering": 1,
   "nav_menu": {},
   "number_sections": false,
   "sideBar": false,
   "skip_h1_title": false,
   "title_cell": "Table of Contents",
   "title_sidebar": "Contents",
   "toc_cell": false,
   "toc_position": {},
   "toc_section_display": false,
   "toc_window_display": false
  }
 },
 "nbformat": 4,
 "nbformat_minor": 2
}

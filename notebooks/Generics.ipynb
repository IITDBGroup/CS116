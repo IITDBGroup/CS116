{
 "cells": [
  {
   "cell_type": "markdown",
   "metadata": {},
   "source": [
    "# Generics\n",
    "\n",
    "Generics in Java allows classes or methods to be parameterized by a type. This enables code to be reused for multiple types without loosing type safety. Before introducing the syntax of generics, let us better understand the motivation behind generics using an example of a collection class (in fact as we have already seen, the Java collections framework makes heavy use of generics). \n",
    "\n",
    "## A motivating example - a generic List datastructure\n",
    "\n",
    "Say we want to implement a linked list data structure as introduced previously in the course. We want to be able to create lists that store any elements of any class, but a single list should only store elements of a particular class, e.g., a `String` list should only store `String` objects. Since we do not know upfront what the class of elements will be the only way we can achieve this without the use of generics is to declare elements of be of class `Object`:\n",
    "\n",
    "```java\n",
    "public class ListCell {\n",
    "    Object element;\n",
    "    ListCell next;\n",
    "    ...\n",
    "}\n",
    "```\n",
    "\n",
    "Then to ensure that only elements of a certain type can be stored, we can declare `List` to have a `Class` field storing this type. To check at runtime that new elements added to the `List` are of the right type, we have to resort to reflection as introduced in the previous notebook.\n",
    "\n",
    "```java\n",
    "public class List {\n",
    "    ListCell head;\n",
    "    ListCell tail;\n",
    "    Class type;\n",
    "    \n",
    "    public void append(Object newEl) throws Exception {\n",
    "        ListCell newCell = new ListCell(newEl);\n",
    "        if(!newEl.getClass().isAssignableFrom(type)) {\n",
    "            throw new Exception(\"cannot add elements of type \" + newEl.getClass() + \" to a list of type \" + type);\n",
    "        ...\n",
    "    }\n",
    "}\n",
    "```\n",
    "\n",
    "This approach has several disadvantages: \n",
    "\n",
    "1. it results in a lot of boilerplate code\n",
    "2. the implementation will be quite slow since reflection is not very efficient in Java\n",
    "3. Type errors will be detected at runtime instead of at compile time\n",
    "\n",
    "\n",
    "## Generics syntax\n",
    "\n",
    "Generics enables Java classes, methods, and fields to be parameterized by one or more types. These the names of these type parameters are given surrounded by `<>` after the class name, method name, or interface name, e.g.,\n",
    "\n",
    "```java\n",
    "public class MyList<E> { ...\n",
    "```\n",
    "\n",
    "declares a class `MyList` with a type parameter `E`. When creating instances of this class we have to specify a value (class) for the type parameters, e.g., we can now create a `MyList<String>` or a `MyList<Integer>`. The type assigned to `E` is available within the classes body under its name (`E`). For instance, we can now declare methods that take parameters of type `E` as input, declare fields of type `E`, and so on.\n",
    "\n",
    "Similarly, we can declare generic methods where the type parameter is specified after the modifiers of the method:\n",
    "\n",
    "```java\n",
    "public <T> List<T> singletonList(T el);\n",
    "```\n",
    "\n",
    "## Type erasure\n",
    "\n",
    "Java uses a concept called **type erasure** to implement generics. To ensure type safety at compile time every usage of generic class, methods, and interfaces is checked for type safety, e.g., if we create a `MyList<Integer>` and then try to store an String in this list, then this will result in a compile time error. However, after types have been checks all type information is removed from the program and the generated Java byte code does not contain any type information anymore. While this has some advantages, it also results in limitations (see [here](https://en.wikipedia.org/wiki/Generics_in_Java#Problems_with_type_erasure))."
   ]
  },
  {
   "cell_type": "markdown",
   "metadata": {},
   "source": [
    "# Improving our Linked List with Generics\n"
   ]
  },
  {
   "cell_type": "code",
   "execution_count": 1,
   "metadata": {},
   "outputs": [
    {
     "data": {
      "text/plain": [
       "lecture.MyList"
      ]
     },
     "execution_count": 1,
     "metadata": {},
     "output_type": "execute_result"
    }
   ],
   "source": [
    "/**\n",
    " * \n",
    " */\n",
    "package lecture;\n",
    "\n",
    "/**\n",
    " * @author lord_pretzel\n",
    " *\n",
    " */\n",
    "public class MyList<E> {\n",
    "    \n",
    "    private ListCell head;\n",
    "    private ListCell tail;\n",
    "    \n",
    "    private class ListCell {\n",
    "        E value;\n",
    "        ListCell next;\n",
    "        \n",
    "        public ListCell(E value) {\n",
    "            this.value = value;\n",
    "        }\n",
    "    }\n",
    "    \n",
    "    public MyList () {\n",
    "        head = null;\n",
    "        tail = null;\n",
    "    }\n",
    "    \n",
    "    public void append(E el) {\n",
    "        ListCell n = new ListCell(el);\n",
    "        if (head == null) {\n",
    "            head = n;\n",
    "            tail = n;\n",
    "        }\n",
    "        else {\n",
    "            tail.next = n;\n",
    "            tail = n;\n",
    "        }\n",
    "    }\n",
    "    \n",
    "    public String toString() {\n",
    "        StringBuilder result = new StringBuilder();\n",
    "        result.append(\"[\");\n",
    "        ListCell cur = head;\n",
    "        while(cur != null) {\n",
    "            result.append(cur.value.toString());\n",
    "            if(cur.next != null)\n",
    "                result.append(\", \");\n",
    "            cur = cur.next;\n",
    "        }\n",
    "        result.append(\"]\");\n",
    "        return result.toString();\n",
    "    }\n",
    "    \n",
    "    public static void main (String[] args) {\n",
    "        MyList<Integer> ints = new MyList<Integer> ();\n",
    "        ints.append(1);\n",
    "        ints.append(2);\n",
    "        System.out.println(ints);\n",
    "    }\n",
    "}"
   ]
  },
  {
   "cell_type": "markdown",
   "metadata": {},
   "source": [
    "# Using our generic list"
   ]
  },
  {
   "cell_type": "code",
   "execution_count": 3,
   "metadata": {},
   "outputs": [
    {
     "name": "stdout",
     "output_type": "stream",
     "text": [
      "[1, 2]\n"
     ]
    },
    {
     "data": {
      "text/plain": [
       "null"
      ]
     },
     "execution_count": 3,
     "metadata": {},
     "output_type": "execute_result"
    }
   ],
   "source": [
    "import lecture.MyList;\n",
    "\n",
    "MyList.main(null);\n",
    "return null;"
   ]
  },
  {
   "cell_type": "code",
   "execution_count": 6,
   "metadata": {},
   "outputs": [
    {
     "ename": "incompatible types",
     "evalue": " int cannot be converted to java.lang.String",
     "output_type": "error",
     "traceback": [
      "\u001b[1;31mincompatible types: int cannot be converted to java.lang.String\u001b[0;0m",
      "\u001b[1;31m l.append(3)\u001b[0;0m",
      "\u001b[1;31m          ^^  \u001b[0;0m",
      "\u001b[1;31m\u001b[0;0m",
      "\u001b[1;31mSome messages have been simplified; recompile with -Xdiags:verbose to get full output\u001b[0;0m"
     ]
    }
   ],
   "source": [
    "import lecture.MyList;\n",
    "\n",
    "// create a list storing strings\n",
    "MyList<String> l = new MyList<String>();\n",
    "l.append(\"hello\");\n",
    "l.append(3); // cannot append strings, this will result in a compile time error!\n",
    "return l.toString();"
   ]
  },
  {
   "cell_type": "markdown",
   "metadata": {},
   "source": [
    "# Pairs as Example\n",
    "\n",
    "Let's create a class that can store pairs of objects containing an object of a type `L` and one of a type `R`."
   ]
  },
  {
   "cell_type": "code",
   "execution_count": 7,
   "metadata": {},
   "outputs": [
    {
     "data": {
      "text/plain": [
       "lecture.Pair"
      ]
     },
     "execution_count": 7,
     "metadata": {},
     "output_type": "execute_result"
    }
   ],
   "source": [
    "package lecture;\n",
    "\n",
    "public class Pair<L,R> {\n",
    "    \n",
    "    private L left;\n",
    "    private R right;\n",
    "    \n",
    "    public Pair(L left, R right) {\n",
    "        this.left = left;\n",
    "        this.right = right;\n",
    "    }\n",
    "    \n",
    "    public L getLeft() {\n",
    "        return left;\n",
    "    }\n",
    "    \n",
    "    public R getRight() {\n",
    "        return right;\n",
    "    }\n",
    "    \n",
    "    public String toString() {\n",
    "        return \"<\" + left.toString() + \",\" + right.toString() + \">\";\n",
    "    }\n",
    "}\n"
   ]
  },
  {
   "cell_type": "code",
   "execution_count": 8,
   "metadata": {},
   "outputs": [
    {
     "data": {
      "text/plain": [
       "lecture.UsePairs"
      ]
     },
     "execution_count": 8,
     "metadata": {},
     "output_type": "execute_result"
    }
   ],
   "source": [
    "package lecture;\n",
    "\n",
    "import lecture.Pair;\n",
    "\n",
    "public class UsePairs {\n",
    "    \n",
    "    public static <L> Pair<L,L> pairWithItself(L it) {\n",
    "        return new Pair<L,L> (it, it);\n",
    "    }\n",
    "    \n",
    "    public static <L,R> Pair<R,L> switchPair(Pair<L,R> in) {\n",
    "        return new Pair<R,L> (in.getRight(), in.getLeft());\n",
    "    }\n",
    "    \n",
    "}"
   ]
  },
  {
   "cell_type": "code",
   "execution_count": 9,
   "metadata": {},
   "outputs": [
    {
     "data": {
      "text/plain": [
       "<hello,hello>"
      ]
     },
     "execution_count": 9,
     "metadata": {},
     "output_type": "execute_result"
    }
   ],
   "source": [
    "import lecture.UsePairs;\n",
    "\n",
    "return UsePairs.pairWithItself(\"hello\");"
   ]
  },
  {
   "cell_type": "code",
   "execution_count": 12,
   "metadata": {},
   "outputs": [
    {
     "data": {
      "text/plain": [
       "<hello,1>"
      ]
     },
     "execution_count": 12,
     "metadata": {},
     "output_type": "execute_result"
    }
   ],
   "source": [
    "import lecture.UsePairs;\n",
    "import lecture.Pair;\n",
    "\n",
    "return UsePairs.switchPair(new Pair<Integer,String> (1, \"hello\"));"
   ]
  },
  {
   "cell_type": "markdown",
   "metadata": {},
   "source": [
    "# Wildcards\n",
    "\n",
    "When using a generic class we may want to restrict the types of the classes type parameters, e.g., they should be a subclass of a certain class. In Java this can be achieved with **wildcards**.\n",
    "\n",
    "## Restricting the permissible types for type parameters\n",
    "\n",
    "If we would have defined `MyList` as follows:\n",
    "\n",
    "```java\n",
    "public class MyList<E extends Person> {\n",
    "...\n",
    "```\n",
    "\n",
    "then only objects that are of instance of `Person` or one of its subclasses would be accepted for type parameters `E`\n",
    "\n",
    "## ?\n",
    "\n",
    "We can also restrict the allowable classes for a parameter of an generic class either requiring that it is a super or a subclass of a given class:\n",
    "\n",
    "```java\n",
    "public void myMethod(List<? extends Person> x) { // method that takes a list of elements that are of a subclass of Person or of class Person as input\n",
    "...\n",
    "}\n",
    "public void myMethod(List<? super Person> x) { // method that takes a list of elements that are of a superclass of Person or of class Person as input\n",
    "...\n",
    "}\n",
    "```"
   ]
  }
 ],
 "metadata": {
  "kernelspec": {
   "display_name": "Java",
   "language": "java",
   "name": "java"
  },
  "language_info": {
   "codemirror_mode": "text/x-java",
   "file_extension": ".java",
   "mimetype": "",
   "name": "Java",
   "nbconverter_exporter": "",
   "version": "11.0.1"
  },
  "toc": {
   "base_numbering": 1,
   "nav_menu": {},
   "number_sections": false,
   "sideBar": false,
   "skip_h1_title": false,
   "title_cell": "Table of Contents",
   "title_sidebar": "Contents",
   "toc_cell": false,
   "toc_position": {},
   "toc_section_display": false,
   "toc_window_display": false
  }
 },
 "nbformat": 4,
 "nbformat_minor": 2
}

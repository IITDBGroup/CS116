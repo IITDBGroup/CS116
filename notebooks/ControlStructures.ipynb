{
 "cells": [
  {
   "cell_type": "markdown",
   "metadata": {},
   "source": [
    "# Control Structures\n",
    "\n",
    "In this part you will learn about conditional execution and loop constructs in Java."
   ]
  },
  {
   "cell_type": "markdown",
   "metadata": {},
   "source": [
    "## If-then-else\n",
    "\n",
    "The `if` statement allow conditional execution of code. \n",
    "\n",
    "```java\n",
    "if (<condition>) {\n",
    "    <body>\n",
    "}\n",
    "```\n",
    "\n",
    "The `<body>` of the `if` statement is executed if `<condition>` evaluates to `true`. `<condition>` has to be an expression whose type is `boolean`.\n",
    "    \n",
    "### else\n",
    "\n",
    "The `else` statement allows code to be executed when the `<condition>` of the corresponding `<if>` statement fails.\n",
    "\n",
    "```java\n",
    "if (<condition>) {\n",
    "    // executed if condition evaluates to true\n",
    "}\n",
    "else {\n",
    "    // executed if condition evaluates to false\n",
    "}\n",
    "```"
   ]
  },
  {
   "cell_type": "code",
   "execution_count": 12,
   "metadata": {},
   "outputs": [
    {
     "name": "stdout",
     "output_type": "stream",
     "text": [
      "17\n"
     ]
    },
    {
     "data": {
      "text/plain": [
       "null"
      ]
     },
     "execution_count": 12,
     "metadata": {},
     "output_type": "execute_result"
    }
   ],
   "source": [
    "int x = 17;\n",
    "\n",
    "// print x if it is larger than 10\n",
    "if (x > 10) {\n",
    "    System.out.println(x);\n",
    "}"
   ]
  },
  {
   "cell_type": "code",
   "execution_count": 15,
   "metadata": {},
   "outputs": [
    {
     "name": "stdout",
     "output_type": "stream",
     "text": [
      "x is larger than or equal to 10\n"
     ]
    },
    {
     "data": {
      "text/plain": [
       "null"
      ]
     },
     "execution_count": 15,
     "metadata": {},
     "output_type": "execute_result"
    }
   ],
   "source": [
    "int x = 17;\n",
    "\n",
    "// print different result depedening on whether x is smaller than 10 or not.\n",
    "if (x < 10) {\n",
    "    System.out.println(\"x is less than 10\");\n",
    "}\n",
    "else {\n",
    "    System.out.println(\"x is larger than or equal to 10\");\n",
    "}"
   ]
  },
  {
   "cell_type": "code",
   "execution_count": 16,
   "metadata": {},
   "outputs": [
    {
     "data": {
      "text/plain": [
       "4950.0"
      ]
     },
     "execution_count": 16,
     "metadata": {},
     "output_type": "execute_result"
    }
   ],
   "source": [
    "// a bank account balance\n",
    "double balance = 4500.00;\n",
    "\n",
    "// add 10% interest if current balance > 3000\n",
    "if (balance > 3000.0) {\n",
    "    balance *= 1.1;\n",
    "}\n",
    "// otherwise add 5% interest\n",
    "else {\n",
    "    balance *= 1.05;\n",
    "}\n",
    "return balance;"
   ]
  },
  {
   "cell_type": "markdown",
   "metadata": {},
   "source": [
    "## Switch statement\n",
    "\n",
    "The `switch` statement in Java allows the execution of code based on the value of an expression:\n",
    "\n",
    "```java\n",
    "switch (<expr>) {\n",
    "    case <value1>:\n",
    "        ...\n",
    "    break;\n",
    "    case <value2>:\n",
    "    ...\n",
    "    break;\n",
    "    ...\n",
    "    case <valueN>:\n",
    "    ...\n",
    "    break;\n",
    "    default:\n",
    "    ...\n",
    "}\n",
    "```\n",
    "\n",
    "The result of `<expr>` which has to be an expression that evaluates to a primitive type or `String` is compared against  the `<value>` of each `case` top-down. Once a matching value is found, the code until `break` is executed. If none of the cases applied the code under `default` is executed. Note that default is optional. The same applies for `break`. It is possible to have `case` without a `break` which can result reduced amount of code, but if considered bad practice by many because of hard to debug errors."
   ]
  },
  {
   "cell_type": "code",
   "execution_count": 17,
   "metadata": {},
   "outputs": [
    {
     "data": {
      "text/plain": [
       "3"
      ]
     },
     "execution_count": 17,
     "metadata": {},
     "output_type": "execute_result"
    }
   ],
   "source": [
    "int x = 3;\n",
    "\n",
    "switch (x) {\n",
    "    case 1:\n",
    "        return \"1\"; // no break needed because we return here\n",
    "    case 2:\n",
    "        return \"2\";\n",
    "    case 3:\n",
    "        return \"3\";\n",
    "    default:\n",
    "        return \"None\";\n",
    "}"
   ]
  },
  {
   "cell_type": "code",
   "execution_count": 18,
   "metadata": {},
   "outputs": [
    {
     "name": "stdout",
     "output_type": "stream",
     "text": [
      "is premium customer\n",
      "has an account\n"
     ]
    },
    {
     "data": {
      "text/plain": [
       "null"
      ]
     },
     "execution_count": 18,
     "metadata": {},
     "output_type": "execute_result"
    }
   ],
   "source": [
    "// fall through case without break\n",
    "String custType = \"Premium\";\n",
    "\n",
    "// using fallthrough if a customer is premium, we also execute the code for basic customers\n",
    "switch(custType) {\n",
    "    case \"Premium\":\n",
    "        System.out.println(\"is premium customer\");\n",
    "    case \"Basic\":\n",
    "        System.out.println(\"has an account\");\n",
    "    break;\n",
    "    default:\n",
    "        System.out.println(\"Not one of our customers\");\n",
    "}\n"
   ]
  },
  {
   "cell_type": "markdown",
   "metadata": {},
   "source": [
    "## Iterative Constructs\n",
    "\n",
    "Java supports multiple iterative constructs (**loops**). A loop repeately executes a section of code. Each such execution is called an **iteration**.\n",
    "\n",
    "### While loop\n",
    "\n",
    "The `while` loop repeatly executes its body until its condition (an expression of type `boolean`) is evaluates to false. The condition is evaluated before each execution of the loop.\n",
    "\n",
    "```java\n",
    "while (<cond>) {\n",
    "   ...   \n",
    "}\n",
    "```\n",
    "\n",
    "### Do-While loop\n",
    "\n",
    "The only difference to the `while` loop is that the condition is evaluated after each iteration instead of before.\n",
    "\n",
    "```java\n",
    "do {\n",
    " ...   \n",
    "} while (<cond>)\n",
    "```\n",
    "\n",
    "### For loops\n",
    "\n",
    "A `for` loop in Java comes in one of two forms. In the first form, the loop consists of an `<initialization>`, a `<condition>`, and a `<step>`. The `<initialization>` is executed once before the loop starts. The `<condition>` is evaluated before every loop iteration and the loop stops once the condition evaluates to `false`. The `<step>` is evaluated after every loop iteration.\n",
    "\n",
    "```java\n",
    "for(<initialization>; <condition>; <step>) {\n",
    "    ...\n",
    "}\n",
    "```\n",
    "\n",
    "A typical use of a `for` loop is to execute the loop body a given number of times which can be realized using a counter variable:\n",
    "\n",
    "```java\n",
    "// this code is executed 10 times\n",
    "for(int i = 0; i < 10; i++) {\n",
    "   ... \n",
    "}\n",
    "```\n",
    "\n",
    "The second type of `for` loop in Java allows the iteration over a collection or arrays. A loop variable is declared and in every iteration is bound to an element from the collection/array until all elements have been processed.\n",
    "\n",
    "```java\n",
    "String[] strs = { \"A\", \"B\", \"C\" };\n",
    "for(String a: strs)\n",
    "{\n",
    "    ...\n",
    "}\n",
    "```"
   ]
  },
  {
   "cell_type": "code",
   "execution_count": 8,
   "metadata": {},
   "outputs": [
    {
     "name": "stdout",
     "output_type": "stream",
     "text": [
      "0\n",
      "1\n",
      "2\n",
      "3\n",
      "4\n"
     ]
    },
    {
     "data": {
      "text/plain": [
       "null"
      ]
     },
     "execution_count": 8,
     "metadata": {},
     "output_type": "execute_result"
    }
   ],
   "source": [
    "// use a while loop to iterate throug numbers 0 to 4\n",
    "int i = 0;\n",
    "\n",
    "while(i < 5) {\n",
    "    System.out.println(i);\n",
    "    i++; // increase the counter variable i by 1\n",
    "}"
   ]
  },
  {
   "cell_type": "code",
   "execution_count": 9,
   "metadata": {},
   "outputs": [
    {
     "name": "stdout",
     "output_type": "stream",
     "text": [
      "1\n",
      "2\n",
      "3\n",
      "4\n"
     ]
    },
    {
     "data": {
      "text/plain": [
       "null"
      ]
     },
     "execution_count": 9,
     "metadata": {},
     "output_type": "execute_result"
    }
   ],
   "source": [
    "// use a do-while loop to iterate [0,...,4]\n",
    "int i = 1;\n",
    "\n",
    "do {\n",
    "    System.out.println(i);\n",
    "    i++; // increase the counter variable i by 1\n",
    "} while(i < 5);"
   ]
  },
  {
   "cell_type": "code",
   "execution_count": 10,
   "metadata": {},
   "outputs": [
    {
     "name": "stdout",
     "output_type": "stream",
     "text": [
      "0\n",
      "1\n",
      "2\n",
      "3\n",
      "4\n"
     ]
    },
    {
     "data": {
      "text/plain": [
       "null"
      ]
     },
     "execution_count": 10,
     "metadata": {},
     "output_type": "execute_result"
    }
   ],
   "source": [
    "// use a for loop to iterate through numbers 0 to 4\n",
    "for(int i = 0; i < 5; i++) {\n",
    "    System.out.println(i);\n",
    "}"
   ]
  },
  {
   "cell_type": "code",
   "execution_count": 7,
   "metadata": {},
   "outputs": [
    {
     "name": "stdout",
     "output_type": "stream",
     "text": [
      "Peter\n",
      "Bob\n",
      "Alice\n",
      "Jane\n"
     ]
    },
    {
     "data": {
      "text/plain": [
       "null"
      ]
     },
     "execution_count": 7,
     "metadata": {},
     "output_type": "execute_result"
    }
   ],
   "source": [
    "import java.util.List;\n",
    "import java.util.ArrayList;\n",
    "\n",
    "// using for to iterate over an array and collection\n",
    "String[] strs = { \"Peter\", \"Bob\" };\n",
    "\n",
    "for(String s: strs)\n",
    "    System.out.println(s);\n",
    "\n",
    "List<String> l = new ArrayList<String> ();\n",
    "l.add(\"Alice\");\n",
    "l.add(\"Jane\");\n",
    "\n",
    "for(String s: l)\n",
    "    System.out.println(s);"
   ]
  },
  {
   "cell_type": "markdown",
   "metadata": {},
   "source": [
    "Note that in the example above we made use of the fact that for control statement that have a body that only consists of a single statement the use of `{}` is optional."
   ]
  },
  {
   "cell_type": "markdown",
   "metadata": {},
   "source": [
    "## Visibility of variables\n",
    "\n"
   ]
  },
  {
   "cell_type": "code",
   "execution_count": null,
   "metadata": {},
   "outputs": [],
   "source": []
  }
 ],
 "metadata": {
  "kernelspec": {
   "display_name": "Java",
   "language": "java",
   "name": "java"
  },
  "language_info": {
   "codemirror_mode": "text/x-java",
   "file_extension": ".java",
   "mimetype": "",
   "name": "Java",
   "nbconverter_exporter": "",
   "version": "1.8.0_152-release"
  },
  "toc": {
   "base_numbering": 1,
   "nav_menu": {},
   "number_sections": false,
   "sideBar": false,
   "skip_h1_title": false,
   "title_cell": "Table of Contents",
   "title_sidebar": "Contents",
   "toc_cell": false,
   "toc_position": {},
   "toc_section_display": false,
   "toc_window_display": false
  }
 },
 "nbformat": 4,
 "nbformat_minor": 2
}

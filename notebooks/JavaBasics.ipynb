{
 "cells": [
  {
   "cell_type": "markdown",
   "metadata": {},
   "source": [
    "# Java Basics\n",
    "\n",
    "We revew some java fundamentals to get started with programming without caring to much about fully understanding every piece of syntax we are using (this will come later). Source code in Java is stored in files with the extension `.java`. We will cover the details of the structure of these files later. For now, we will use a template file structure to explain some basic Java concepts. The content has to be stored in a file named `MyClass.java`. \n",
    "\n",
    "```java\n",
    "public class MyClass { \n",
    "\n",
    "    public static void main(String[] args) {\n",
    "        <some_code>\n",
    "    }\n",
    "\n",
    "}\n",
    "```\n",
    "\n",
    "We will replace `<some_code>` with some basic Java code. See the [course materials webpage](../materials.html) for instructions on how to install Java and how to compile Java source code and run compiled Java byte code. Ignore the `String[] args` part for now."
   ]
  },
  {
   "cell_type": "markdown",
   "metadata": {},
   "source": [
    "# String literals and printing to the console\n",
    "\n",
    "A `String` is a sequence of characters. In Java strings are enclosed in double quotes (`\"`). For example `\"A\"`, and `\"Hello World!\"` are **literal** String values in Java. To print to the standard output you use `System.out.println(<string>)` in Java. Here `<string>` is an expression that evaluates to the **type** String, e.g., a string literals as the ones shown above. `println` is what is called a **method** in Java. A callable piece of code that you pass information though its **parameters** that are passed in parentheses. In the case of `println` there is a single parameter that is what should be printed on the console."
   ]
  },
  {
   "cell_type": "code",
   "execution_count": 1,
   "metadata": {},
   "outputs": [
    {
     "data": {
      "text/plain": [
       "com.twosigma.beaker.javash.bkr40551078.MyClass"
      ]
     },
     "execution_count": 1,
     "metadata": {},
     "output_type": "execute_result"
    }
   ],
   "source": [
    "public class MyClass { \n",
    "\n",
    "    public static void main(String[] args) {\n",
    "        System.out.println(\"Hello world\");\n",
    "    }\n",
    "\n",
    "}"
   ]
  },
  {
   "cell_type": "code",
   "execution_count": 2,
   "metadata": {},
   "outputs": [
    {
     "name": "stdout",
     "output_type": "stream",
     "text": [
      "Hello world\n"
     ]
    },
    {
     "data": {
      "text/plain": [
       "null"
      ]
     },
     "execution_count": 2,
     "metadata": {},
     "output_type": "execute_result"
    }
   ],
   "source": [
    "MyClass.main(null);"
   ]
  },
  {
   "cell_type": "markdown",
   "metadata": {},
   "source": [
    "## Numerical literals\n",
    "\n",
    "In Java numerical literals are either integers or floating point numbers. For instance, `1` and `-5` are integers while `3.0`, and `-123.345` are floating point numbers."
   ]
  },
  {
   "cell_type": "code",
   "execution_count": 3,
   "metadata": {},
   "outputs": [
    {
     "data": {
      "text/plain": [
       "-15.0"
      ]
     },
     "execution_count": 3,
     "metadata": {},
     "output_type": "execute_result"
    }
   ],
   "source": [
    "return -15.0;"
   ]
  },
  {
   "cell_type": "markdown",
   "metadata": {},
   "source": [
    "## Statements, Variables, and Assignment\n",
    "\n",
    "A statement in Java is ended with a `;`. When writing a program you can use **variables** to store information. Variables are of a certain **type** that determines what kind of information can be stored in the variable, e.g., numbers of strings. To store some information in a variable you have to **assign** a value to the variable. In Java assignment is of the form:\n",
    "\n",
    "```java\n",
    "<variable_name> = <value> ;\n",
    "```\n",
    "\n",
    "Before using a variable can be used, you have to declare it. A variable declaration if of the form:\n",
    "\n",
    "```java\n",
    "<type> <variable_name>;\n",
    "```\n",
    "\n",
    "It is possible to combine assignment with declaration like this:\n",
    "\n",
    "```java\n",
    "<type> <variable_name> = <value>;\n",
    "```"
   ]
  },
  {
   "cell_type": "code",
   "execution_count": 6,
   "metadata": {},
   "outputs": [
    {
     "data": {
      "text/plain": [
       "com.twosigma.beaker.javash.bkr40551078.MyClass"
      ]
     },
     "execution_count": 6,
     "metadata": {},
     "output_type": "execute_result"
    }
   ],
   "source": [
    "public class MyClass { \n",
    "\n",
    "    public static void main(String[] args) {\n",
    "        String x = \"Hello world!\";\n",
    "        System.out.println(x);\n",
    "    }\n",
    "\n",
    "}"
   ]
  },
  {
   "cell_type": "code",
   "execution_count": 7,
   "metadata": {},
   "outputs": [
    {
     "name": "stdout",
     "output_type": "stream",
     "text": [
      "Hello world!\n"
     ]
    },
    {
     "data": {
      "text/plain": [
       "null"
      ]
     },
     "execution_count": 7,
     "metadata": {},
     "output_type": "execute_result"
    }
   ],
   "source": [
    "MyClass.main(null);"
   ]
  },
  {
   "cell_type": "markdown",
   "metadata": {},
   "source": [
    "## Expressions\n",
    "\n",
    "Expressions in Java consist of **method** calls, **literals**, **variable references**, and **operators** (e.g., arithmetic operators like addition `+`). An expression evaluates to a **value** of a certain **type** based on the following rules:\n",
    "\n",
    "* **literals**: A literal evaluates to itself, e.g., the value of the expression `\"Hello World\"` is of type `String` and evaluates to `\"Hello World\"`.\n",
    "* **variables**: Evaluate to the value that is currently assigned to them\n",
    "* **method**: Evaluate to the value **returned** by the methods (more on that later)\n",
    "* **operators**: combine their inputs in an operator-specific way. For example, the `+` operator takes two expressions of a numerical type and returns their sum\n",
    "\n",
    "```java\n",
    "(1 + 3) * 4\n",
    "```\n",
    "\n",
    "The above expression combines 3 integer literals using operators `+` and `*`. Using elementary school arithmethics you can confirm that it evaluates to `16`"
   ]
  },
  {
   "cell_type": "code",
   "execution_count": 18,
   "metadata": {},
   "outputs": [
    {
     "data": {
      "text/plain": [
       "com.twosigma.beaker.javash.bkr07309595.MyClass"
      ]
     },
     "execution_count": 18,
     "metadata": {},
     "output_type": "execute_result"
    }
   ],
   "source": [
    "public class MyClass { \n",
    "\n",
    "    // assign \"Hello world!\" to x and then print it\n",
    "    public static void main() {\n",
    "        String x = \"Hello world!\";\n",
    "        System.out.println(x);\n",
    "    }\n",
    "\n",
    "}"
   ]
  },
  {
   "cell_type": "code",
   "execution_count": 19,
   "metadata": {},
   "outputs": [
    {
     "name": "stdout",
     "output_type": "stream",
     "text": [
      "Hello world!\n"
     ]
    },
    {
     "data": {
      "text/plain": [
       "null"
      ]
     },
     "execution_count": 19,
     "metadata": {},
     "output_type": "execute_result"
    }
   ],
   "source": [
    "MyClass.main();"
   ]
  },
  {
   "cell_type": "code",
   "execution_count": 20,
   "metadata": {},
   "outputs": [
    {
     "data": {
      "text/plain": [
       "com.twosigma.beaker.javash.bkr07309595.MyClass"
      ]
     },
     "execution_count": 20,
     "metadata": {},
     "output_type": "execute_result"
    }
   ],
   "source": [
    "public class MyClass { \n",
    "\n",
    "    // assign \"Hello world!\" to x and then print it\n",
    "    public static void main() {\n",
    "        int x = 3;\n",
    "        int y = 4;\n",
    "        System.out.println(x + y); // the arguments passed to a method can also be expression, the method is called with the result of the expression.\n",
    "    }\n",
    "\n",
    "}"
   ]
  },
  {
   "cell_type": "code",
   "execution_count": 21,
   "metadata": {},
   "outputs": [
    {
     "name": "stdout",
     "output_type": "stream",
     "text": [
      "7\n"
     ]
    },
    {
     "data": {
      "text/plain": [
       "null"
      ]
     },
     "execution_count": 21,
     "metadata": {},
     "output_type": "execute_result"
    }
   ],
   "source": [
    "MyClass.main();"
   ]
  },
  {
   "cell_type": "markdown",
   "metadata": {},
   "source": [
    "Above we simplified a bit. The right-hand side of an assignment can also be an expression. From now on we will omit the template code in `MyClass.java` and just focus on the code itself."
   ]
  },
  {
   "cell_type": "code",
   "execution_count": 12,
   "metadata": {},
   "outputs": [
    {
     "data": {
      "text/plain": [
       "40"
      ]
     },
     "execution_count": 12,
     "metadata": {},
     "output_type": "execute_result"
    }
   ],
   "source": [
    "return (1 + 3) * 10; // some integer operators"
   ]
  },
  {
   "cell_type": "code",
   "execution_count": 13,
   "metadata": {},
   "outputs": [
    {
     "data": {
      "text/plain": [
       "Hello World!"
      ]
     },
     "execution_count": 13,
     "metadata": {},
     "output_type": "execute_result"
    }
   ],
   "source": [
    "return \"Hello\"  + \" \" + \"World!\"; // the + operator on Strings is concatenation"
   ]
  },
  {
   "cell_type": "code",
   "execution_count": 14,
   "metadata": {},
   "outputs": [
    {
     "data": {
      "text/plain": [
       "15"
      ]
     },
     "execution_count": 14,
     "metadata": {},
     "output_type": "execute_result"
    }
   ],
   "source": [
    "int x = 3;\n",
    "int y = 5;\n",
    "int z = x * y;\n",
    "return z;"
   ]
  },
  {
   "cell_type": "markdown",
   "metadata": {},
   "source": [
    "# Comments\n",
    "\n",
    "Comments are used to document code. Comments are ignored by the compiler, i.e., they do not affect the generated byte code. \n",
    "\n",
    "## Single Line Comments\n",
    "\n",
    "Single line comments in Java start with `//` and extend towards the end of the line (see above for several examples)\n",
    "\n",
    "```java\n",
    "int x = 5; // this is a single line comment\n",
    "int y = ...\n",
    "```\n",
    "\n",
    "## Multi Line Comments\n",
    "\n",
    "Multi line comments start with `/*` and extend until the first following `*/`\n",
    "\n",
    "```java\n",
    "int x = 5;\n",
    "/* This\n",
    "   is a comment\n",
    "   that spans multiple lines\n",
    "   and here is where it ends: */\n",
    "x = 7;\n",
    "```"
   ]
  }
 ],
 "metadata": {
  "kernelspec": {
   "display_name": "Java",
   "language": "java",
   "name": "java"
  },
  "language_info": {
   "codemirror_mode": "text/x-java",
   "file_extension": ".java",
   "mimetype": "",
   "name": "Java",
   "nbconverter_exporter": "",
   "version": "11.0.1"
  },
  "toc": {
   "base_numbering": 1,
   "nav_menu": {},
   "number_sections": false,
   "sideBar": false,
   "skip_h1_title": false,
   "title_cell": "Table of Contents",
   "title_sidebar": "Contents",
   "toc_cell": false,
   "toc_position": {},
   "toc_section_display": false,
   "toc_window_display": false
  }
 },
 "nbformat": 4,
 "nbformat_minor": 2
}

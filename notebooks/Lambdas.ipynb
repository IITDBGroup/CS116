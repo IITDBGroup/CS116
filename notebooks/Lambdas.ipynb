{
 "cells": [
  {
   "cell_type": "markdown",
   "metadata": {},
   "source": [
    "# Lambdas and the Stream API\n",
    "\n",
    "Lambda expressions are anonymous functions. The concept of a lambda expression stems from the **Lambda calculus** which is a turing-complete formal system for expressing computation. The Lamdba calculus builds the foundation of the **functional programming** paradigm where programs are constructed from functions only. Recall that Java is an imperative language. Nonetheless like many other modern languages, Java borrows the idea of Lambda expressions from functional programming. Before discussing lambdas in more detail, we need to introduce the concept of a **Functional Interface** in Java. Any interface that contains a single non-static method is called a functional interface."
   ]
  },
  {
   "cell_type": "code",
   "execution_count": 1,
   "metadata": {},
   "outputs": [
    {
     "data": {
      "text/plain": [
       "lecture.Person"
      ]
     },
     "execution_count": 1,
     "metadata": {},
     "output_type": "execute_result"
    }
   ],
   "source": [
    "package lecture;\n",
    "\n",
    "public class Person {\n",
    "    public String name;\n",
    "    public String address;\n",
    "    public int age;\n",
    "    \n",
    "    public Person(String name, String address, int age) {\n",
    "        this.name = name;\n",
    "        this.address = address;\n",
    "        this.age = age;\n",
    "    }\n",
    "    \n",
    "    public String toString() {\n",
    "        return String.format(\"Person[%s lives in %s, age: %d]\", name, address, age);\n",
    "    }\n",
    "}"
   ]
  },
  {
   "cell_type": "code",
   "execution_count": 3,
   "metadata": {},
   "outputs": [
    {
     "data": {
      "text/plain": [
       "lecture.PersonFilter"
      ]
     },
     "execution_count": 3,
     "metadata": {},
     "output_type": "execute_result"
    }
   ],
   "source": [
    "package lecture;\n",
    "\n",
    "// a PersonFilter is a functioal interface\n",
    "public interface PersonFilter {\n",
    "    \n",
    "    public boolean test(Person p);\n",
    "}"
   ]
  },
  {
   "cell_type": "code",
   "execution_count": 4,
   "metadata": {},
   "outputs": [
    {
     "data": {
      "text/plain": [
       "lecture.PersonListSearcher"
      ]
     },
     "execution_count": 4,
     "metadata": {},
     "output_type": "execute_result"
    }
   ],
   "source": [
    "package lecture;\n",
    "\n",
    "import java.util.List;\n",
    "\n",
    "// a class for searching persons in a list\n",
    "public class PersonListSearcher {\n",
    "    \n",
    "    // use a person filter to evaluate whether the Person matches our search criteria\n",
    "    public static Person find (List<Person> persons, PersonFilter check) {\n",
    "        for(Person p: persons)\n",
    "            if(check.test(p))\n",
    "                return p;\n",
    "        return null;\n",
    "    }\n",
    "}\n"
   ]
  },
  {
   "cell_type": "code",
   "execution_count": 8,
   "metadata": {},
   "outputs": [
    {
     "data": {
      "text/plain": [
       "lecture.AddressFilter"
      ]
     },
     "execution_count": 8,
     "metadata": {},
     "output_type": "execute_result"
    }
   ],
   "source": [
    "package lecture;\n",
    "\n",
    "public class AddressFilter implements PersonFilter {\n",
    "    \n",
    "    public boolean test(Person p) {\n",
    "        return (p.address.contains(\"Chicago\"));\n",
    "    }\n",
    "}"
   ]
  },
  {
   "cell_type": "code",
   "execution_count": 7,
   "metadata": {},
   "outputs": [
    {
     "data": {
      "text/plain": [
       "Person[Jane lives in Chicago, 60612, age: 13]"
      ]
     },
     "execution_count": 7,
     "metadata": {},
     "output_type": "execute_result"
    }
   ],
   "source": [
    "import java.util.ArrayList;\n",
    "import lecture.Person;\n",
    "import lecture.PersonFilter;\n",
    "import lecture.PersonListSearcher;\n",
    "\n",
    "ArrayList<Person> l = new ArrayList<Person>();\n",
    "l.add(new Person(\"Alice\", \"Chicago, 60611\", 43));\n",
    "l.add(new Person(\"Bob\", \"Milwaukee, 44444\", 3));\n",
    "l.add(new Person(\"Jane\", \"Chicago, 60612\", 13));\n",
    "\n",
    "// to search for a person that is younger than 10 years we can create a PersonFilter using an anonymous class\n",
    "return PersonListSearcher.find(l, new PersonFilter() { \n",
    "    public boolean test(Person p) {\n",
    "        return (p.age < 3);\n",
    "    }\n",
    "}).toString();"
   ]
  },
  {
   "cell_type": "code",
   "execution_count": 10,
   "metadata": {},
   "outputs": [
    {
     "data": {
      "text/plain": [
       "Person[Alice lives in Chicago, 60611, age: 43]"
      ]
     },
     "execution_count": 10,
     "metadata": {},
     "output_type": "execute_result"
    }
   ],
   "source": [
    "import java.util.ArrayList;\n",
    "import lecture.Person;\n",
    "import lecture.PersonFilter;\n",
    "import lecture.AddressFilter;\n",
    "import lecture.PersonListSearcher;\n",
    "\n",
    "ArrayList<Person> l = new ArrayList<Person>();\n",
    "l.add(new Person(\"Alice\", \"Chicago, 60611\", 43));\n",
    "l.add(new Person(\"Bob\", \"Milwaukee, 44444\", 3));\n",
    "l.add(new Person(\"Jane\", \"Chicago, 60612\", 13));\n",
    "\n",
    "// to search for a person that is younger than 10 years we can create a PersonFilter using an anonymous class\n",
    "return PersonListSearcher.find(l, new AddressFilter()).toString();"
   ]
  },
  {
   "cell_type": "markdown",
   "metadata": {},
   "source": [
    "## The -> operator\n",
    "\n",
    "The disadvantage of anonymous classes are quite verbose. In particular, for functional interfaces where we are providing the implementation of a single method. Lambda expression greatly simplify the definition of such methods. A lambda expression is of the form:\n",
    "\n",
    "```java\n",
    "<parameters> -> <return_expression>\n",
    "```\n",
    "\n",
    "where the result of `<return_expression>` is returned. Lambdas can also have multiline bodies like regular methods which are enclosed in `{}`, e.g., \n",
    "\n",
    "```java\n",
    "<parameters> -> {\n",
    "    <body>\n",
    "}\n",
    "```\n",
    "\n",
    "Note that `<parameters>` is a list of parameters \n"
   ]
  },
  {
   "cell_type": "code",
   "execution_count": 11,
   "metadata": {},
   "outputs": [
    {
     "data": {
      "text/plain": [
       "Person[Bob lives in Milwaukee, 44444, age: 3]"
      ]
     },
     "execution_count": 11,
     "metadata": {},
     "output_type": "execute_result"
    }
   ],
   "source": [
    "import java.util.ArrayList;\n",
    "import lecture.Person;\n",
    "import lecture.PersonFilter;\n",
    "import lecture.PersonListSearcher;\n",
    "\n",
    "ArrayList<Person> l = new ArrayList<Person>();\n",
    "l.add(new Person(\"Alice\", \"Chicago, 60611\", 43));\n",
    "l.add(new Person(\"Bob\", \"Milwaukee, 44444\", 3));\n",
    "l.add(new Person(\"Jane\", \"Chicago, 60612\", 13));\n",
    "\n",
    "// to search for a person that is younger than 10 years we can create a PersonFilter using a lambda expression (p -> p.age < 10)\n",
    "return PersonListSearcher.find(l, p -> p.age < 10).toString();"
   ]
  },
  {
   "cell_type": "markdown",
   "metadata": {},
   "source": [
    "### Lambdas and Generics\n",
    "\n",
    "Lambdas cannot be generic. However, it is possible for a Lambda to implement a functional interface that use generics. Let us explore this using a common higher-order function (a function that takes a function as an input parameter) in functional programming called `fold` (fold left). `fold` takes three arguments: a list with input data, a binary function which two inputs of the type of the elements of the list and returns an ouput of the same type, and a intial value (also of the element type of the list). `fold` returns a single result of the same type as the elements of the list that is computed as follows:\n",
    "\n",
    "1. The result is set to the initial value provided as input: `result = initial`\n",
    "2. For each element the result is set to the result of applying the binary function to the current result and the element: `result = f(result, element)`"
   ]
  },
  {
   "cell_type": "code",
   "execution_count": 24,
   "metadata": {},
   "outputs": [
    {
     "data": {
      "text/plain": [
       "lecture.FoldDemo"
      ]
     },
     "execution_count": 24,
     "metadata": {},
     "output_type": "execute_result"
    }
   ],
   "source": [
    "package lecture;\n",
    "\n",
    "import java.util.List;\n",
    "import java.util.ArrayList;\n",
    "\n",
    "public class FoldDemo {\n",
    "\n",
    "    interface BinaryOp<T> {\n",
    "        public T compute(T lop, T rop);\n",
    "    }\n",
    "\n",
    "    public static <T> T fold (List<T> l, BinaryOp<T> f, T init) {\n",
    "        T res = init;\n",
    "        for(T el: l)\n",
    "            res = f.compute(res, el);\n",
    "        return res;\n",
    "    }\n",
    "    \n",
    "    public static void main(String [] args) {\n",
    "        List<Integer> l = new ArrayList<Integer> ();\n",
    "        l.add(1);\n",
    "        l.add(3);\n",
    "        l.add(15);\n",
    "\n",
    "        //BinaryOp<Integer> s = new BinaryOp<Integer> () {\n",
    "        //    public Integer computer(Integer lop, Integer rop) {\n",
    "        //        return lop + rop;\n",
    "         //   }\n",
    "        //};\n",
    "       \n",
    "        // (x, y) -> x+y \n",
    "        Integer res = fold(l, (x, y) -> x+y, 0);\n",
    "        System.out.println(res);\n",
    "    }\n",
    "}"
   ]
  },
  {
   "cell_type": "code",
   "execution_count": 25,
   "metadata": {},
   "outputs": [
    {
     "name": "stdout",
     "output_type": "stream",
     "text": [
      "19\n"
     ]
    },
    {
     "data": {
      "text/plain": [
       "null"
      ]
     },
     "execution_count": 25,
     "metadata": {},
     "output_type": "execute_result"
    }
   ],
   "source": [
    "import lecture.FoldDemo;\n",
    "FoldDemo.main(null);"
   ]
  },
  {
   "cell_type": "markdown",
   "metadata": {},
   "source": [
    "# Assigning Lambdas to Variables\n",
    "\n",
    "To assign a lambda to a variable you can define a variable of a type that is a functional interface and then assign the lambda to this variable. As an example consider some functional interfaces provided by Java in `java.util.function`:\n",
    "\n",
    "* `Function<T,R>` a function that (`apply` method) that takes an argument of type `T` and returns a result of type `R`.\n",
    "* `BiConsumer<T,U>` a method that takes arguments of types `T` and `U` and does not return a value"
   ]
  },
  {
   "cell_type": "code",
   "execution_count": 26,
   "metadata": {},
   "outputs": [
    {
     "data": {
      "text/plain": [
       "12"
      ]
     },
     "execution_count": 26,
     "metadata": {},
     "output_type": "execute_result"
    }
   ],
   "source": [
    "import java.util.function.*;\n",
    "\n",
    "Function<String,Integer> myLen = s -> s.length();\n",
    "\n",
    "return \"\" + myLen.apply(\"hello world!\");"
   ]
  },
  {
   "cell_type": "markdown",
   "metadata": {},
   "source": [
    "# Method References\n",
    "\n",
    "Sometimes a class already implements a method that we want to use as a lambda. Say a class `C` has a static method `f` with a single input of type `T`. Then when we want to define a lambda that applies this method we have to write: \n",
    "\n",
    "```java\n",
    "in -> C.f(in)\n",
    "```\n",
    "\n",
    "This can be written more concisely using Java's method references. A method reference uses the `::` operator to refer to a method. Method references can refer to static methods, instance methods, and constructors:\n",
    "\n",
    "* **Static method** - if `f` is a static method with result type `R` and parameter types `T1, ..., Tn` of class `C` then a reference to `f` is written as `C::f` and this is equivalent to the lambda expression `(t1, ..., tn) -> C.f(t1, ..., tn)`\n",
    "* **Instance method** - if `f` is a non-static methof with result type `R` and parameter types `T1, ..., Tn` of class `C` then a reference to `f` is also written as `C::f` and this is equivalent to the lambda expression `(o, t1, ..., tn) -> o.f(t1, ..., tn)`. That is, the lambda takes an instance of class `C` as input and calls `f` on this instance."
   ]
  },
  {
   "cell_type": "code",
   "execution_count": 77,
   "metadata": {},
   "outputs": [
    {
     "data": {
      "text/plain": [
       "true"
      ]
     },
     "execution_count": 77,
     "metadata": {},
     "output_type": "execute_result"
    }
   ],
   "source": [
    "import java.util.function.*;\n",
    "\n",
    "// a BiPredicate takes two inputs and returns a boolean\n",
    "BiPredicate<String,String> streq = String::equals; // recall that the signature of equals is boolean String.equals(Object other)\n",
    "\n",
    "return streq.test(\"ABC\", \"ABC\");"
   ]
  },
  {
   "cell_type": "markdown",
   "metadata": {},
   "source": [
    "# Stream API\n",
    "\n",
    "Java provides several high-level functions over collections thought the Stream API. A stream is constructed from an array or collection.  For `Collections` you can create stream by calling `stream()` on the collection. You can perform computations over streams by constructing a **stream pipeline** which consists of a source (e.g., a collection `.stream()`), zero or more **intermediate operations**, and one **terminal operation**. The intermediate operations produce streams as outputs and are otherwise side-effect free while the terminal operations may produce a non-stream output and can have side-effects. Stream pipelines are **lazy**. Only once a terminal operation is added, the pipeline is executed. This, at least in principle, enables operations to be optimized having knowledge of the full pipeline. Some example intermediate and terminal operations are described below. For a full list see the Java documentation [https://docs.oracle.com/en/java/javase/11/docs/api/java.base/java/util/stream/Stream.html](https://docs.oracle.com/en/java/javase/11/docs/api/java.base/java/util/stream/Stream.html).\n",
    "\n",
    "## Intermediate Operations\n",
    "\n",
    "* `filter(Predicate predicate)` - removes all elements from the stream for which the predicate (a function mapping stream elementst to `boolean`) evaluates to `true`\n",
    "* `map(Function<T,R> mapper)` - replaces each element of the stream of type `R` with the result of applying the `Function` of type `T -> R` to the element.\n",
    "* `reduce(T identity, BinaryOperator<T> accumulator)` - applies the binary operator (a function `T, T -> T`) to aggregate the elements of the stream (this is `fold`!).\n",
    "* `skip(long n)` - returns a stream which is identical to the input except that the first `n` elements are removed.\n",
    "\n",
    "## Terminal Operations\n",
    "\n",
    "* `count()` - returns the number of elements in the stream\n",
    "* `collect(Supplier<R> supplier, BiConsumer<R,T> accumulator, BiConsumer<R,R> combiner)` - This constructs a result from the stream by creating an object of type `R` using the supplier and accumulating the elements of the stream by applying the accumulator to the current result and the current stream element (of type `T`). The `combiner` combines two partitial results (this is used for optimization).\n",
    "* `sorted()` - sorts the elements of this stream"
   ]
  },
  {
   "cell_type": "code",
   "execution_count": 27,
   "metadata": {},
   "outputs": [
    {
     "data": {
      "application/vnd.jupyter.widget-view+json": {
       "model_id": "e0335577-ac9a-4ec4-be3c-7860450bd9f1",
       "version_major": 2,
       "version_minor": 0
      },
      "method": "display_data"
     },
     "metadata": {},
     "output_type": "display_data"
    }
   ],
   "source": [
    "import java.util.List;\n",
    "import java.util.ArrayList;\n",
    "import java.util.stream.*;\n",
    "import java.util.Arrays;\n",
    "import java.util.HashMap;\n",
    "import java.util.function.*;\n",
    "\n",
    "List<String> mystr = Arrays.asList(new String[] { \"Abc\", \"Gbd\", \"asdasd\", \"AbAA\", \"ZAere\", \"AZ\"});\n",
    "\n",
    "// create a stream that contains all strings from the list that \n",
    "// start with \"A\". This will not execute the filter!\n",
    "Stream<String> st = mystr.stream().filter( s -> s.startsWith(\"A\")); \n",
    "\n",
    "/* Now let's place the result in a map where the key is the second characters of \n",
    " * a string and the value is the list of strings that have this second character.\n",
    " */\n",
    "// this is a function that extracts the second character from a string\n",
    "final Function<String,Character> getSecChar = s -> s.charAt(1);\n",
    "\n",
    "// this is a function that takes a hashmap<Characters,List<String>> \n",
    "// and a string, extracts the second characters from the string and \n",
    "// appends the string to the list of string for this character in the \n",
    "// HashMap.\n",
    "final BiFunction<HashMap<Character,List<String>>,String,HashMap<Character,List<String>>> mapAppendToList = (map, s) -> {\n",
    "    List<String> val = map.get(getSecChar.apply(s));\n",
    "    if (val == null) {\n",
    "        val = new ArrayList<String> ();\n",
    "        map.put(getSecChar.apply(s), val);\n",
    "    }\n",
    "    val.add(s);\n",
    "    return map;\n",
    "};\n",
    "\n",
    "// \n",
    "HashMap<Character, List<String>> groupBySecondChar = st.collect(\n",
    "    HashMap::new,\n",
    "    (map, s) -> mapAppendToList.apply(map, s),\n",
    "    HashMap::putAll\n",
    ");\n",
    "\n",
    "return groupBySecondChar;"
   ]
  }
 ],
 "metadata": {
  "kernelspec": {
   "display_name": "Java",
   "language": "java",
   "name": "java"
  },
  "language_info": {
   "codemirror_mode": "text/x-java",
   "file_extension": ".java",
   "mimetype": "",
   "name": "Java",
   "nbconverter_exporter": "",
   "version": "11.0.1"
  },
  "toc": {
   "base_numbering": 1,
   "nav_menu": {},
   "number_sections": false,
   "sideBar": false,
   "skip_h1_title": false,
   "title_cell": "Table of Contents",
   "title_sidebar": "Contents",
   "toc_cell": false,
   "toc_position": {},
   "toc_section_display": false,
   "toc_window_display": false
  }
 },
 "nbformat": 4,
 "nbformat_minor": 2
}

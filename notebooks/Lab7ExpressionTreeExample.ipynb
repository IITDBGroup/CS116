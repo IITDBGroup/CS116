{
 "cells": [
  {
   "cell_type": "code",
   "execution_count": 2,
   "metadata": {},
   "outputs": [
    {
     "data": {
      "text/plain": [
       "lecture.Expr"
      ]
     },
     "execution_count": 2,
     "metadata": {},
     "output_type": "execute_result"
    }
   ],
   "source": [
    "package lecture;\n",
    "\n",
    "import java.util.HashMap;\n",
    "\n",
    "\n",
    "public abstract class Expr {\n",
    "    \n",
    "    // expressions may have children (the subexpressions that are their inputs)\n",
    "    public Expr[] children;\n",
    "    \n",
    "    // given an binding for the variables of the expression (in this example we are considering expressions over integer variables), we want to be able to evaluate the expression\n",
    "    public abstract int eval(HashMap<String,Integer> v);\n",
    "}"
   ]
  },
  {
   "cell_type": "code",
   "execution_count": 3,
   "metadata": {},
   "outputs": [
    {
     "data": {
      "text/plain": [
       "lecture.Addition"
      ]
     },
     "execution_count": 3,
     "metadata": {},
     "output_type": "execute_result"
    }
   ],
   "source": [
    "package lecture;\n",
    "\n",
    "import java.util.HashMap;\n",
    "\n",
    "// an addition sums up the result of its left and right child expression\n",
    "public class Addition extends Expr {\n",
    "    \n",
    "    // we are passing the two children of the addition as parameters to the constructor\n",
    "    public Addition(Expr left, Expr right) {\n",
    "        this.children = new Expr[2];\n",
    "        this.children[0] = left;\n",
    "        this.children[1] = right;\n",
    "    }\n",
    "    \n",
    "    // to evaluate an addition we compute the value of its left and right input and then add them up\n",
    "    public int eval(HashMap<String,Integer> v) {\n",
    "        return children[0].eval(v) + children[1].eval(v);\n",
    "    }\n",
    "}"
   ]
  },
  {
   "cell_type": "code",
   "execution_count": 4,
   "metadata": {},
   "outputs": [
    {
     "data": {
      "text/plain": [
       "lecture.Variable"
      ]
     },
     "execution_count": 4,
     "metadata": {},
     "output_type": "execute_result"
    }
   ],
   "source": [
    "package lecture;\n",
    "\n",
    "import java.util.HashMap;\n",
    "\n",
    "// variables are expression which just have a name\n",
    "public class Variable extends Expr {\n",
    "    \n",
    "    public String name;\n",
    "    \n",
    "    public Variable (String name) {\n",
    "        this.name = name;\n",
    "    }\n",
    "    \n",
    "    // the result of applying a valuation to a variable is the value assigned to the variable by the valuation, e.g., for a valuation x = 10, the expression \"x\" evaluates to 10\n",
    "    public int eval(HashMap<String, Integer> v) {\n",
    "        return v.get(this.name);\n",
    "    }\n",
    "}"
   ]
  },
  {
   "cell_type": "code",
   "execution_count": 6,
   "metadata": {},
   "outputs": [
    {
     "data": {
      "text/plain": [
       "40"
      ]
     },
     "execution_count": 6,
     "metadata": {},
     "output_type": "execute_result"
    }
   ],
   "source": [
    "import lecture.Addition;\n",
    "import lecture.Variable;\n",
    "import lecture.Expr;\n",
    "\n",
    "import java.util.HashMap;\n",
    "\n",
    "// we create an expression tree for (x + y) + z\n",
    "Expr e = new Addition (new Addition(new Variable(\"x\"), new Variable(\"y\")), new Variable(\"z\"));\n",
    "// we are binding x = 10, y = 10, z = 10\n",
    "HashMap<String,Integer> v = new HashMap<>();\n",
    "v.put(\"x\", 20);\n",
    "v.put(\"y\", 10);\n",
    "v.put(\"z\", 10);\n",
    "// evaluating the expression e with this bindings we get (10 + 10) + 10 = 30\n",
    "return e.eval(v);"
   ]
  }
 ],
 "metadata": {
  "kernelspec": {
   "display_name": "Java",
   "language": "java",
   "name": "java"
  },
  "language_info": {
   "codemirror_mode": "text/x-java",
   "file_extension": ".java",
   "mimetype": "",
   "name": "Java",
   "nbconverter_exporter": "",
   "version": "11.0.1"
  },
  "toc": {
   "base_numbering": 1,
   "nav_menu": {},
   "number_sections": false,
   "sideBar": false,
   "skip_h1_title": false,
   "title_cell": "Table of Contents",
   "title_sidebar": "Contents",
   "toc_cell": false,
   "toc_position": {},
   "toc_section_display": false,
   "toc_window_display": false
  }
 },
 "nbformat": 4,
 "nbformat_minor": 2
}
